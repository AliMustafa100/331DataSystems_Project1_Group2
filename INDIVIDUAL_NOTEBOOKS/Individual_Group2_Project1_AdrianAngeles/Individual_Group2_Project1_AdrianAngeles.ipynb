{
    "metadata": {
        "kernelspec": {
            "name": "SQL",
            "display_name": "SQL",
            "language": "sql"
        },
        "language_info": {
            "name": "sql",
            "version": ""
        }
    },
    "nbformat_minor": 2,
    "nbformat": 4,
    "cells": [
        {
            "cell_type": "markdown",
            "source": [
                "# Mystery #1 - The Phantom Profits\n",
                "\n",
                "## As the end of the 2016 fiscal year approached, the Accounting Team had realized that the records were not adding up, high-end transactions were disappearing and orders were being modified. It had become apparent that someone on the inside was siphoning funds. It's your job to find out who this thief within the company is."
            ],
            "metadata": {
                "azdata_cell_guid": "c28634a5-9e49-4c41-b914-807cc1bba1da"
            },
            "attachments": {}
        },
        {
            "cell_type": "markdown",
            "source": [
                "Task 1 (Query 1): Determine the biggest purchase made in 2016\n",
                "\n",
                "\\- Retrieves the top 10 transactions, displaying transaction details, customer information, transaction type, and employee  <span style=\"color: var(--vscode-foreground);\">processor</span>\n",
                "\n",
                "\\- Filters Year to 2016 to sort through highest to lowest transactions\n",
                "\n",
                "\\- Accomplished through joins of Sales.CustomerTransactions, <span style=\"color: rgb(33, 33, 33); font-family: Consolas, &quot;Courier New&quot;, monospace; font-size: 12px; white-space: pre;\">Sales.Customers, Application.TransactionTypes, Application.People</span>"
            ],
            "metadata": {
                "azdata_cell_guid": "ec776584-b424-4bbc-bed6-80c4115e82a1"
            },
            "attachments": {}
        },
        {
            "cell_type": "code",
            "source": [
                "SELECT TOP 10\r\n",
                "    ct.CustomerTransactionID,\r\n",
                "    ct.CustomerID,\r\n",
                "    ct.TransactionAmount,\r\n",
                "    ct.TransactionDate,\r\n",
                "    c.CustomerName,\r\n",
                "    tt.TransactionTypeName,\r\n",
                "    p.FullName AS ProcessedBy\r\n",
                "FROM Sales.CustomerTransactions ct\r\n",
                "INNER JOIN Sales.Customers c ON ct.CustomerID = c.CustomerID\r\n",
                "INNER JOIN Application.TransactionTypes tt ON ct.TransactionTypeID = tt.TransactionTypeID\r\n",
                "INNER JOIN Application.People p ON ct.LastEditedBy = p.PersonID\r\n",
                "WHERE YEAR(ct.TransactionDate) = 2016\r\n",
                "ORDER BY ct.TransactionAmount DESC"
            ],
            "metadata": {
                "azdata_cell_guid": "b43722cd-04b0-41fa-9527-43fb2b4b0c1f",
                "language": "sql",
                "tags": []
            },
            "outputs": [
                {
                    "output_type": "display_data",
                    "data": {
                        "text/html": "(10 rows affected)"
                    },
                    "metadata": {}
                },
                {
                    "output_type": "display_data",
                    "data": {
                        "text/html": "Total execution time: 00:00:00.064"
                    },
                    "metadata": {}
                },
                {
                    "output_type": "execute_result",
                    "metadata": {},
                    "execution_count": 97,
                    "data": {
                        "application/vnd.dataresource+json": {
                            "schema": {
                                "fields": [
                                    {
                                        "name": "CustomerTransactionID"
                                    },
                                    {
                                        "name": "CustomerID"
                                    },
                                    {
                                        "name": "TransactionAmount"
                                    },
                                    {
                                        "name": "TransactionDate"
                                    },
                                    {
                                        "name": "CustomerName"
                                    },
                                    {
                                        "name": "TransactionTypeName"
                                    },
                                    {
                                        "name": "ProcessedBy"
                                    }
                                ]
                            },
                            "data": [
                                {
                                    "CustomerTransactionID": "306399",
                                    "CustomerID": "1",
                                    "TransactionAmount": "33966.40",
                                    "TransactionDate": "2016-02-20",
                                    "CustomerName": "Tailspin Toys (Head Office)",
                                    "TransactionTypeName": "Customer Invoice",
                                    "ProcessedBy": "Jack Potter"
                                },
                                {
                                    "CustomerTransactionID": "319701",
                                    "CustomerID": "1043",
                                    "TransactionAmount": "31489.30",
                                    "TransactionDate": "2016-04-07",
                                    "CustomerName": "Raj Verma",
                                    "TransactionTypeName": "Customer Invoice",
                                    "ProcessedBy": "Kayla Woodcock"
                                },
                                {
                                    "CustomerTransactionID": "329234",
                                    "CustomerID": "401",
                                    "TransactionAmount": "31470.90",
                                    "TransactionDate": "2016-05-07",
                                    "CustomerName": "Wingtip Toys (Head Office)",
                                    "TransactionTypeName": "Customer Invoice",
                                    "ProcessedBy": "Eva Muirden"
                                },
                                {
                                    "CustomerTransactionID": "335968",
                                    "CustomerID": "401",
                                    "TransactionAmount": "28280.80",
                                    "TransactionDate": "2016-05-31",
                                    "CustomerName": "Wingtip Toys (Head Office)",
                                    "TransactionTypeName": "Customer Invoice",
                                    "ProcessedBy": "Hudson Onslow"
                                },
                                {
                                    "CustomerTransactionID": "314402",
                                    "CustomerID": "1",
                                    "TransactionAmount": "27219.12",
                                    "TransactionDate": "2016-03-21",
                                    "CustomerName": "Tailspin Toys (Head Office)",
                                    "TransactionTypeName": "Customer Invoice",
                                    "ProcessedBy": "Sophia Hinton"
                                },
                                {
                                    "CustomerTransactionID": "294972",
                                    "CustomerID": "1056",
                                    "TransactionAmount": "25334.94",
                                    "TransactionDate": "2016-01-07",
                                    "CustomerName": "Kalyani Benjaree",
                                    "TransactionTypeName": "Customer Invoice",
                                    "ProcessedBy": "Lily Code"
                                },
                                {
                                    "CustomerTransactionID": "296180",
                                    "CustomerID": "1",
                                    "TransactionAmount": "25247.55",
                                    "TransactionDate": "2016-01-12",
                                    "CustomerName": "Tailspin Toys (Head Office)",
                                    "TransactionTypeName": "Customer Invoice",
                                    "ProcessedBy": "Anthony Grosse"
                                },
                                {
                                    "CustomerTransactionID": "330404",
                                    "CustomerID": "401",
                                    "TransactionAmount": "24735.80",
                                    "TransactionDate": "2016-05-12",
                                    "CustomerName": "Wingtip Toys (Head Office)",
                                    "TransactionTypeName": "Customer Invoice",
                                    "ProcessedBy": "Hudson Onslow"
                                },
                                {
                                    "CustomerTransactionID": "302334",
                                    "CustomerID": "983",
                                    "TransactionAmount": "24110.90",
                                    "TransactionDate": "2016-02-03",
                                    "CustomerName": "Sabine Alksne",
                                    "TransactionTypeName": "Customer Invoice",
                                    "ProcessedBy": "Stella Rosenhain"
                                },
                                {
                                    "CustomerTransactionID": "328915",
                                    "CustomerID": "904",
                                    "TransactionAmount": "23877.45",
                                    "TransactionDate": "2016-05-06",
                                    "CustomerName": "Olafs Rozitis",
                                    "TransactionTypeName": "Customer Invoice",
                                    "ProcessedBy": "Kayla Woodcock"
                                }
                            ]
                        },
                        "text/html": [
                            "<table>",
                            "<tr><th>CustomerTransactionID</th><th>CustomerID</th><th>TransactionAmount</th><th>TransactionDate</th><th>CustomerName</th><th>TransactionTypeName</th><th>ProcessedBy</th></tr>",
                            "<tr><td>306399</td><td>1</td><td>33966.40</td><td>2016-02-20</td><td>Tailspin Toys (Head Office)</td><td>Customer Invoice</td><td>Jack Potter</td></tr>",
                            "<tr><td>319701</td><td>1043</td><td>31489.30</td><td>2016-04-07</td><td>Raj Verma</td><td>Customer Invoice</td><td>Kayla Woodcock</td></tr>",
                            "<tr><td>329234</td><td>401</td><td>31470.90</td><td>2016-05-07</td><td>Wingtip Toys (Head Office)</td><td>Customer Invoice</td><td>Eva Muirden</td></tr>",
                            "<tr><td>335968</td><td>401</td><td>28280.80</td><td>2016-05-31</td><td>Wingtip Toys (Head Office)</td><td>Customer Invoice</td><td>Hudson Onslow</td></tr>",
                            "<tr><td>314402</td><td>1</td><td>27219.12</td><td>2016-03-21</td><td>Tailspin Toys (Head Office)</td><td>Customer Invoice</td><td>Sophia Hinton</td></tr>",
                            "<tr><td>294972</td><td>1056</td><td>25334.94</td><td>2016-01-07</td><td>Kalyani Benjaree</td><td>Customer Invoice</td><td>Lily Code</td></tr>",
                            "<tr><td>296180</td><td>1</td><td>25247.55</td><td>2016-01-12</td><td>Tailspin Toys (Head Office)</td><td>Customer Invoice</td><td>Anthony Grosse</td></tr>",
                            "<tr><td>330404</td><td>401</td><td>24735.80</td><td>2016-05-12</td><td>Wingtip Toys (Head Office)</td><td>Customer Invoice</td><td>Hudson Onslow</td></tr>",
                            "<tr><td>302334</td><td>983</td><td>24110.90</td><td>2016-02-03</td><td>Sabine Alksne</td><td>Customer Invoice</td><td>Stella Rosenhain</td></tr>",
                            "<tr><td>328915</td><td>904</td><td>23877.45</td><td>2016-05-06</td><td>Olafs Rozitis</td><td>Customer Invoice</td><td>Kayla Woodcock</td></tr>",
                            "</table>"
                        ]
                    }
                }
            ],
            "execution_count": 97
        },
        {
            "cell_type": "markdown",
            "source": [
                "Task 2 (Query 2) : Check every detail regarding the customer from Task 1  \n",
                "\\- Displays information about customer like identity, finances, classification, contact info, and location info  \n",
                "\\- Combines data through joins on Sales.Customers, Sales.CustomerCategories, Sales.BuyingGroups, Application.People, Application.Cities, Application.StateProvinces  \n",
                "\\- Specifically narrows down on the Customer from Task 1 via their CustomerID"
            ],
            "metadata": {
                "language": "sql",
                "azdata_cell_guid": "f15ccb27-a9d8-4f19-b114-3780b0ad2b2c"
            },
            "attachments": {}
        },
        {
            "cell_type": "code",
            "source": [
                "SELECT \r\n",
                "    c.CustomerID,\r\n",
                "    c.CustomerName,\r\n",
                "    c.CreditLimit,\r\n",
                "    cat.CustomerCategoryName,\r\n",
                "    bg.BuyingGroupName,\r\n",
                "    p.FullName AS PrimaryContact,\r\n",
                "    c.PhoneNumber,\r\n",
                "    city.CityName,\r\n",
                "    sp.StateProvinceName\r\n",
                "FROM Sales.Customers c\r\n",
                "INNER JOIN Sales.CustomerCategories cat ON c.CustomerCategoryID = cat.CustomerCategoryID\r\n",
                "LEFT JOIN Sales.BuyingGroups bg ON c.BuyingGroupID = bg.BuyingGroupID\r\n",
                "INNER JOIN Application.People p ON c.PrimaryContactPersonID = p.PersonID\r\n",
                "INNER JOIN Application.Cities city ON c.DeliveryCityID = city.CityID\r\n",
                "INNER JOIN Application.StateProvinces sp ON city.StateProvinceID = sp.StateProvinceID\r\n",
                "WHERE c.CustomerID = 1 -- Uses the CustomerID from Query 1\r\n",
                ""
            ],
            "metadata": {
                "azdata_cell_guid": "c0a05593-50c8-452a-87a3-43206ff14c23",
                "language": "sql"
            },
            "outputs": [
                {
                    "output_type": "display_data",
                    "data": {
                        "text/html": "(1 row affected)"
                    },
                    "metadata": {}
                },
                {
                    "output_type": "display_data",
                    "data": {
                        "text/html": "Total execution time: 00:00:00.019"
                    },
                    "metadata": {}
                },
                {
                    "output_type": "execute_result",
                    "metadata": {},
                    "execution_count": 99,
                    "data": {
                        "application/vnd.dataresource+json": {
                            "schema": {
                                "fields": [
                                    {
                                        "name": "CustomerID"
                                    },
                                    {
                                        "name": "CustomerName"
                                    },
                                    {
                                        "name": "CreditLimit"
                                    },
                                    {
                                        "name": "CustomerCategoryName"
                                    },
                                    {
                                        "name": "BuyingGroupName"
                                    },
                                    {
                                        "name": "PrimaryContact"
                                    },
                                    {
                                        "name": "PhoneNumber"
                                    },
                                    {
                                        "name": "CityName"
                                    },
                                    {
                                        "name": "StateProvinceName"
                                    }
                                ]
                            },
                            "data": [
                                {
                                    "CustomerID": "1",
                                    "CustomerName": "Tailspin Toys (Head Office)",
                                    "CreditLimit": "NULL",
                                    "CustomerCategoryName": "Novelty Shop",
                                    "BuyingGroupName": "Tailspin Toys",
                                    "PrimaryContact": "Waldemar Fisar",
                                    "PhoneNumber": "(308) 555-0100",
                                    "CityName": "Lisco",
                                    "StateProvinceName": "Nebraska"
                                }
                            ]
                        },
                        "text/html": [
                            "<table>",
                            "<tr><th>CustomerID</th><th>CustomerName</th><th>CreditLimit</th><th>CustomerCategoryName</th><th>BuyingGroupName</th><th>PrimaryContact</th><th>PhoneNumber</th><th>CityName</th><th>StateProvinceName</th></tr>",
                            "<tr><td>1</td><td>Tailspin Toys (Head Office)</td><td>NULL</td><td>Novelty Shop</td><td>Tailspin Toys</td><td>Waldemar Fisar</td><td>(308) 555-0100</td><td>Lisco</td><td>Nebraska</td></tr>",
                            "</table>"
                        ]
                    }
                }
            ],
            "execution_count": 99
        },
        {
            "cell_type": "markdown",
            "source": [
                "Task 3 (Query 3) : Go through each invoice from this Customer and look for any discrepencies\n",
                "\n",
                "\\- Shows how much was invoiced from the year 2016 via the invoice's ID, date, profit, totaled amount, and the suspected Customer ID  \n",
                "\\- Joines Sales.Invoices and Sales.InvoiceLines  \n",
                "\\- Groups all Lines belonging  to the same invoice and orders them from Highest to Lowest"
            ],
            "metadata": {
                "language": "sql",
                "azdata_cell_guid": "25856200-0b28-4ebd-974f-aa2f70dee2cf"
            },
            "attachments": {}
        },
        {
            "cell_type": "code",
            "source": [
                "SELECT \r\n",
                "    i.InvoiceID,\r\n",
                "    i.InvoiceDate,\r\n",
                "    SUM(il.LineProfit) AS TotalProfit,\r\n",
                "    SUM(il.ExtendedPrice) AS TotalInvoiced,\r\n",
                "    i.CustomerID\r\n",
                "FROM Sales.Invoices i\r\n",
                "INNER JOIN Sales.InvoiceLines il ON i.InvoiceID = il.InvoiceID\r\n",
                "WHERE i.CustomerID = 1\r\n",
                "    AND YEAR(i.InvoiceDate) = 2016\r\n",
                "GROUP BY i.InvoiceID, i.InvoiceDate, i.CustomerID\r\n",
                "ORDER BY TotalInvoiced DESC"
            ],
            "metadata": {
                "azdata_cell_guid": "706bf9ae-9143-4d33-bb00-2ce746c983a1",
                "language": "sql"
            },
            "outputs": [
                {
                    "output_type": "display_data",
                    "data": {
                        "text/html": "(9 rows affected)"
                    },
                    "metadata": {}
                },
                {
                    "output_type": "display_data",
                    "data": {
                        "text/html": "Total execution time: 00:00:00.075"
                    },
                    "metadata": {}
                },
                {
                    "output_type": "execute_result",
                    "metadata": {},
                    "execution_count": 100,
                    "data": {
                        "application/vnd.dataresource+json": {
                            "schema": {
                                "fields": [
                                    {
                                        "name": "InvoiceID"
                                    },
                                    {
                                        "name": "InvoiceDate"
                                    },
                                    {
                                        "name": "TotalProfit"
                                    },
                                    {
                                        "name": "TotalInvoiced"
                                    },
                                    {
                                        "name": "CustomerID"
                                    }
                                ]
                            },
                            "data": [
                                {
                                    "InvoiceID": "63524",
                                    "InvoiceDate": "2016-02-06",
                                    "TotalProfit": "786.00",
                                    "TotalInvoiced": "3174.00",
                                    "CustomerID": "1"
                                },
                                {
                                    "InvoiceID": "62847",
                                    "InvoiceDate": "2016-01-25",
                                    "TotalProfit": "1292.00",
                                    "TotalInvoiced": "3160.20",
                                    "CustomerID": "1"
                                },
                                {
                                    "InvoiceID": "70232",
                                    "InvoiceDate": "2016-05-27",
                                    "TotalProfit": "1070.00",
                                    "TotalInvoiced": "2530.00",
                                    "CustomerID": "1"
                                },
                                {
                                    "InvoiceID": "63685",
                                    "InvoiceDate": "2016-02-11",
                                    "TotalProfit": "792.00",
                                    "TotalInvoiced": "1490.40",
                                    "CustomerID": "1"
                                },
                                {
                                    "InvoiceID": "62922",
                                    "InvoiceDate": "2016-01-26",
                                    "TotalProfit": "514.40",
                                    "TotalInvoiced": "1308.58",
                                    "CustomerID": "1"
                                },
                                {
                                    "InvoiceID": "62415",
                                    "InvoiceDate": "2016-01-18",
                                    "TotalProfit": "598.00",
                                    "TotalInvoiced": "1119.87",
                                    "CustomerID": "1"
                                },
                                {
                                    "InvoiceID": "68177",
                                    "InvoiceDate": "2016-04-26",
                                    "TotalProfit": "476.40",
                                    "TotalInvoiced": "934.44",
                                    "CustomerID": "1"
                                },
                                {
                                    "InvoiceID": "68338",
                                    "InvoiceDate": "2016-04-28",
                                    "TotalProfit": "321.50",
                                    "TotalInvoiced": "707.25",
                                    "CustomerID": "1"
                                },
                                {
                                    "InvoiceID": "63489",
                                    "InvoiceDate": "2016-02-05",
                                    "TotalProfit": "293.00",
                                    "TotalInvoiced": "646.30",
                                    "CustomerID": "1"
                                }
                            ]
                        },
                        "text/html": [
                            "<table>",
                            "<tr><th>InvoiceID</th><th>InvoiceDate</th><th>TotalProfit</th><th>TotalInvoiced</th><th>CustomerID</th></tr>",
                            "<tr><td>63524</td><td>2016-02-06</td><td>786.00</td><td>3174.00</td><td>1</td></tr>",
                            "<tr><td>62847</td><td>2016-01-25</td><td>1292.00</td><td>3160.20</td><td>1</td></tr>",
                            "<tr><td>70232</td><td>2016-05-27</td><td>1070.00</td><td>2530.00</td><td>1</td></tr>",
                            "<tr><td>63685</td><td>2016-02-11</td><td>792.00</td><td>1490.40</td><td>1</td></tr>",
                            "<tr><td>62922</td><td>2016-01-26</td><td>514.40</td><td>1308.58</td><td>1</td></tr>",
                            "<tr><td>62415</td><td>2016-01-18</td><td>598.00</td><td>1119.87</td><td>1</td></tr>",
                            "<tr><td>68177</td><td>2016-04-26</td><td>476.40</td><td>934.44</td><td>1</td></tr>",
                            "<tr><td>68338</td><td>2016-04-28</td><td>321.50</td><td>707.25</td><td>1</td></tr>",
                            "<tr><td>63489</td><td>2016-02-05</td><td>293.00</td><td>646.30</td><td>1</td></tr>",
                            "</table>"
                        ]
                    }
                }
            ],
            "execution_count": 100
        },
        {
            "cell_type": "markdown",
            "source": [
                "Task 4 (Query 4) : Display who's been accessing and editing these invoices the most and look for anything suspicious\n",
                "\n",
                "\\- Shows the editors for that specific CustomerID's Transactions and how often they edited it, the first and last edit, and the total sum of those transactions\n",
                "\n",
                "\\- Joins Application.People and ct.LastEditedBy\n",
                "\n",
                "\\- Groups by full name and ordered most edits"
            ],
            "metadata": {
                "azdata_cell_guid": "bc087201-390d-424c-aa1b-bd1bda035294"
            },
            "attachments": {}
        },
        {
            "cell_type": "code",
            "source": [
                "SELECT \r\n",
                "    p.FullName AS EditedBy,\r\n",
                "    COUNT(*) AS TimesEdited,\r\n",
                "    MIN(ct.LastEditedWhen) AS FirstEdit,\r\n",
                "    MAX(ct.LastEditedWhen) AS LastEdit,\r\n",
                "    SUM(ct.TransactionAmount) AS TotalAmountHandled\r\n",
                "FROM Sales.CustomerTransactions ct\r\n",
                "INNER JOIN Application.People p ON ct.LastEditedBy = p.PersonID\r\n",
                "WHERE ct.CustomerID = 1\r\n",
                "GROUP BY p.FullName\r\n",
                "ORDER BY TimesEdited DESC"
            ],
            "metadata": {
                "azdata_cell_guid": "86b5722e-0e2d-42e9-ad8d-1beb422ba127",
                "language": "sql"
            },
            "outputs": [
                {
                    "output_type": "display_data",
                    "data": {
                        "text/html": "(19 rows affected)"
                    },
                    "metadata": {}
                },
                {
                    "output_type": "display_data",
                    "data": {
                        "text/html": "Total execution time: 00:00:00.040"
                    },
                    "metadata": {}
                },
                {
                    "output_type": "execute_result",
                    "metadata": {},
                    "execution_count": 101,
                    "data": {
                        "application/vnd.dataresource+json": {
                            "schema": {
                                "fields": [
                                    {
                                        "name": "EditedBy"
                                    },
                                    {
                                        "name": "TimesEdited"
                                    },
                                    {
                                        "name": "FirstEdit"
                                    },
                                    {
                                        "name": "LastEdit"
                                    },
                                    {
                                        "name": "TotalAmountHandled"
                                    }
                                ]
                            },
                            "data": [
                                {
                                    "EditedBy": "Anthony Grosse",
                                    "TimesEdited": "1449",
                                    "FirstEdit": "2013-01-17 11:30:00.0000000",
                                    "LastEdit": "2016-05-29 11:30:00.0000000",
                                    "TotalAmountHandled": "0.00"
                                },
                                {
                                    "EditedBy": "Stella Rosenhain",
                                    "TimesEdited": "1443",
                                    "FirstEdit": "2013-01-02 11:30:00.0000000",
                                    "LastEdit": "2016-05-14 11:30:00.0000000",
                                    "TotalAmountHandled": "0.00"
                                },
                                {
                                    "EditedBy": "Kayla Woodcock",
                                    "TimesEdited": "1429",
                                    "FirstEdit": "2013-01-09 11:30:00.0000000",
                                    "LastEdit": "2016-05-21 11:30:00.0000000",
                                    "TotalAmountHandled": "0.00"
                                },
                                {
                                    "EditedBy": "Hudson Onslow",
                                    "TimesEdited": "1408",
                                    "FirstEdit": "2013-01-16 11:30:00.0000000",
                                    "LastEdit": "2016-05-31 12:00:00.0000000",
                                    "TotalAmountHandled": "56435.84"
                                },
                                {
                                    "EditedBy": "Alica Fatnowna",
                                    "TimesEdited": "1375",
                                    "FirstEdit": "2013-01-04 11:30:00.0000000",
                                    "LastEdit": "2016-05-27 11:30:00.0000000",
                                    "TotalAmountHandled": "0.00"
                                },
                                {
                                    "EditedBy": "Jack Potter",
                                    "TimesEdited": "1350",
                                    "FirstEdit": "2013-01-06 11:30:00.0000000",
                                    "LastEdit": "2016-05-26 11:30:00.0000000",
                                    "TotalAmountHandled": "0.00"
                                },
                                {
                                    "EditedBy": "Henry Forlonge",
                                    "TimesEdited": "1305",
                                    "FirstEdit": "2013-01-13 11:30:00.0000000",
                                    "LastEdit": "2016-04-16 11:30:00.0000000",
                                    "TotalAmountHandled": "0.00"
                                },
                                {
                                    "EditedBy": "Taj Shand",
                                    "TimesEdited": "1269",
                                    "FirstEdit": "2013-01-10 11:30:00.0000000",
                                    "LastEdit": "2016-05-24 11:30:00.0000000",
                                    "TotalAmountHandled": "0.00"
                                },
                                {
                                    "EditedBy": "Katie Darwin",
                                    "TimesEdited": "1266",
                                    "FirstEdit": "2013-01-11 11:30:00.0000000",
                                    "LastEdit": "2016-05-31 11:30:00.0000000",
                                    "TotalAmountHandled": "0.00"
                                },
                                {
                                    "EditedBy": "Hudson Hollinworth",
                                    "TimesEdited": "1240",
                                    "FirstEdit": "2013-01-22 11:30:00.0000000",
                                    "LastEdit": "2016-05-12 11:30:00.0000000",
                                    "TotalAmountHandled": "0.00"
                                },
                                {
                                    "EditedBy": "Piper Koch",
                                    "TimesEdited": "1223",
                                    "FirstEdit": "2013-01-05 11:30:00.0000000",
                                    "LastEdit": "2016-05-19 11:30:00.0000000",
                                    "TotalAmountHandled": "0.00"
                                },
                                {
                                    "EditedBy": "Lily Code",
                                    "TimesEdited": "1202",
                                    "FirstEdit": "2013-01-08 11:30:00.0000000",
                                    "LastEdit": "2016-04-22 11:30:00.0000000",
                                    "TotalAmountHandled": "0.00"
                                },
                                {
                                    "EditedBy": "Ethan Onslow",
                                    "TimesEdited": "1180",
                                    "FirstEdit": "2013-01-12 11:30:00.0000000",
                                    "LastEdit": "2016-04-24 11:30:00.0000000",
                                    "TotalAmountHandled": "0.00"
                                },
                                {
                                    "EditedBy": "Eva Muirden",
                                    "TimesEdited": "1138",
                                    "FirstEdit": "2013-02-05 11:30:00.0000000",
                                    "LastEdit": "2016-05-08 11:30:00.0000000",
                                    "TotalAmountHandled": "0.00"
                                },
                                {
                                    "EditedBy": "Archer Lamble",
                                    "TimesEdited": "1123",
                                    "FirstEdit": "2013-01-15 11:30:00.0000000",
                                    "LastEdit": "2016-04-10 11:30:00.0000000",
                                    "TotalAmountHandled": "0.00"
                                },
                                {
                                    "EditedBy": "Jai Shand",
                                    "TimesEdited": "1039",
                                    "FirstEdit": "2013-02-03 11:30:00.0000000",
                                    "LastEdit": "2016-04-30 11:30:00.0000000",
                                    "TotalAmountHandled": "0.00"
                                },
                                {
                                    "EditedBy": "Sophia Hinton",
                                    "TimesEdited": "1038",
                                    "FirstEdit": "2013-01-30 11:30:00.0000000",
                                    "LastEdit": "2016-05-15 11:30:00.0000000",
                                    "TotalAmountHandled": "0.00"
                                },
                                {
                                    "EditedBy": "Amy Trefl",
                                    "TimesEdited": "999",
                                    "FirstEdit": "2013-01-03 11:30:00.0000000",
                                    "LastEdit": "2016-04-28 11:30:00.0000000",
                                    "TotalAmountHandled": "0.00"
                                },
                                {
                                    "EditedBy": "Isabella Rupp",
                                    "TimesEdited": "908",
                                    "FirstEdit": "2013-01-20 11:30:00.0000000",
                                    "LastEdit": "2016-05-22 11:30:00.0000000",
                                    "TotalAmountHandled": "0.00"
                                }
                            ]
                        },
                        "text/html": [
                            "<table>",
                            "<tr><th>EditedBy</th><th>TimesEdited</th><th>FirstEdit</th><th>LastEdit</th><th>TotalAmountHandled</th></tr>",
                            "<tr><td>Anthony Grosse</td><td>1449</td><td>2013-01-17 11:30:00.0000000</td><td>2016-05-29 11:30:00.0000000</td><td>0.00</td></tr>",
                            "<tr><td>Stella Rosenhain</td><td>1443</td><td>2013-01-02 11:30:00.0000000</td><td>2016-05-14 11:30:00.0000000</td><td>0.00</td></tr>",
                            "<tr><td>Kayla Woodcock</td><td>1429</td><td>2013-01-09 11:30:00.0000000</td><td>2016-05-21 11:30:00.0000000</td><td>0.00</td></tr>",
                            "<tr><td>Hudson Onslow</td><td>1408</td><td>2013-01-16 11:30:00.0000000</td><td>2016-05-31 12:00:00.0000000</td><td>56435.84</td></tr>",
                            "<tr><td>Alica Fatnowna</td><td>1375</td><td>2013-01-04 11:30:00.0000000</td><td>2016-05-27 11:30:00.0000000</td><td>0.00</td></tr>",
                            "<tr><td>Jack Potter</td><td>1350</td><td>2013-01-06 11:30:00.0000000</td><td>2016-05-26 11:30:00.0000000</td><td>0.00</td></tr>",
                            "<tr><td>Henry Forlonge</td><td>1305</td><td>2013-01-13 11:30:00.0000000</td><td>2016-04-16 11:30:00.0000000</td><td>0.00</td></tr>",
                            "<tr><td>Taj Shand</td><td>1269</td><td>2013-01-10 11:30:00.0000000</td><td>2016-05-24 11:30:00.0000000</td><td>0.00</td></tr>",
                            "<tr><td>Katie Darwin</td><td>1266</td><td>2013-01-11 11:30:00.0000000</td><td>2016-05-31 11:30:00.0000000</td><td>0.00</td></tr>",
                            "<tr><td>Hudson Hollinworth</td><td>1240</td><td>2013-01-22 11:30:00.0000000</td><td>2016-05-12 11:30:00.0000000</td><td>0.00</td></tr>",
                            "<tr><td>Piper Koch</td><td>1223</td><td>2013-01-05 11:30:00.0000000</td><td>2016-05-19 11:30:00.0000000</td><td>0.00</td></tr>",
                            "<tr><td>Lily Code</td><td>1202</td><td>2013-01-08 11:30:00.0000000</td><td>2016-04-22 11:30:00.0000000</td><td>0.00</td></tr>",
                            "<tr><td>Ethan Onslow</td><td>1180</td><td>2013-01-12 11:30:00.0000000</td><td>2016-04-24 11:30:00.0000000</td><td>0.00</td></tr>",
                            "<tr><td>Eva Muirden</td><td>1138</td><td>2013-02-05 11:30:00.0000000</td><td>2016-05-08 11:30:00.0000000</td><td>0.00</td></tr>",
                            "<tr><td>Archer Lamble</td><td>1123</td><td>2013-01-15 11:30:00.0000000</td><td>2016-04-10 11:30:00.0000000</td><td>0.00</td></tr>",
                            "<tr><td>Jai Shand</td><td>1039</td><td>2013-02-03 11:30:00.0000000</td><td>2016-04-30 11:30:00.0000000</td><td>0.00</td></tr>",
                            "<tr><td>Sophia Hinton</td><td>1038</td><td>2013-01-30 11:30:00.0000000</td><td>2016-05-15 11:30:00.0000000</td><td>0.00</td></tr>",
                            "<tr><td>Amy Trefl</td><td>999</td><td>2013-01-03 11:30:00.0000000</td><td>2016-04-28 11:30:00.0000000</td><td>0.00</td></tr>",
                            "<tr><td>Isabella Rupp</td><td>908</td><td>2013-01-20 11:30:00.0000000</td><td>2016-05-22 11:30:00.0000000</td><td>0.00</td></tr>",
                            "</table>"
                        ]
                    }
                }
            ],
            "execution_count": 101
        },
        {
            "cell_type": "markdown",
            "source": [
                "Task 5 (Query 5) : Narrow down the suspects and look for any further discrepencies\n",
                "\n",
                "\\- Compares each employee based off of how many customers they've had, their total transactions, their smallest, median, and highest sales, and the biggest sale they've had\n",
                "\n",
                "\\- <span style=\"color: var(--vscode-foreground);\">&nbsp;Joins Application.People and ct.LastEditedBy</span>\n",
                "\n",
                "\\- Focuses on the two most suspicious employees to make the final conclusion"
            ],
            "metadata": {
                "azdata_cell_guid": "933bab54-0547-44f1-8bd5-bdc98d6654e4"
            },
            "attachments": {}
        },
        {
            "cell_type": "code",
            "source": [
                "SELECT \r\n",
                "    p.FullName AS Employee,\r\n",
                "    COUNT(DISTINCT ct.CustomerID) AS CustomersHandled,\r\n",
                "    COUNT(ct.CustomerTransactionID) AS TotalTransactions,\r\n",
                "    MIN(ct.TransactionAmount) AS SmallestTransaction,\r\n",
                "    AVG(ct.TransactionAmount) AS AvgTransaction,\r\n",
                "    MAX(ct.TransactionAmount) AS LargestTransaction,\r\n",
                "    SUM(ct.TransactionAmount) AS TotalAmount\r\n",
                "FROM Sales.CustomerTransactions ct\r\n",
                "INNER JOIN Application.People p ON ct.LastEditedBy = p.PersonID\r\n",
                "WHERE p.FullName IN ('Hudson Onslow', 'Anthony Grosse')  -- Put both suspect names here\r\n",
                "GROUP BY p.FullName\r\n",
                "ORDER BY TotalAmount DESC"
            ],
            "metadata": {
                "language": "sql",
                "azdata_cell_guid": "39d1e2b6-664c-4533-9179-1a0dfd11d11b"
            },
            "outputs": [
                {
                    "output_type": "display_data",
                    "data": {
                        "text/html": "(2 rows affected)"
                    },
                    "metadata": {}
                },
                {
                    "output_type": "display_data",
                    "data": {
                        "text/html": "Total execution time: 00:00:00.037"
                    },
                    "metadata": {}
                },
                {
                    "output_type": "execute_result",
                    "metadata": {},
                    "execution_count": 102,
                    "data": {
                        "application/vnd.dataresource+json": {
                            "schema": {
                                "fields": [
                                    {
                                        "name": "Employee"
                                    },
                                    {
                                        "name": "CustomersHandled"
                                    },
                                    {
                                        "name": "TotalTransactions"
                                    },
                                    {
                                        "name": "SmallestTransaction"
                                    },
                                    {
                                        "name": "AvgTransaction"
                                    },
                                    {
                                        "name": "LargestTransaction"
                                    },
                                    {
                                        "name": "TotalAmount"
                                    }
                                ]
                            },
                            "data": [
                                {
                                    "Employee": "Hudson Onslow",
                                    "CustomersHandled": "259",
                                    "TotalTransactions": "5929",
                                    "SmallestTransaction": "-169387.42",
                                    "AvgTransaction": "45.034818",
                                    "LargestTransaction": "28280.80",
                                    "TotalAmount": "267011.44"
                                },
                                {
                                    "Employee": "Anthony Grosse",
                                    "CustomersHandled": "257",
                                    "TotalTransactions": "6100",
                                    "SmallestTransaction": "-140448.53",
                                    "AvgTransaction": "0.000000",
                                    "LargestTransaction": "25247.55",
                                    "TotalAmount": "0.00"
                                }
                            ]
                        },
                        "text/html": [
                            "<table>",
                            "<tr><th>Employee</th><th>CustomersHandled</th><th>TotalTransactions</th><th>SmallestTransaction</th><th>AvgTransaction</th><th>LargestTransaction</th><th>TotalAmount</th></tr>",
                            "<tr><td>Hudson Onslow</td><td>259</td><td>5929</td><td>-169387.42</td><td>45.034818</td><td>28280.80</td><td>267011.44</td></tr>",
                            "<tr><td>Anthony Grosse</td><td>257</td><td>6100</td><td>-140448.53</td><td>0.000000</td><td>25247.55</td><td>0.00</td></tr>",
                            "</table>"
                        ]
                    }
                }
            ],
            "execution_count": 102
        },
        {
            "cell_type": "markdown",
            "source": [
                "# Mystery #2 - The Cold Case\n",
                "\n",
                "## The Warehouse was typically a non-eventful area of the company. That was until the Health Inspectors arrived at the Facility's freezer area and found out that the Temperature Logs were tampered with. If the FDA shuts down the Cold Storage, the Company could lose a major part of its revenue stream. You must find out who's behind this before further actions are taken."
            ],
            "metadata": {
                "azdata_cell_guid": "3e6700e9-db57-44a8-b6b0-d15e33c73f31"
            },
            "attachments": {}
        },
        {
            "cell_type": "markdown",
            "source": [
                "Task 1 (Query 1): Find out which room is malfunctioning the most ( The regular temperatures range from -10 and -5 Degrees Celsius)\n",
                "\n",
                "\\- Finds the Room with the Highest temperature fluctuation and displays it\n",
                "\n",
                "\\- Subquery calculates the average temperate per sensor \n",
                "\n",
                "\\- Identifies which sensor has been tampered with"
            ],
            "metadata": {
                "azdata_cell_guid": "650a4bdb-759b-47b3-bd5e-f6fe061e03d2"
            },
            "attachments": {}
        },
        {
            "cell_type": "code",
            "source": [
                "SELECT TOP 1\r\n",
                "    ColdRoomTemperatureID,\r\n",
                "    ColdRoomSensorNumber,\r\n",
                "    Temperature,\r\n",
                "    RecordedWhen,\r\n",
                "    (SELECT AVG(Temperature) \r\n",
                "     FROM Warehouse.ColdRoomTemperatures \r\n",
                "     WHERE ColdRoomSensorNumber = crt.ColdRoomSensorNumber) AS AvgTempForSensor\r\n",
                "FROM Warehouse.ColdRoomTemperatures crt\r\n",
                "WHERE Temperature > 4 OR Temperature < 2\r\n",
                "ORDER BY Temperature DESC"
            ],
            "metadata": {
                "azdata_cell_guid": "ec3f0683-f05b-44c8-9cf5-889cbb82f1eb",
                "language": "sql"
            },
            "outputs": [
                {
                    "output_type": "display_data",
                    "data": {
                        "text/html": "(1 row affected)"
                    },
                    "metadata": {}
                },
                {
                    "output_type": "display_data",
                    "data": {
                        "text/html": "Total execution time: 00:00:00.015"
                    },
                    "metadata": {}
                },
                {
                    "output_type": "execute_result",
                    "metadata": {},
                    "execution_count": 103,
                    "data": {
                        "application/vnd.dataresource+json": {
                            "schema": {
                                "fields": [
                                    {
                                        "name": "ColdRoomTemperatureID"
                                    },
                                    {
                                        "name": "ColdRoomSensorNumber"
                                    },
                                    {
                                        "name": "Temperature"
                                    },
                                    {
                                        "name": "RecordedWhen"
                                    },
                                    {
                                        "name": "AvgTempForSensor"
                                    }
                                ]
                            },
                            "data": [
                                {
                                    "ColdRoomTemperatureID": "3654738",
                                    "ColdRoomSensorNumber": "2",
                                    "Temperature": "4.70",
                                    "RecordedWhen": "2016-05-31 23:59:24.0000000",
                                    "AvgTempForSensor": "4.700000"
                                }
                            ]
                        },
                        "text/html": [
                            "<table>",
                            "<tr><th>ColdRoomTemperatureID</th><th>ColdRoomSensorNumber</th><th>Temperature</th><th>RecordedWhen</th><th>AvgTempForSensor</th></tr>",
                            "<tr><td>3654738</td><td>2</td><td>4.70</td><td>2016-05-31 23:59:24.0000000</td><td>4.700000</td></tr>",
                            "</table>"
                        ]
                    }
                }
            ],
            "execution_count": 103
        },
        {
            "cell_type": "markdown",
            "source": [
                "Task 2 (Query 2): Assess which items would be most affected\n",
                "\n",
                "\\- Joins Warehouse.StockItemHoldings, si.StockItemID, Application.People, and si.LastEditedBy\n",
                "\n",
                "\\- Calculates Total Value Risk on Line 9 and ranks the Highest amounts to the Lowest\n",
                "\n",
                "\\- Can see who would have motive to move these items around"
            ],
            "metadata": {
                "language": "sql",
                "azdata_cell_guid": "79a41bac-229d-41a8-b865-0f67857b02c8"
            },
            "attachments": {}
        },
        {
            "cell_type": "code",
            "source": [
                "SELECT TOP 20\r\n",
                "    si.StockItemID,\r\n",
                "    si.StockItemName,\r\n",
                "    si.UnitPrice,\r\n",
                "    sih.QuantityOnHand,\r\n",
                "    (si.UnitPrice * sih.QuantityOnHand) AS TotalValue\r\n",
                "FROM Warehouse.StockItems si\r\n",
                "INNER JOIN Warehouse.StockItemHoldings sih ON si.StockItemID = sih.StockItemID\r\n",
                "WHERE si.IsChillerStock = 1\r\n",
                "    AND sih.QuantityOnHand > 0\r\n",
                "ORDER BY TotalValue DESC"
            ],
            "metadata": {
                "language": "sql",
                "azdata_cell_guid": "289cb2ec-289d-47b6-9bb6-ec34a6b7c92a"
            },
            "outputs": [
                {
                    "output_type": "display_data",
                    "data": {
                        "text/html": "(8 rows affected)"
                    },
                    "metadata": {}
                },
                {
                    "output_type": "display_data",
                    "data": {
                        "text/html": "Total execution time: 00:00:00.010"
                    },
                    "metadata": {}
                },
                {
                    "output_type": "execute_result",
                    "metadata": {},
                    "execution_count": 104,
                    "data": {
                        "application/vnd.dataresource+json": {
                            "schema": {
                                "fields": [
                                    {
                                        "name": "StockItemID"
                                    },
                                    {
                                        "name": "StockItemName"
                                    },
                                    {
                                        "name": "UnitPrice"
                                    },
                                    {
                                        "name": "QuantityOnHand"
                                    },
                                    {
                                        "name": "TotalValue"
                                    }
                                ]
                            },
                            "data": [
                                {
                                    "StockItemID": "227",
                                    "StockItemName": "White chocolate moon rocks 250g",
                                    "UnitPrice": "8.55",
                                    "QuantityOnHand": "245352",
                                    "TotalValue": "2097759.60"
                                },
                                {
                                    "StockItemID": "226",
                                    "StockItemName": "White chocolate snow balls 250g",
                                    "UnitPrice": "8.55",
                                    "QuantityOnHand": "155856",
                                    "TotalValue": "1332568.80"
                                },
                                {
                                    "StockItemID": "225",
                                    "StockItemName": "Chocolate sharks 250g",
                                    "UnitPrice": "8.55",
                                    "QuantityOnHand": "119560",
                                    "TotalValue": "1022238.00"
                                },
                                {
                                    "StockItemID": "220",
                                    "StockItemName": "Novelty chilli chocolates 250g",
                                    "UnitPrice": "8.55",
                                    "QuantityOnHand": "90360",
                                    "TotalValue": "772578.00"
                                },
                                {
                                    "StockItemID": "221",
                                    "StockItemName": "Novelty chilli chocolates 500g",
                                    "UnitPrice": "14.50",
                                    "QuantityOnHand": "48228",
                                    "TotalValue": "699306.00"
                                },
                                {
                                    "StockItemID": "223",
                                    "StockItemName": "Chocolate echidnas 250g",
                                    "UnitPrice": "8.55",
                                    "QuantityOnHand": "74256",
                                    "TotalValue": "634888.80"
                                },
                                {
                                    "StockItemID": "222",
                                    "StockItemName": "Chocolate beetles 250g",
                                    "UnitPrice": "8.55",
                                    "QuantityOnHand": "69336",
                                    "TotalValue": "592822.80"
                                },
                                {
                                    "StockItemID": "224",
                                    "StockItemName": "Chocolate frogs 250g",
                                    "UnitPrice": "8.55",
                                    "QuantityOnHand": "67488",
                                    "TotalValue": "577022.40"
                                }
                            ]
                        },
                        "text/html": [
                            "<table>",
                            "<tr><th>StockItemID</th><th>StockItemName</th><th>UnitPrice</th><th>QuantityOnHand</th><th>TotalValue</th></tr>",
                            "<tr><td>227</td><td>White chocolate moon rocks 250g</td><td>8.55</td><td>245352</td><td>2097759.60</td></tr>",
                            "<tr><td>226</td><td>White chocolate snow balls 250g</td><td>8.55</td><td>155856</td><td>1332568.80</td></tr>",
                            "<tr><td>225</td><td>Chocolate sharks 250g</td><td>8.55</td><td>119560</td><td>1022238.00</td></tr>",
                            "<tr><td>220</td><td>Novelty chilli chocolates 250g</td><td>8.55</td><td>90360</td><td>772578.00</td></tr>",
                            "<tr><td>221</td><td>Novelty chilli chocolates 500g</td><td>14.50</td><td>48228</td><td>699306.00</td></tr>",
                            "<tr><td>223</td><td>Chocolate echidnas 250g</td><td>8.55</td><td>74256</td><td>634888.80</td></tr>",
                            "<tr><td>222</td><td>Chocolate beetles 250g</td><td>8.55</td><td>69336</td><td>592822.80</td></tr>",
                            "<tr><td>224</td><td>Chocolate frogs 250g</td><td>8.55</td><td>67488</td><td>577022.40</td></tr>",
                            "</table>"
                        ]
                    }
                }
            ],
            "execution_count": 104
        },
        {
            "cell_type": "markdown",
            "source": [
                "Task 3 (Query 3): Check whether orders were put through before the problem was discovered and who was moving Chiller stock around\n",
                "\n",
                "\\- <span style=\"color: var(--vscode-foreground);\">Connects</span> <span style=\"color: var(--vscode-foreground);\">orders to their line items and stock details and links them with the customer and sales person involved</span>\n",
                "\n",
                "<span style=\"color: var(--vscode-foreground);\">- Calculates</span> <span style=\"color: var(--vscode-foreground);\">line totals to identify the biggest sales&nbsp;</span>    \n",
                "\n",
                "<span style=\"color: var(--vscode-foreground);\">- Focuses on 2016 orders and Chiller Items only</span>"
            ],
            "metadata": {
                "language": "sql",
                "azdata_cell_guid": "a862da4f-052b-444e-a663-67793f8ef12a"
            },
            "attachments": {}
        },
        {
            "cell_type": "code",
            "source": [
                "SELECT TOP 20\r\n",
                "    o.OrderID,\r\n",
                "    o.OrderDate,\r\n",
                "    c.CustomerName,\r\n",
                "    ol.StockItemID,\r\n",
                "    si.StockItemName,\r\n",
                "    ol.Quantity,\r\n",
                "    ol.UnitPrice,\r\n",
                "    (ol.Quantity * ol.UnitPrice) AS LineTotal,\r\n",
                "    p.FullName AS Salesperson\r\n",
                "FROM Sales.Orders o\r\n",
                "INNER JOIN Sales.OrderLines ol ON o.OrderID = ol.OrderID\r\n",
                "INNER JOIN Warehouse.StockItems si ON ol.StockItemID = si.StockItemID\r\n",
                "INNER JOIN Sales.Customers c ON o.CustomerID = c.CustomerID\r\n",
                "INNER JOIN Application.People p ON o.SalespersonPersonID = p.PersonID\r\n",
                "WHERE si.IsChillerStock = 1\r\n",
                "    AND YEAR(o.OrderDate) = 2016\r\n",
                "ORDER BY LineTotal DESC"
            ],
            "metadata": {
                "language": "sql",
                "azdata_cell_guid": "b9d412fe-3c4e-41a2-b6b0-53dc78d46756"
            },
            "outputs": [
                {
                    "output_type": "display_data",
                    "data": {
                        "text/html": "(20 rows affected)"
                    },
                    "metadata": {}
                },
                {
                    "output_type": "display_data",
                    "data": {
                        "text/html": "Total execution time: 00:00:00.044"
                    },
                    "metadata": {}
                },
                {
                    "output_type": "execute_result",
                    "metadata": {},
                    "execution_count": 105,
                    "data": {
                        "application/vnd.dataresource+json": {
                            "schema": {
                                "fields": [
                                    {
                                        "name": "OrderID"
                                    },
                                    {
                                        "name": "OrderDate"
                                    },
                                    {
                                        "name": "CustomerName"
                                    },
                                    {
                                        "name": "StockItemID"
                                    },
                                    {
                                        "name": "StockItemName"
                                    },
                                    {
                                        "name": "Quantity"
                                    },
                                    {
                                        "name": "UnitPrice"
                                    },
                                    {
                                        "name": "LineTotal"
                                    },
                                    {
                                        "name": "Salesperson"
                                    }
                                ]
                            },
                            "data": [
                                {
                                    "OrderID": "72387",
                                    "OrderDate": "2016-05-13",
                                    "CustomerName": "Celica Barajas",
                                    "StockItemID": "222",
                                    "StockItemName": "Chocolate beetles 250g",
                                    "Quantity": "240",
                                    "UnitPrice": "8.55",
                                    "LineTotal": "2052.00",
                                    "Salesperson": "Hudson Hollinworth"
                                },
                                {
                                    "OrderID": "70003",
                                    "OrderDate": "2016-04-08",
                                    "CustomerName": "Tailspin Toys (Marcell, MN)",
                                    "StockItemID": "227",
                                    "StockItemName": "White chocolate moon rocks 250g",
                                    "Quantity": "240",
                                    "UnitPrice": "8.55",
                                    "LineTotal": "2052.00",
                                    "Salesperson": "Amy Trefl"
                                },
                                {
                                    "OrderID": "68328",
                                    "OrderDate": "2016-03-11",
                                    "CustomerName": "Tailspin Toys (Boyden Arbor, SC)",
                                    "StockItemID": "225",
                                    "StockItemName": "Chocolate sharks 250g",
                                    "Quantity": "240",
                                    "UnitPrice": "8.55",
                                    "LineTotal": "2052.00",
                                    "Salesperson": "Amy Trefl"
                                },
                                {
                                    "OrderID": "66036",
                                    "OrderDate": "2016-02-03",
                                    "CustomerName": "Tailspin Toys (Hambleton, WV)",
                                    "StockItemID": "222",
                                    "StockItemName": "Chocolate beetles 250g",
                                    "Quantity": "240",
                                    "UnitPrice": "8.55",
                                    "LineTotal": "2052.00",
                                    "Salesperson": "Archer Lamble"
                                },
                                {
                                    "OrderID": "67930",
                                    "OrderDate": "2016-03-04",
                                    "CustomerName": "Chompoo Atitarn",
                                    "StockItemID": "224",
                                    "StockItemName": "Chocolate frogs 250g",
                                    "Quantity": "240",
                                    "UnitPrice": "8.55",
                                    "LineTotal": "2052.00",
                                    "Salesperson": "Hudson Onslow"
                                },
                                {
                                    "OrderID": "72865",
                                    "OrderDate": "2016-05-20",
                                    "CustomerName": "Tailspin Toys (Annamoriah, WV)",
                                    "StockItemID": "222",
                                    "StockItemName": "Chocolate beetles 250g",
                                    "Quantity": "240",
                                    "UnitPrice": "8.55",
                                    "LineTotal": "2052.00",
                                    "Salesperson": "Jack Potter"
                                },
                                {
                                    "OrderID": "68316",
                                    "OrderDate": "2016-03-11",
                                    "CustomerName": "Celica Barajas",
                                    "StockItemID": "224",
                                    "StockItemName": "Chocolate frogs 250g",
                                    "Quantity": "240",
                                    "UnitPrice": "8.55",
                                    "LineTotal": "2052.00",
                                    "Salesperson": "Anthony Grosse"
                                },
                                {
                                    "OrderID": "68114",
                                    "OrderDate": "2016-03-08",
                                    "CustomerName": "Wingtip Toys (Chaseley, ND)",
                                    "StockItemID": "220",
                                    "StockItemName": "Novelty chilli chocolates 250g",
                                    "Quantity": "240",
                                    "UnitPrice": "8.55",
                                    "LineTotal": "2052.00",
                                    "Salesperson": "Kayla Woodcock"
                                },
                                {
                                    "OrderID": "68402",
                                    "OrderDate": "2016-03-14",
                                    "CustomerName": "Wingtip Toys (Bethel Acres, OK)",
                                    "StockItemID": "220",
                                    "StockItemName": "Novelty chilli chocolates 250g",
                                    "Quantity": "240",
                                    "UnitPrice": "8.55",
                                    "LineTotal": "2052.00",
                                    "Salesperson": "Sophia Hinton"
                                },
                                {
                                    "OrderID": "68566",
                                    "OrderDate": "2016-03-17",
                                    "CustomerName": "Gopalgobinda Sikdar",
                                    "StockItemID": "220",
                                    "StockItemName": "Novelty chilli chocolates 250g",
                                    "Quantity": "240",
                                    "UnitPrice": "8.55",
                                    "LineTotal": "2052.00",
                                    "Salesperson": "Jack Potter"
                                },
                                {
                                    "OrderID": "69121",
                                    "OrderDate": "2016-03-25",
                                    "CustomerName": "Eugen Agafitei",
                                    "StockItemID": "225",
                                    "StockItemName": "Chocolate sharks 250g",
                                    "Quantity": "240",
                                    "UnitPrice": "8.55",
                                    "LineTotal": "2052.00",
                                    "Salesperson": "Jack Potter"
                                },
                                {
                                    "OrderID": "65333",
                                    "OrderDate": "2016-01-21",
                                    "CustomerName": "Wingtip Toys (Necedah, WI)",
                                    "StockItemID": "223",
                                    "StockItemName": "Chocolate echidnas 250g",
                                    "Quantity": "240",
                                    "UnitPrice": "8.55",
                                    "LineTotal": "2052.00",
                                    "Salesperson": "Kayla Woodcock"
                                },
                                {
                                    "OrderID": "64476",
                                    "OrderDate": "2016-01-07",
                                    "CustomerName": "Kalyani Benjaree",
                                    "StockItemID": "226",
                                    "StockItemName": "White chocolate snow balls 250g",
                                    "Quantity": "240",
                                    "UnitPrice": "8.55",
                                    "LineTotal": "2052.00",
                                    "Salesperson": "Hudson Hollinworth"
                                },
                                {
                                    "OrderID": "72096",
                                    "OrderDate": "2016-05-09",
                                    "CustomerName": "Tailspin Toys (Sun River, MT)",
                                    "StockItemID": "226",
                                    "StockItemName": "White chocolate snow balls 250g",
                                    "Quantity": "240",
                                    "UnitPrice": "8.55",
                                    "LineTotal": "2052.00",
                                    "Salesperson": "Kayla Woodcock"
                                },
                                {
                                    "OrderID": "68731",
                                    "OrderDate": "2016-03-21",
                                    "CustomerName": "Wingtip Toys (Idaho City, ID)",
                                    "StockItemID": "220",
                                    "StockItemName": "Novelty chilli chocolates 250g",
                                    "Quantity": "240",
                                    "UnitPrice": "8.55",
                                    "LineTotal": "2052.00",
                                    "Salesperson": "Archer Lamble"
                                },
                                {
                                    "OrderID": "73346",
                                    "OrderDate": "2016-05-27",
                                    "CustomerName": "Wingtip Toys (Griswoldville, GA)",
                                    "StockItemID": "220",
                                    "StockItemName": "Novelty chilli chocolates 250g",
                                    "Quantity": "240",
                                    "UnitPrice": "8.55",
                                    "LineTotal": "2052.00",
                                    "Salesperson": "Anthony Grosse"
                                },
                                {
                                    "OrderID": "69343",
                                    "OrderDate": "2016-03-29",
                                    "CustomerName": "Tailspin Toys (Cundiyo, NM)",
                                    "StockItemID": "224",
                                    "StockItemName": "Chocolate frogs 250g",
                                    "Quantity": "240",
                                    "UnitPrice": "8.55",
                                    "LineTotal": "2052.00",
                                    "Salesperson": "Hudson Onslow"
                                },
                                {
                                    "OrderID": "64310",
                                    "OrderDate": "2016-01-06",
                                    "CustomerName": "Tailspin Toys (Lake Stevens, WA)",
                                    "StockItemID": "223",
                                    "StockItemName": "Chocolate echidnas 250g",
                                    "Quantity": "240",
                                    "UnitPrice": "8.55",
                                    "LineTotal": "2052.00",
                                    "Salesperson": "Amy Trefl"
                                },
                                {
                                    "OrderID": "72787",
                                    "OrderDate": "2016-05-19",
                                    "CustomerName": "Agrita Abele",
                                    "StockItemID": "220",
                                    "StockItemName": "Novelty chilli chocolates 250g",
                                    "Quantity": "240",
                                    "UnitPrice": "8.55",
                                    "LineTotal": "2052.00",
                                    "Salesperson": "Jack Potter"
                                },
                                {
                                    "OrderID": "70893",
                                    "OrderDate": "2016-04-21",
                                    "CustomerName": "Tailspin Toys (Hahira, GA)",
                                    "StockItemID": "225",
                                    "StockItemName": "Chocolate sharks 250g",
                                    "Quantity": "240",
                                    "UnitPrice": "8.55",
                                    "LineTotal": "2052.00",
                                    "Salesperson": "Taj Shand"
                                }
                            ]
                        },
                        "text/html": [
                            "<table>",
                            "<tr><th>OrderID</th><th>OrderDate</th><th>CustomerName</th><th>StockItemID</th><th>StockItemName</th><th>Quantity</th><th>UnitPrice</th><th>LineTotal</th><th>Salesperson</th></tr>",
                            "<tr><td>72387</td><td>2016-05-13</td><td>Celica Barajas</td><td>222</td><td>Chocolate beetles 250g</td><td>240</td><td>8.55</td><td>2052.00</td><td>Hudson Hollinworth</td></tr>",
                            "<tr><td>70003</td><td>2016-04-08</td><td>Tailspin Toys (Marcell, MN)</td><td>227</td><td>White chocolate moon rocks 250g</td><td>240</td><td>8.55</td><td>2052.00</td><td>Amy Trefl</td></tr>",
                            "<tr><td>68328</td><td>2016-03-11</td><td>Tailspin Toys (Boyden Arbor, SC)</td><td>225</td><td>Chocolate sharks 250g</td><td>240</td><td>8.55</td><td>2052.00</td><td>Amy Trefl</td></tr>",
                            "<tr><td>66036</td><td>2016-02-03</td><td>Tailspin Toys (Hambleton, WV)</td><td>222</td><td>Chocolate beetles 250g</td><td>240</td><td>8.55</td><td>2052.00</td><td>Archer Lamble</td></tr>",
                            "<tr><td>67930</td><td>2016-03-04</td><td>Chompoo Atitarn</td><td>224</td><td>Chocolate frogs 250g</td><td>240</td><td>8.55</td><td>2052.00</td><td>Hudson Onslow</td></tr>",
                            "<tr><td>72865</td><td>2016-05-20</td><td>Tailspin Toys (Annamoriah, WV)</td><td>222</td><td>Chocolate beetles 250g</td><td>240</td><td>8.55</td><td>2052.00</td><td>Jack Potter</td></tr>",
                            "<tr><td>68316</td><td>2016-03-11</td><td>Celica Barajas</td><td>224</td><td>Chocolate frogs 250g</td><td>240</td><td>8.55</td><td>2052.00</td><td>Anthony Grosse</td></tr>",
                            "<tr><td>68114</td><td>2016-03-08</td><td>Wingtip Toys (Chaseley, ND)</td><td>220</td><td>Novelty chilli chocolates 250g</td><td>240</td><td>8.55</td><td>2052.00</td><td>Kayla Woodcock</td></tr>",
                            "<tr><td>68402</td><td>2016-03-14</td><td>Wingtip Toys (Bethel Acres, OK)</td><td>220</td><td>Novelty chilli chocolates 250g</td><td>240</td><td>8.55</td><td>2052.00</td><td>Sophia Hinton</td></tr>",
                            "<tr><td>68566</td><td>2016-03-17</td><td>Gopalgobinda Sikdar</td><td>220</td><td>Novelty chilli chocolates 250g</td><td>240</td><td>8.55</td><td>2052.00</td><td>Jack Potter</td></tr>",
                            "<tr><td>69121</td><td>2016-03-25</td><td>Eugen Agafitei</td><td>225</td><td>Chocolate sharks 250g</td><td>240</td><td>8.55</td><td>2052.00</td><td>Jack Potter</td></tr>",
                            "<tr><td>65333</td><td>2016-01-21</td><td>Wingtip Toys (Necedah, WI)</td><td>223</td><td>Chocolate echidnas 250g</td><td>240</td><td>8.55</td><td>2052.00</td><td>Kayla Woodcock</td></tr>",
                            "<tr><td>64476</td><td>2016-01-07</td><td>Kalyani Benjaree</td><td>226</td><td>White chocolate snow balls 250g</td><td>240</td><td>8.55</td><td>2052.00</td><td>Hudson Hollinworth</td></tr>",
                            "<tr><td>72096</td><td>2016-05-09</td><td>Tailspin Toys (Sun River, MT)</td><td>226</td><td>White chocolate snow balls 250g</td><td>240</td><td>8.55</td><td>2052.00</td><td>Kayla Woodcock</td></tr>",
                            "<tr><td>68731</td><td>2016-03-21</td><td>Wingtip Toys (Idaho City, ID)</td><td>220</td><td>Novelty chilli chocolates 250g</td><td>240</td><td>8.55</td><td>2052.00</td><td>Archer Lamble</td></tr>",
                            "<tr><td>73346</td><td>2016-05-27</td><td>Wingtip Toys (Griswoldville, GA)</td><td>220</td><td>Novelty chilli chocolates 250g</td><td>240</td><td>8.55</td><td>2052.00</td><td>Anthony Grosse</td></tr>",
                            "<tr><td>69343</td><td>2016-03-29</td><td>Tailspin Toys (Cundiyo, NM)</td><td>224</td><td>Chocolate frogs 250g</td><td>240</td><td>8.55</td><td>2052.00</td><td>Hudson Onslow</td></tr>",
                            "<tr><td>64310</td><td>2016-01-06</td><td>Tailspin Toys (Lake Stevens, WA)</td><td>223</td><td>Chocolate echidnas 250g</td><td>240</td><td>8.55</td><td>2052.00</td><td>Amy Trefl</td></tr>",
                            "<tr><td>72787</td><td>2016-05-19</td><td>Agrita Abele</td><td>220</td><td>Novelty chilli chocolates 250g</td><td>240</td><td>8.55</td><td>2052.00</td><td>Jack Potter</td></tr>",
                            "<tr><td>70893</td><td>2016-04-21</td><td>Tailspin Toys (Hahira, GA)</td><td>225</td><td>Chocolate sharks 250g</td><td>240</td><td>8.55</td><td>2052.00</td><td>Taj Shand</td></tr>",
                            "</table>"
                        ]
                    }
                }
            ],
            "execution_count": 105
        },
        {
            "cell_type": "markdown",
            "source": [
                "Task 4 (Query 4): Find out who's been making transactions for Chiller items\n",
                "\n",
                "\\- Analyzes <span style=\"color: var(--vscode-foreground);\">stock transaction logs to track inventory movements</span>\n",
                "\n",
                "<span style=\"color: var(--vscode-foreground);\">- Uses a subquery</span> <span style=\"color: var(--vscode-foreground);\">to filter transactions for only chiller stock items</span>\n",
                "\n",
                "<span style=\"color: var(--vscode-foreground);\">-&nbsp;</span> <span style=\"color: var(--vscode-foreground);\">Shows</span> <span style=\"color: var(--vscode-foreground);\"> the timeframe of each employee's activity and Ranks&nbsp;</span> <span style=\"color: var(--vscode-foreground);\">employees by transaction volume to find unusual patterns</span>"
            ],
            "metadata": {
                "language": "sql",
                "azdata_cell_guid": "7e42a4b5-d747-4341-864f-69ee7bac3f64"
            },
            "attachments": {}
        },
        {
            "cell_type": "code",
            "source": [
                "SELECT\r\n",
                "    ISNULL(p.FullName, 'Unknown') AS Employee,\r\n",
                "    COUNT(DISTINCT sit.StockItemTransactionID) AS TransactionsHandled,\r\n",
                "    COUNT(DISTINCT sit.StockItemID) AS DifferentItemsHandled,\r\n",
                "    SUM(CASE WHEN sit.Quantity < 0 THEN ABS(sit.Quantity) ELSE 0 END) AS TotalUnitsSold,\r\n",
                "    MIN(sit.TransactionOccurredWhen) AS FirstTransaction,\r\n",
                "    MAX(sit.TransactionOccurredWhen) AS LastTransaction\r\n",
                "FROM Warehouse.StockItemTransactions sit\r\n",
                "LEFT JOIN Application.People p ON sit.LastEditedBy = p.PersonID\r\n",
                "WHERE sit.StockItemID IN \r\n",
                "    (SELECT StockItemID \r\n",
                "     FROM Warehouse.StockItems \r\n",
                "     WHERE IsChillerStock = 1)\r\n",
                "    AND YEAR(sit.TransactionOccurredWhen) = 2016\r\n",
                "GROUP BY p.FullName\r\n",
                "ORDER BY TransactionsHandled DESC"
            ],
            "metadata": {
                "language": "sql",
                "azdata_cell_guid": "822bee5f-9d2b-473c-832d-d975d8402b53",
                "tags": []
            },
            "outputs": [
                {
                    "output_type": "display_data",
                    "data": {
                        "text/html": "(19 rows affected)"
                    },
                    "metadata": {}
                },
                {
                    "output_type": "display_data",
                    "data": {
                        "text/html": "Total execution time: 00:00:00.039"
                    },
                    "metadata": {}
                },
                {
                    "output_type": "execute_result",
                    "metadata": {},
                    "execution_count": 106,
                    "data": {
                        "application/vnd.dataresource+json": {
                            "schema": {
                                "fields": [
                                    {
                                        "name": "Employee"
                                    },
                                    {
                                        "name": "TransactionsHandled"
                                    },
                                    {
                                        "name": "DifferentItemsHandled"
                                    },
                                    {
                                        "name": "TotalUnitsSold"
                                    },
                                    {
                                        "name": "FirstTransaction"
                                    },
                                    {
                                        "name": "LastTransaction"
                                    }
                                ]
                            },
                            "data": [
                                {
                                    "Employee": "Isabella Rupp",
                                    "TransactionsHandled": "83",
                                    "DifferentItemsHandled": "8",
                                    "TotalUnitsSold": "10308.000",
                                    "FirstTransaction": "2016-01-18 12:00:00.0000000",
                                    "LastTransaction": "2016-05-28 12:00:00.0000000"
                                },
                                {
                                    "Employee": "Jai Shand",
                                    "TransactionsHandled": "82",
                                    "DifferentItemsHandled": "8",
                                    "TotalUnitsSold": "9936.000",
                                    "FirstTransaction": "2016-01-12 12:00:00.0000000",
                                    "LastTransaction": "2016-05-23 12:00:00.0000000"
                                },
                                {
                                    "Employee": "Lily Code",
                                    "TransactionsHandled": "79",
                                    "DifferentItemsHandled": "8",
                                    "TotalUnitsSold": "10548.000",
                                    "FirstTransaction": "2016-01-07 12:00:00.0000000",
                                    "LastTransaction": "2016-05-26 12:00:00.0000000"
                                },
                                {
                                    "Employee": "Eva Muirden",
                                    "TransactionsHandled": "79",
                                    "DifferentItemsHandled": "8",
                                    "TotalUnitsSold": "9828.000",
                                    "FirstTransaction": "2016-01-06 12:00:00.0000000",
                                    "LastTransaction": "2016-05-11 12:00:00.0000000"
                                },
                                {
                                    "Employee": "Anthony Grosse",
                                    "TransactionsHandled": "74",
                                    "DifferentItemsHandled": "8",
                                    "TotalUnitsSold": "8880.000",
                                    "FirstTransaction": "2016-01-23 12:00:00.0000000",
                                    "LastTransaction": "2016-05-19 12:00:00.0000000"
                                },
                                {
                                    "Employee": "Hudson Onslow",
                                    "TransactionsHandled": "60",
                                    "DifferentItemsHandled": "8",
                                    "TotalUnitsSold": "7884.000",
                                    "FirstTransaction": "2016-02-19 12:00:00.0000000",
                                    "LastTransaction": "2016-05-31 12:00:00.0000000"
                                },
                                {
                                    "Employee": "Amy Trefl",
                                    "TransactionsHandled": "56",
                                    "DifferentItemsHandled": "8",
                                    "TotalUnitsSold": "6792.000",
                                    "FirstTransaction": "2016-01-09 12:00:00.0000000",
                                    "LastTransaction": "2016-05-27 12:00:00.0000000"
                                },
                                {
                                    "Employee": "Archer Lamble",
                                    "TransactionsHandled": "56",
                                    "DifferentItemsHandled": "8",
                                    "TotalUnitsSold": "7452.000",
                                    "FirstTransaction": "2016-01-29 12:00:00.0000000",
                                    "LastTransaction": "2016-05-07 12:00:00.0000000"
                                },
                                {
                                    "Employee": "Hudson Hollinworth",
                                    "TransactionsHandled": "56",
                                    "DifferentItemsHandled": "8",
                                    "TotalUnitsSold": "6360.000",
                                    "FirstTransaction": "2016-01-05 07:00:00.0000000",
                                    "LastTransaction": "2016-05-02 12:00:00.0000000"
                                },
                                {
                                    "Employee": "Ethan Onslow",
                                    "TransactionsHandled": "56",
                                    "DifferentItemsHandled": "8",
                                    "TotalUnitsSold": "6264.000",
                                    "FirstTransaction": "2016-01-04 07:00:00.0000000",
                                    "LastTransaction": "2016-05-21 12:00:00.0000000"
                                },
                                {
                                    "Employee": "Sophia Hinton",
                                    "TransactionsHandled": "54",
                                    "DifferentItemsHandled": "8",
                                    "TotalUnitsSold": "6204.000",
                                    "FirstTransaction": "2016-01-02 12:00:00.0000000",
                                    "LastTransaction": "2016-05-30 12:00:00.0000000"
                                },
                                {
                                    "Employee": "Henry Forlonge",
                                    "TransactionsHandled": "50",
                                    "DifferentItemsHandled": "8",
                                    "TotalUnitsSold": "6492.000",
                                    "FirstTransaction": "2016-01-05 12:00:00.0000000",
                                    "LastTransaction": "2016-03-29 12:00:00.0000000"
                                },
                                {
                                    "Employee": "Taj Shand",
                                    "TransactionsHandled": "47",
                                    "DifferentItemsHandled": "8",
                                    "TotalUnitsSold": "5604.000",
                                    "FirstTransaction": "2016-01-04 12:00:00.0000000",
                                    "LastTransaction": "2016-05-18 12:00:00.0000000"
                                },
                                {
                                    "Employee": "Stella Rosenhain",
                                    "TransactionsHandled": "46",
                                    "DifferentItemsHandled": "8",
                                    "TotalUnitsSold": "5640.000",
                                    "FirstTransaction": "2016-01-20 12:00:00.0000000",
                                    "LastTransaction": "2016-05-20 12:00:00.0000000"
                                },
                                {
                                    "Employee": "Piper Koch",
                                    "TransactionsHandled": "45",
                                    "DifferentItemsHandled": "8",
                                    "TotalUnitsSold": "4872.000",
                                    "FirstTransaction": "2016-01-21 12:00:00.0000000",
                                    "LastTransaction": "2016-05-17 12:00:00.0000000"
                                },
                                {
                                    "Employee": "Katie Darwin",
                                    "TransactionsHandled": "44",
                                    "DifferentItemsHandled": "8",
                                    "TotalUnitsSold": "5844.000",
                                    "FirstTransaction": "2016-01-15 12:00:00.0000000",
                                    "LastTransaction": "2016-05-03 12:00:00.0000000"
                                },
                                {
                                    "Employee": "Kayla Woodcock",
                                    "TransactionsHandled": "35",
                                    "DifferentItemsHandled": "8",
                                    "TotalUnitsSold": "3420.000",
                                    "FirstTransaction": "2016-01-07 07:00:00.0000000",
                                    "LastTransaction": "2016-05-09 12:00:00.0000000"
                                },
                                {
                                    "Employee": "Jack Potter",
                                    "TransactionsHandled": "33",
                                    "DifferentItemsHandled": "8",
                                    "TotalUnitsSold": "4044.000",
                                    "FirstTransaction": "2016-01-06 07:00:00.0000000",
                                    "LastTransaction": "2016-05-14 12:00:00.0000000"
                                },
                                {
                                    "Employee": "Alica Fatnowna",
                                    "TransactionsHandled": "11",
                                    "DifferentItemsHandled": "7",
                                    "TotalUnitsSold": "984.000",
                                    "FirstTransaction": "2016-01-27 12:00:00.0000000",
                                    "LastTransaction": "2016-03-31 12:00:00.0000000"
                                }
                            ]
                        },
                        "text/html": [
                            "<table>",
                            "<tr><th>Employee</th><th>TransactionsHandled</th><th>DifferentItemsHandled</th><th>TotalUnitsSold</th><th>FirstTransaction</th><th>LastTransaction</th></tr>",
                            "<tr><td>Isabella Rupp</td><td>83</td><td>8</td><td>10308.000</td><td>2016-01-18 12:00:00.0000000</td><td>2016-05-28 12:00:00.0000000</td></tr>",
                            "<tr><td>Jai Shand</td><td>82</td><td>8</td><td>9936.000</td><td>2016-01-12 12:00:00.0000000</td><td>2016-05-23 12:00:00.0000000</td></tr>",
                            "<tr><td>Lily Code</td><td>79</td><td>8</td><td>10548.000</td><td>2016-01-07 12:00:00.0000000</td><td>2016-05-26 12:00:00.0000000</td></tr>",
                            "<tr><td>Eva Muirden</td><td>79</td><td>8</td><td>9828.000</td><td>2016-01-06 12:00:00.0000000</td><td>2016-05-11 12:00:00.0000000</td></tr>",
                            "<tr><td>Anthony Grosse</td><td>74</td><td>8</td><td>8880.000</td><td>2016-01-23 12:00:00.0000000</td><td>2016-05-19 12:00:00.0000000</td></tr>",
                            "<tr><td>Hudson Onslow</td><td>60</td><td>8</td><td>7884.000</td><td>2016-02-19 12:00:00.0000000</td><td>2016-05-31 12:00:00.0000000</td></tr>",
                            "<tr><td>Amy Trefl</td><td>56</td><td>8</td><td>6792.000</td><td>2016-01-09 12:00:00.0000000</td><td>2016-05-27 12:00:00.0000000</td></tr>",
                            "<tr><td>Archer Lamble</td><td>56</td><td>8</td><td>7452.000</td><td>2016-01-29 12:00:00.0000000</td><td>2016-05-07 12:00:00.0000000</td></tr>",
                            "<tr><td>Hudson Hollinworth</td><td>56</td><td>8</td><td>6360.000</td><td>2016-01-05 07:00:00.0000000</td><td>2016-05-02 12:00:00.0000000</td></tr>",
                            "<tr><td>Ethan Onslow</td><td>56</td><td>8</td><td>6264.000</td><td>2016-01-04 07:00:00.0000000</td><td>2016-05-21 12:00:00.0000000</td></tr>",
                            "<tr><td>Sophia Hinton</td><td>54</td><td>8</td><td>6204.000</td><td>2016-01-02 12:00:00.0000000</td><td>2016-05-30 12:00:00.0000000</td></tr>",
                            "<tr><td>Henry Forlonge</td><td>50</td><td>8</td><td>6492.000</td><td>2016-01-05 12:00:00.0000000</td><td>2016-03-29 12:00:00.0000000</td></tr>",
                            "<tr><td>Taj Shand</td><td>47</td><td>8</td><td>5604.000</td><td>2016-01-04 12:00:00.0000000</td><td>2016-05-18 12:00:00.0000000</td></tr>",
                            "<tr><td>Stella Rosenhain</td><td>46</td><td>8</td><td>5640.000</td><td>2016-01-20 12:00:00.0000000</td><td>2016-05-20 12:00:00.0000000</td></tr>",
                            "<tr><td>Piper Koch</td><td>45</td><td>8</td><td>4872.000</td><td>2016-01-21 12:00:00.0000000</td><td>2016-05-17 12:00:00.0000000</td></tr>",
                            "<tr><td>Katie Darwin</td><td>44</td><td>8</td><td>5844.000</td><td>2016-01-15 12:00:00.0000000</td><td>2016-05-03 12:00:00.0000000</td></tr>",
                            "<tr><td>Kayla Woodcock</td><td>35</td><td>8</td><td>3420.000</td><td>2016-01-07 07:00:00.0000000</td><td>2016-05-09 12:00:00.0000000</td></tr>",
                            "<tr><td>Jack Potter</td><td>33</td><td>8</td><td>4044.000</td><td>2016-01-06 07:00:00.0000000</td><td>2016-05-14 12:00:00.0000000</td></tr>",
                            "<tr><td>Alica Fatnowna</td><td>11</td><td>7</td><td>984.000</td><td>2016-01-27 12:00:00.0000000</td><td>2016-03-31 12:00:00.0000000</td></tr>",
                            "</table>"
                        ]
                    }
                }
            ],
            "execution_count": 106
        },
        {
            "cell_type": "markdown",
            "source": [
                "Task 5 (Query 5): Compare the Prime Suspects activity to other Employees to see who's been profitting the most\n",
                "\n",
                "<span style=\"color: var(--vscode-foreground);\">-&nbsp;&nbsp;</span>  <span style=\"color: var(--vscode-foreground);\">Aggregates</span> <span style=\"color: var(--vscode-foreground);\">all chiller stock orders by salesperson and groups&nbsp;</span> <span style=\"color: var(--vscode-foreground);\">results by employee to compare performance</span>\n",
                "\n",
                "<span style=\"color: var(--vscode-foreground);\">-&nbsp; Joins&nbsp;</span>  <span style=\"color: rgb(33, 33, 33); font-family: Consolas, &quot;Courier New&quot;, monospace; font-size: 12px; white-space: pre;\">Sales.OrderLines, </span> <span style=\"color: rgb(33, 33, 33); font-family: Consolas, &quot;Courier New&quot;, monospace; font-size: 12px; white-space: pre;\">o.OrderID, </span> <span style=\"color: rgb(33, 33, 33); font-family: Consolas, &quot;Courier New&quot;, monospace; font-size: 12px; white-space: pre;\">Application.People, </span> <span style=\"color: rgb(33, 33, 33); font-family: Consolas, &quot;Courier New&quot;, monospace; font-size: 12px; white-space: pre;\">o.SalespersonPersonID, </span> <span style=\"color: rgb(33, 33, 33); font-family: Consolas, &quot;Courier New&quot;, monospace; font-size: 12px; white-space: pre;\">Warehouse.StockItems, and </span> <span style=\"color: rgb(33, 33, 33); font-family: Consolas, &quot;Courier New&quot;, monospace; font-size: 12px; white-space: pre;\">ol.StockItemID</span>\n",
                "\n",
                "<span style=\"color: var(--vscode-foreground);\">-&nbsp;</span>  <span style=\"color: var(--vscode-foreground);\">Ranks </span> <span style=\"color: var(--vscode-foreground);\">salespeople by total revenue generated to expose who's been pushing the most of the products</span>"
            ],
            "metadata": {
                "language": "sql",
                "azdata_cell_guid": "21fee427-f602-4240-8544-4f7ca2060665"
            },
            "attachments": {}
        },
        {
            "cell_type": "code",
            "source": [
                "SELECT TOP 5\r\n",
                "    p.FullName AS Employee,\r\n",
                "    COUNT(DISTINCT o.OrderID) AS TotalOrders,\r\n",
                "    SUM(ol.Quantity) AS TotalUnitsOrdered,\r\n",
                "    AVG(ol.UnitPrice) AS AvgPricePerUnit,\r\n",
                "    SUM(ol.Quantity * ol.UnitPrice) AS TotalRevenue\r\n",
                "FROM Sales.Orders o\r\n",
                "INNER JOIN Sales.OrderLines ol ON o.OrderID = ol.OrderID\r\n",
                "INNER JOIN Application.People p ON o.SalespersonPersonID = p.PersonID\r\n",
                "INNER JOIN Warehouse.StockItems si ON ol.StockItemID = si.StockItemID\r\n",
                "WHERE si.IsChillerStock = 1\r\n",
                "    AND YEAR(o.OrderDate) = 2016\r\n",
                "GROUP BY p.FullName\r\n",
                "ORDER BY TotalRevenue DESC"
            ],
            "metadata": {
                "language": "sql",
                "azdata_cell_guid": "21b53a49-de08-45ea-86e0-52c07cc9adc9"
            },
            "outputs": [
                {
                    "output_type": "display_data",
                    "data": {
                        "text/html": "(5 rows affected)"
                    },
                    "metadata": {}
                },
                {
                    "output_type": "display_data",
                    "data": {
                        "text/html": "Total execution time: 00:00:00.027"
                    },
                    "metadata": {}
                },
                {
                    "output_type": "execute_result",
                    "metadata": {},
                    "execution_count": 109,
                    "data": {
                        "application/vnd.dataresource+json": {
                            "schema": {
                                "fields": [
                                    {
                                        "name": "Employee"
                                    },
                                    {
                                        "name": "TotalOrders"
                                    },
                                    {
                                        "name": "TotalUnitsOrdered"
                                    },
                                    {
                                        "name": "AvgPricePerUnit"
                                    },
                                    {
                                        "name": "TotalRevenue"
                                    }
                                ]
                            },
                            "data": [
                                {
                                    "Employee": "Hudson Hollinworth",
                                    "TotalOrders": "110",
                                    "TotalUnitsOrdered": "13920",
                                    "AvgPricePerUnit": "9.385087",
                                    "TotalRevenue": "126013.20"
                                },
                                {
                                    "Employee": "Taj Shand",
                                    "TotalOrders": "105",
                                    "TotalUnitsOrdered": "13596",
                                    "AvgPricePerUnit": "9.718750",
                                    "TotalRevenue": "125742.00"
                                },
                                {
                                    "Employee": "Sophia Hinton",
                                    "TotalOrders": "102",
                                    "TotalUnitsOrdered": "13608",
                                    "AvgPricePerUnit": "9.259633",
                                    "TotalRevenue": "121632.00"
                                },
                                {
                                    "Employee": "Archer Lamble",
                                    "TotalOrders": "101",
                                    "TotalUnitsOrdered": "13128",
                                    "AvgPricePerUnit": "9.243203",
                                    "TotalRevenue": "118242.00"
                                },
                                {
                                    "Employee": "Amy Trefl",
                                    "TotalOrders": "109",
                                    "TotalUnitsOrdered": "13020",
                                    "AvgPricePerUnit": "9.346875",
                                    "TotalRevenue": "116533.20"
                                }
                            ]
                        },
                        "text/html": [
                            "<table>",
                            "<tr><th>Employee</th><th>TotalOrders</th><th>TotalUnitsOrdered</th><th>AvgPricePerUnit</th><th>TotalRevenue</th></tr>",
                            "<tr><td>Hudson Hollinworth</td><td>110</td><td>13920</td><td>9.385087</td><td>126013.20</td></tr>",
                            "<tr><td>Taj Shand</td><td>105</td><td>13596</td><td>9.718750</td><td>125742.00</td></tr>",
                            "<tr><td>Sophia Hinton</td><td>102</td><td>13608</td><td>9.259633</td><td>121632.00</td></tr>",
                            "<tr><td>Archer Lamble</td><td>101</td><td>13128</td><td>9.243203</td><td>118242.00</td></tr>",
                            "<tr><td>Amy Trefl</td><td>109</td><td>13020</td><td>9.346875</td><td>116533.20</td></tr>",
                            "</table>"
                        ]
                    }
                }
            ],
            "execution_count": 109
        },
        {
            "cell_type": "markdown",
            "source": [
                "# Mystery #3 - W.W. Cooper\n",
                "\n",
                "## Recently, an order was made with the invoice being paid off, the order leaving the Warehouse, and the Driver making his way towards his destination. However, the shipment and the driver never arrived and disappeared without a trace. It is believed that this was an inside job. It's your job to scrounge through the database and piece together a trail of how they got away"
            ],
            "metadata": {
                "azdata_cell_guid": "be8d9098-997d-4e15-a039-252082fc5a4d"
            },
            "attachments": {}
        },
        {
            "cell_type": "markdown",
            "source": [
                "Task 1 (Query 1) - Find the largest, most valuable invoices from 2016, one of them is the target\n",
                "\n",
                "<span style=\"color: var(--vscode-foreground);\">- Joins invoices with their line items to calculate total shipment valued</span>\n",
                "\n",
                "<span style=\"color: var(--vscode-foreground);\">- Calculates both profit and total value</span>\n",
                "\n",
                "<span style=\"color: var(--vscode-foreground);\">- Identifies who was involved these high-value transactions, CustomerID is used in Task 2</span>"
            ],
            "metadata": {
                "azdata_cell_guid": "74bccf40-606a-4d15-aab4-0b727c61991d"
            },
            "attachments": {}
        },
        {
            "cell_type": "code",
            "source": [
                "SELECT TOP 20\r\n",
                "    i.InvoiceID,\r\n",
                "    i.CustomerID,\r\n",
                "    i.InvoiceDate,\r\n",
                "    i.LastEditedBy,\r\n",
                "    COUNT(il.InvoiceLineID) AS NumberOfItems,\r\n",
                "    SUM(il.LineProfit) AS TotalProfit,\r\n",
                "    SUM(il.ExtendedPrice) AS TotalValue\r\n",
                "FROM Sales.Invoices i\r\n",
                "INNER JOIN Sales.InvoiceLines il ON i.InvoiceID = il.InvoiceID\r\n",
                "WHERE YEAR(i.InvoiceDate) = 2016\r\n",
                "GROUP BY i.InvoiceID, i.CustomerID, i.InvoiceDate, i.LastEditedBy\r\n",
                "ORDER BY TotalValue DESC"
            ],
            "metadata": {
                "azdata_cell_guid": "7b93ac9c-cef5-469f-817f-3f3991065dd4",
                "language": "sql"
            },
            "outputs": [
                {
                    "output_type": "display_data",
                    "data": {
                        "text/html": "(20 rows affected)"
                    },
                    "metadata": {}
                },
                {
                    "output_type": "display_data",
                    "data": {
                        "text/html": "Total execution time: 00:00:00.192"
                    },
                    "metadata": {}
                },
                {
                    "output_type": "execute_result",
                    "metadata": {},
                    "execution_count": 110,
                    "data": {
                        "application/vnd.dataresource+json": {
                            "schema": {
                                "fields": [
                                    {
                                        "name": "InvoiceID"
                                    },
                                    {
                                        "name": "CustomerID"
                                    },
                                    {
                                        "name": "InvoiceDate"
                                    },
                                    {
                                        "name": "LastEditedBy"
                                    },
                                    {
                                        "name": "NumberOfItems"
                                    },
                                    {
                                        "name": "TotalProfit"
                                    },
                                    {
                                        "name": "TotalValue"
                                    }
                                ]
                            },
                            "data": [
                                {
                                    "InvoiceID": "64220",
                                    "CustomerID": "71",
                                    "InvoiceDate": "2016-02-20",
                                    "LastEditedBy": "16",
                                    "NumberOfItems": "5",
                                    "TotalProfit": "12092.00",
                                    "TotalValue": "33966.40"
                                },
                                {
                                    "InvoiceID": "67035",
                                    "CustomerID": "1043",
                                    "InvoiceDate": "2016-04-07",
                                    "LastEditedBy": "14",
                                    "NumberOfItems": "3",
                                    "TotalProfit": "11590.50",
                                    "TotalValue": "31489.30"
                                },
                                {
                                    "InvoiceID": "69043",
                                    "CustomerID": "415",
                                    "InvoiceDate": "2016-05-07",
                                    "LastEditedBy": "7",
                                    "NumberOfItems": "5",
                                    "TotalProfit": "11472.00",
                                    "TotalValue": "31470.90"
                                },
                                {
                                    "InvoiceID": "70445",
                                    "CustomerID": "492",
                                    "InvoiceDate": "2016-05-31",
                                    "LastEditedBy": "3",
                                    "NumberOfItems": "5",
                                    "TotalProfit": "10605.00",
                                    "TotalValue": "28280.80"
                                },
                                {
                                    "InvoiceID": "65919",
                                    "CustomerID": "67",
                                    "InvoiceDate": "2016-03-21",
                                    "LastEditedBy": "11",
                                    "NumberOfItems": "4",
                                    "TotalProfit": "9849.60",
                                    "TotalValue": "27219.12"
                                },
                                {
                                    "InvoiceID": "61812",
                                    "CustomerID": "1056",
                                    "InvoiceDate": "2016-01-07",
                                    "LastEditedBy": "19",
                                    "NumberOfItems": "4",
                                    "TotalProfit": "9110.40",
                                    "TotalValue": "25334.94"
                                },
                                {
                                    "InvoiceID": "62060",
                                    "CustomerID": "42",
                                    "InvoiceDate": "2016-01-12",
                                    "LastEditedBy": "4",
                                    "NumberOfItems": "4",
                                    "TotalProfit": "9259.50",
                                    "TotalValue": "25247.55"
                                },
                                {
                                    "InvoiceID": "69291",
                                    "CustomerID": "498",
                                    "InvoiceDate": "2016-05-12",
                                    "LastEditedBy": "10",
                                    "NumberOfItems": "5",
                                    "TotalProfit": "8939.00",
                                    "TotalValue": "24735.80"
                                },
                                {
                                    "InvoiceID": "63360",
                                    "CustomerID": "983",
                                    "InvoiceDate": "2016-02-03",
                                    "LastEditedBy": "15",
                                    "NumberOfItems": "5",
                                    "TotalProfit": "9145.00",
                                    "TotalValue": "24110.90"
                                },
                                {
                                    "InvoiceID": "68978",
                                    "CustomerID": "904",
                                    "InvoiceDate": "2016-05-06",
                                    "LastEditedBy": "17",
                                    "NumberOfItems": "3",
                                    "TotalProfit": "8871.00",
                                    "TotalValue": "23877.45"
                                },
                                {
                                    "InvoiceID": "63544",
                                    "CustomerID": "1040",
                                    "InvoiceDate": "2016-02-08",
                                    "LastEditedBy": "15",
                                    "NumberOfItems": "3",
                                    "TotalProfit": "8353.60",
                                    "TotalValue": "23704.06"
                                },
                                {
                                    "InvoiceID": "61866",
                                    "CustomerID": "166",
                                    "InvoiceDate": "2016-01-08",
                                    "LastEditedBy": "12",
                                    "NumberOfItems": "3",
                                    "TotalProfit": "8200.50",
                                    "TotalValue": "23673.90"
                                },
                                {
                                    "InvoiceID": "67150",
                                    "CustomerID": "550",
                                    "InvoiceDate": "2016-04-08",
                                    "LastEditedBy": "2",
                                    "NumberOfItems": "5",
                                    "TotalProfit": "8174.00",
                                    "TotalValue": "23485.76"
                                },
                                {
                                    "InvoiceID": "70208",
                                    "CustomerID": "988",
                                    "InvoiceDate": "2016-05-26",
                                    "LastEditedBy": "9",
                                    "NumberOfItems": "5",
                                    "TotalProfit": "8130.55",
                                    "TotalValue": "23140.13"
                                },
                                {
                                    "InvoiceID": "67031",
                                    "CustomerID": "934",
                                    "InvoiceDate": "2016-04-07",
                                    "LastEditedBy": "14",
                                    "NumberOfItems": "2",
                                    "TotalProfit": "10100.00",
                                    "TotalValue": "23115.00"
                                },
                                {
                                    "InvoiceID": "67254",
                                    "CustomerID": "177",
                                    "InvoiceDate": "2016-04-11",
                                    "LastEditedBy": "18",
                                    "NumberOfItems": "5",
                                    "TotalProfit": "9393.00",
                                    "TotalValue": "22837.85"
                                },
                                {
                                    "InvoiceID": "64262",
                                    "CustomerID": "815",
                                    "InvoiceDate": "2016-02-22",
                                    "LastEditedBy": "9",
                                    "NumberOfItems": "2",
                                    "TotalProfit": "8118.00",
                                    "TotalValue": "22832.10"
                                },
                                {
                                    "InvoiceID": "65111",
                                    "CustomerID": "896",
                                    "InvoiceDate": "2016-03-04",
                                    "LastEditedBy": "10",
                                    "NumberOfItems": "4",
                                    "TotalProfit": "8276.00",
                                    "TotalValue": "22750.45"
                                },
                                {
                                    "InvoiceID": "68026",
                                    "CustomerID": "71",
                                    "InvoiceDate": "2016-04-22",
                                    "LastEditedBy": "9",
                                    "NumberOfItems": "4",
                                    "TotalProfit": "7826.10",
                                    "TotalValue": "22709.74"
                                },
                                {
                                    "InvoiceID": "66609",
                                    "CustomerID": "912",
                                    "InvoiceDate": "2016-03-30",
                                    "LastEditedBy": "20",
                                    "NumberOfItems": "5",
                                    "TotalProfit": "7989.50",
                                    "TotalValue": "22665.35"
                                }
                            ]
                        },
                        "text/html": [
                            "<table>",
                            "<tr><th>InvoiceID</th><th>CustomerID</th><th>InvoiceDate</th><th>LastEditedBy</th><th>NumberOfItems</th><th>TotalProfit</th><th>TotalValue</th></tr>",
                            "<tr><td>64220</td><td>71</td><td>2016-02-20</td><td>16</td><td>5</td><td>12092.00</td><td>33966.40</td></tr>",
                            "<tr><td>67035</td><td>1043</td><td>2016-04-07</td><td>14</td><td>3</td><td>11590.50</td><td>31489.30</td></tr>",
                            "<tr><td>69043</td><td>415</td><td>2016-05-07</td><td>7</td><td>5</td><td>11472.00</td><td>31470.90</td></tr>",
                            "<tr><td>70445</td><td>492</td><td>2016-05-31</td><td>3</td><td>5</td><td>10605.00</td><td>28280.80</td></tr>",
                            "<tr><td>65919</td><td>67</td><td>2016-03-21</td><td>11</td><td>4</td><td>9849.60</td><td>27219.12</td></tr>",
                            "<tr><td>61812</td><td>1056</td><td>2016-01-07</td><td>19</td><td>4</td><td>9110.40</td><td>25334.94</td></tr>",
                            "<tr><td>62060</td><td>42</td><td>2016-01-12</td><td>4</td><td>4</td><td>9259.50</td><td>25247.55</td></tr>",
                            "<tr><td>69291</td><td>498</td><td>2016-05-12</td><td>10</td><td>5</td><td>8939.00</td><td>24735.80</td></tr>",
                            "<tr><td>63360</td><td>983</td><td>2016-02-03</td><td>15</td><td>5</td><td>9145.00</td><td>24110.90</td></tr>",
                            "<tr><td>68978</td><td>904</td><td>2016-05-06</td><td>17</td><td>3</td><td>8871.00</td><td>23877.45</td></tr>",
                            "<tr><td>63544</td><td>1040</td><td>2016-02-08</td><td>15</td><td>3</td><td>8353.60</td><td>23704.06</td></tr>",
                            "<tr><td>61866</td><td>166</td><td>2016-01-08</td><td>12</td><td>3</td><td>8200.50</td><td>23673.90</td></tr>",
                            "<tr><td>67150</td><td>550</td><td>2016-04-08</td><td>2</td><td>5</td><td>8174.00</td><td>23485.76</td></tr>",
                            "<tr><td>70208</td><td>988</td><td>2016-05-26</td><td>9</td><td>5</td><td>8130.55</td><td>23140.13</td></tr>",
                            "<tr><td>67031</td><td>934</td><td>2016-04-07</td><td>14</td><td>2</td><td>10100.00</td><td>23115.00</td></tr>",
                            "<tr><td>67254</td><td>177</td><td>2016-04-11</td><td>18</td><td>5</td><td>9393.00</td><td>22837.85</td></tr>",
                            "<tr><td>64262</td><td>815</td><td>2016-02-22</td><td>9</td><td>2</td><td>8118.00</td><td>22832.10</td></tr>",
                            "<tr><td>65111</td><td>896</td><td>2016-03-04</td><td>10</td><td>4</td><td>8276.00</td><td>22750.45</td></tr>",
                            "<tr><td>68026</td><td>71</td><td>2016-04-22</td><td>9</td><td>4</td><td>7826.10</td><td>22709.74</td></tr>",
                            "<tr><td>66609</td><td>912</td><td>2016-03-30</td><td>20</td><td>5</td><td>7989.50</td><td>22665.35</td></tr>",
                            "</table>"
                        ]
                    }
                }
            ],
            "execution_count": 110
        },
        {
            "cell_type": "markdown",
            "source": [
                "Task 2 (Query 2) - View the original order and see who was involved with it\n",
                "\n",
                "\\- Searches for orders matching Customer of Interest\n",
                "\n",
                "\\- Reveals who sold and who picked the items (Suspects) and the timing of the order\n",
                "\n",
                "\\- Use CustomerID and OrderDate from last Task to find the suspected order"
            ],
            "metadata": {
                "language": "sql",
                "azdata_cell_guid": "904d3295-a116-43ec-a7e8-d6849b2c5b24"
            },
            "attachments": {}
        },
        {
            "cell_type": "code",
            "source": [
                "SELECT \r\n",
                "    OrderID,\r\n",
                "    CustomerID,\r\n",
                "    OrderDate,\r\n",
                "    ExpectedDeliveryDate,\r\n",
                "    PickingCompletedWhen,\r\n",
                "    SalespersonPersonID,\r\n",
                "    PickedByPersonID,\r\n",
                "    ContactPersonID,\r\n",
                "    LastEditedBy,\r\n",
                "    LastEditedWhen,\r\n",
                "    DATEDIFF(day, OrderDate, PickingCompletedWhen) AS DaysToPickOrder\r\n",
                "FROM Sales.Orders\r\n",
                "WHERE CustomerID = 71 -- Found in Task 1\r\n",
                "    AND YEAR(OrderDate) = 2016\r\n",
                "ORDER BY OrderDate DESC"
            ],
            "metadata": {
                "language": "sql",
                "azdata_cell_guid": "b69b5e84-463f-4408-bfc3-0a2ffdd85b5e"
            },
            "outputs": [
                {
                    "output_type": "display_data",
                    "data": {
                        "text/html": "(27 rows affected)"
                    },
                    "metadata": {}
                },
                {
                    "output_type": "display_data",
                    "data": {
                        "text/html": "Total execution time: 00:00:00.007"
                    },
                    "metadata": {}
                },
                {
                    "output_type": "execute_result",
                    "metadata": {},
                    "execution_count": 111,
                    "data": {
                        "application/vnd.dataresource+json": {
                            "schema": {
                                "fields": [
                                    {
                                        "name": "OrderID"
                                    },
                                    {
                                        "name": "CustomerID"
                                    },
                                    {
                                        "name": "OrderDate"
                                    },
                                    {
                                        "name": "ExpectedDeliveryDate"
                                    },
                                    {
                                        "name": "PickingCompletedWhen"
                                    },
                                    {
                                        "name": "SalespersonPersonID"
                                    },
                                    {
                                        "name": "PickedByPersonID"
                                    },
                                    {
                                        "name": "ContactPersonID"
                                    },
                                    {
                                        "name": "LastEditedBy"
                                    },
                                    {
                                        "name": "LastEditedWhen"
                                    },
                                    {
                                        "name": "DaysToPickOrder"
                                    }
                                ]
                            },
                            "data": [
                                {
                                    "OrderID": "73457",
                                    "CustomerID": "71",
                                    "OrderDate": "2016-05-30",
                                    "ExpectedDeliveryDate": "2016-05-31",
                                    "PickingCompletedWhen": "2016-05-30 11:00:00.0000000",
                                    "SalespersonPersonID": "15",
                                    "PickedByPersonID": "5",
                                    "ContactPersonID": "1141",
                                    "LastEditedBy": "5",
                                    "LastEditedWhen": "2016-05-30 11:00:00.0000000",
                                    "DaysToPickOrder": "0"
                                },
                                {
                                    "OrderID": "71699",
                                    "CustomerID": "71",
                                    "OrderDate": "2016-05-04",
                                    "ExpectedDeliveryDate": "2016-05-05",
                                    "PickingCompletedWhen": "2016-05-04 11:00:00.0000000",
                                    "SalespersonPersonID": "3",
                                    "PickedByPersonID": "15",
                                    "ContactPersonID": "1141",
                                    "LastEditedBy": "15",
                                    "LastEditedWhen": "2016-05-04 11:00:00.0000000",
                                    "DaysToPickOrder": "0"
                                },
                                {
                                    "OrderID": "71641",
                                    "CustomerID": "71",
                                    "OrderDate": "2016-05-03",
                                    "ExpectedDeliveryDate": "2016-05-04",
                                    "PickingCompletedWhen": "2016-05-03 11:00:00.0000000",
                                    "SalespersonPersonID": "14",
                                    "PickedByPersonID": "20",
                                    "ContactPersonID": "1141",
                                    "LastEditedBy": "20",
                                    "LastEditedWhen": "2016-05-03 11:00:00.0000000",
                                    "DaysToPickOrder": "0"
                                },
                                {
                                    "OrderID": "70972",
                                    "CustomerID": "71",
                                    "OrderDate": "2016-04-22",
                                    "ExpectedDeliveryDate": "2016-04-25",
                                    "PickingCompletedWhen": "2016-04-22 12:00:00.0000000",
                                    "SalespersonPersonID": "20",
                                    "PickedByPersonID": "NULL",
                                    "ContactPersonID": "1141",
                                    "LastEditedBy": "14",
                                    "LastEditedWhen": "2016-04-22 12:00:00.0000000",
                                    "DaysToPickOrder": "0"
                                },
                                {
                                    "OrderID": "71021",
                                    "CustomerID": "71",
                                    "OrderDate": "2016-04-22",
                                    "ExpectedDeliveryDate": "2016-04-25",
                                    "PickingCompletedWhen": "2016-04-26 11:00:00.0000000",
                                    "SalespersonPersonID": "20",
                                    "PickedByPersonID": "13",
                                    "ContactPersonID": "1141",
                                    "LastEditedBy": "13",
                                    "LastEditedWhen": "2016-04-26 11:00:00.0000000",
                                    "DaysToPickOrder": "4"
                                },
                                {
                                    "OrderID": "70139",
                                    "CustomerID": "71",
                                    "OrderDate": "2016-04-11",
                                    "ExpectedDeliveryDate": "2016-04-12",
                                    "PickingCompletedWhen": "2016-04-11 12:00:00.0000000",
                                    "SalespersonPersonID": "20",
                                    "PickedByPersonID": "NULL",
                                    "ContactPersonID": "1141",
                                    "LastEditedBy": "10",
                                    "LastEditedWhen": "2016-04-11 12:00:00.0000000",
                                    "DaysToPickOrder": "0"
                                },
                                {
                                    "OrderID": "70198",
                                    "CustomerID": "71",
                                    "OrderDate": "2016-04-11",
                                    "ExpectedDeliveryDate": "2016-04-12",
                                    "PickingCompletedWhen": "NULL",
                                    "SalespersonPersonID": "20",
                                    "PickedByPersonID": "NULL",
                                    "ContactPersonID": "1141",
                                    "LastEditedBy": "10",
                                    "LastEditedWhen": "2016-04-11 12:00:00.0000000",
                                    "DaysToPickOrder": "NULL"
                                },
                                {
                                    "OrderID": "69902",
                                    "CustomerID": "71",
                                    "OrderDate": "2016-04-07",
                                    "ExpectedDeliveryDate": "2016-04-08",
                                    "PickingCompletedWhen": "2016-04-07 11:00:00.0000000",
                                    "SalespersonPersonID": "14",
                                    "PickedByPersonID": "19",
                                    "ContactPersonID": "1141",
                                    "LastEditedBy": "19",
                                    "LastEditedWhen": "2016-04-07 11:00:00.0000000",
                                    "DaysToPickOrder": "0"
                                },
                                {
                                    "OrderID": "69925",
                                    "CustomerID": "71",
                                    "OrderDate": "2016-04-07",
                                    "ExpectedDeliveryDate": "2016-04-08",
                                    "PickingCompletedWhen": "2016-04-07 11:00:00.0000000",
                                    "SalespersonPersonID": "20",
                                    "PickedByPersonID": "19",
                                    "ContactPersonID": "1141",
                                    "LastEditedBy": "19",
                                    "LastEditedWhen": "2016-04-07 11:00:00.0000000",
                                    "DaysToPickOrder": "0"
                                },
                                {
                                    "OrderID": "69348",
                                    "CustomerID": "71",
                                    "OrderDate": "2016-03-29",
                                    "ExpectedDeliveryDate": "2016-03-30",
                                    "PickingCompletedWhen": "2016-03-29 11:00:00.0000000",
                                    "SalespersonPersonID": "7",
                                    "PickedByPersonID": "7",
                                    "ContactPersonID": "1141",
                                    "LastEditedBy": "7",
                                    "LastEditedWhen": "2016-03-29 11:00:00.0000000",
                                    "DaysToPickOrder": "0"
                                },
                                {
                                    "OrderID": "69047",
                                    "CustomerID": "71",
                                    "OrderDate": "2016-03-24",
                                    "ExpectedDeliveryDate": "2016-03-25",
                                    "PickingCompletedWhen": "2016-03-24 12:00:00.0000000",
                                    "SalespersonPersonID": "13",
                                    "PickedByPersonID": "NULL",
                                    "ContactPersonID": "1141",
                                    "LastEditedBy": "5",
                                    "LastEditedWhen": "2016-03-24 12:00:00.0000000",
                                    "DaysToPickOrder": "0"
                                },
                                {
                                    "OrderID": "69093",
                                    "CustomerID": "71",
                                    "OrderDate": "2016-03-24",
                                    "ExpectedDeliveryDate": "2016-03-25",
                                    "PickingCompletedWhen": "NULL",
                                    "SalespersonPersonID": "13",
                                    "PickedByPersonID": "NULL",
                                    "ContactPersonID": "1141",
                                    "LastEditedBy": "5",
                                    "LastEditedWhen": "2016-03-24 12:00:00.0000000",
                                    "DaysToPickOrder": "NULL"
                                },
                                {
                                    "OrderID": "68372",
                                    "CustomerID": "71",
                                    "OrderDate": "2016-03-14",
                                    "ExpectedDeliveryDate": "2016-03-15",
                                    "PickingCompletedWhen": "2016-03-14 11:00:00.0000000",
                                    "SalespersonPersonID": "14",
                                    "PickedByPersonID": "14",
                                    "ContactPersonID": "1141",
                                    "LastEditedBy": "14",
                                    "LastEditedWhen": "2016-03-14 11:00:00.0000000",
                                    "DaysToPickOrder": "0"
                                },
                                {
                                    "OrderID": "68045",
                                    "CustomerID": "71",
                                    "OrderDate": "2016-03-07",
                                    "ExpectedDeliveryDate": "2016-03-08",
                                    "PickingCompletedWhen": "2016-03-07 11:00:00.0000000",
                                    "SalespersonPersonID": "2",
                                    "PickedByPersonID": "12",
                                    "ContactPersonID": "1141",
                                    "LastEditedBy": "12",
                                    "LastEditedWhen": "2016-03-07 11:00:00.0000000",
                                    "DaysToPickOrder": "0"
                                },
                                {
                                    "OrderID": "67796",
                                    "CustomerID": "71",
                                    "OrderDate": "2016-03-02",
                                    "ExpectedDeliveryDate": "2016-03-03",
                                    "PickingCompletedWhen": "2016-03-02 11:00:00.0000000",
                                    "SalespersonPersonID": "13",
                                    "PickedByPersonID": "7",
                                    "ContactPersonID": "1141",
                                    "LastEditedBy": "7",
                                    "LastEditedWhen": "2016-03-02 11:00:00.0000000",
                                    "DaysToPickOrder": "0"
                                },
                                {
                                    "OrderID": "67340",
                                    "CustomerID": "71",
                                    "OrderDate": "2016-02-25",
                                    "ExpectedDeliveryDate": "2016-02-26",
                                    "PickingCompletedWhen": "2016-02-25 12:00:00.0000000",
                                    "SalespersonPersonID": "13",
                                    "PickedByPersonID": "NULL",
                                    "ContactPersonID": "1141",
                                    "LastEditedBy": "17",
                                    "LastEditedWhen": "2016-02-25 12:00:00.0000000",
                                    "DaysToPickOrder": "0"
                                },
                                {
                                    "OrderID": "67347",
                                    "CustomerID": "71",
                                    "OrderDate": "2016-02-25",
                                    "ExpectedDeliveryDate": "2016-02-26",
                                    "PickingCompletedWhen": "2016-02-25 11:00:00.0000000",
                                    "SalespersonPersonID": "3",
                                    "PickedByPersonID": "4",
                                    "ContactPersonID": "1141",
                                    "LastEditedBy": "4",
                                    "LastEditedWhen": "2016-02-25 11:00:00.0000000",
                                    "DaysToPickOrder": "0"
                                },
                                {
                                    "OrderID": "67359",
                                    "CustomerID": "71",
                                    "OrderDate": "2016-02-25",
                                    "ExpectedDeliveryDate": "2016-02-26",
                                    "PickingCompletedWhen": "NULL",
                                    "SalespersonPersonID": "13",
                                    "PickedByPersonID": "NULL",
                                    "ContactPersonID": "1141",
                                    "LastEditedBy": "17",
                                    "LastEditedWhen": "2016-02-25 12:00:00.0000000",
                                    "DaysToPickOrder": "NULL"
                                },
                                {
                                    "OrderID": "67038",
                                    "CustomerID": "71",
                                    "OrderDate": "2016-02-22",
                                    "ExpectedDeliveryDate": "2016-02-23",
                                    "PickingCompletedWhen": "2016-02-22 12:00:00.0000000",
                                    "SalespersonPersonID": "20",
                                    "PickedByPersonID": "NULL",
                                    "ContactPersonID": "1141",
                                    "LastEditedBy": "13",
                                    "LastEditedWhen": "2016-02-22 12:00:00.0000000",
                                    "DaysToPickOrder": "0"
                                },
                                {
                                    "OrderID": "67074",
                                    "CustomerID": "71",
                                    "OrderDate": "2016-02-22",
                                    "ExpectedDeliveryDate": "2016-02-23",
                                    "PickingCompletedWhen": "NULL",
                                    "SalespersonPersonID": "20",
                                    "PickedByPersonID": "NULL",
                                    "ContactPersonID": "1141",
                                    "LastEditedBy": "13",
                                    "LastEditedWhen": "2016-02-22 12:00:00.0000000",
                                    "DaysToPickOrder": "NULL"
                                },
                                {
                                    "OrderID": "66991",
                                    "CustomerID": "71",
                                    "OrderDate": "2016-02-20",
                                    "ExpectedDeliveryDate": "2016-02-22",
                                    "PickingCompletedWhen": "2016-02-20 11:00:00.0000000",
                                    "SalespersonPersonID": "16",
                                    "PickedByPersonID": "9",
                                    "ContactPersonID": "1141",
                                    "LastEditedBy": "9",
                                    "LastEditedWhen": "2016-02-20 11:00:00.0000000",
                                    "DaysToPickOrder": "0"
                                },
                                {
                                    "OrderID": "66351",
                                    "CustomerID": "71",
                                    "OrderDate": "2016-02-09",
                                    "ExpectedDeliveryDate": "2016-02-10",
                                    "PickingCompletedWhen": "2016-02-09 11:00:00.0000000",
                                    "SalespersonPersonID": "7",
                                    "PickedByPersonID": "15",
                                    "ContactPersonID": "1141",
                                    "LastEditedBy": "15",
                                    "LastEditedWhen": "2016-02-09 11:00:00.0000000",
                                    "DaysToPickOrder": "0"
                                },
                                {
                                    "OrderID": "66381",
                                    "CustomerID": "71",
                                    "OrderDate": "2016-02-09",
                                    "ExpectedDeliveryDate": "2016-02-10",
                                    "PickingCompletedWhen": "2016-02-09 11:00:00.0000000",
                                    "SalespersonPersonID": "16",
                                    "PickedByPersonID": "15",
                                    "ContactPersonID": "1141",
                                    "LastEditedBy": "15",
                                    "LastEditedWhen": "2016-02-09 11:00:00.0000000",
                                    "DaysToPickOrder": "0"
                                },
                                {
                                    "OrderID": "65981",
                                    "CustomerID": "71",
                                    "OrderDate": "2016-02-02",
                                    "ExpectedDeliveryDate": "2016-02-03",
                                    "PickingCompletedWhen": "2016-02-02 11:00:00.0000000",
                                    "SalespersonPersonID": "2",
                                    "PickedByPersonID": "8",
                                    "ContactPersonID": "1141",
                                    "LastEditedBy": "8",
                                    "LastEditedWhen": "2016-02-02 11:00:00.0000000",
                                    "DaysToPickOrder": "0"
                                },
                                {
                                    "OrderID": "65873",
                                    "CustomerID": "71",
                                    "OrderDate": "2016-01-30",
                                    "ExpectedDeliveryDate": "2016-02-01",
                                    "PickingCompletedWhen": "2016-01-30 12:00:00.0000000",
                                    "SalespersonPersonID": "13",
                                    "PickedByPersonID": "NULL",
                                    "ContactPersonID": "1141",
                                    "LastEditedBy": "16",
                                    "LastEditedWhen": "2016-01-30 12:00:00.0000000",
                                    "DaysToPickOrder": "0"
                                },
                                {
                                    "OrderID": "65907",
                                    "CustomerID": "71",
                                    "OrderDate": "2016-01-30",
                                    "ExpectedDeliveryDate": "2016-02-01",
                                    "PickingCompletedWhen": "2016-02-02 11:00:00.0000000",
                                    "SalespersonPersonID": "13",
                                    "PickedByPersonID": "8",
                                    "ContactPersonID": "1141",
                                    "LastEditedBy": "8",
                                    "LastEditedWhen": "2016-02-02 11:00:00.0000000",
                                    "DaysToPickOrder": "3"
                                },
                                {
                                    "OrderID": "63999",
                                    "CustomerID": "71",
                                    "OrderDate": "2016-01-01",
                                    "ExpectedDeliveryDate": "2016-01-04",
                                    "PickingCompletedWhen": "2016-01-01 11:00:00.0000000",
                                    "SalespersonPersonID": "7",
                                    "PickedByPersonID": "11",
                                    "ContactPersonID": "1141",
                                    "LastEditedBy": "11",
                                    "LastEditedWhen": "2016-01-01 11:00:00.0000000",
                                    "DaysToPickOrder": "0"
                                }
                            ]
                        },
                        "text/html": [
                            "<table>",
                            "<tr><th>OrderID</th><th>CustomerID</th><th>OrderDate</th><th>ExpectedDeliveryDate</th><th>PickingCompletedWhen</th><th>SalespersonPersonID</th><th>PickedByPersonID</th><th>ContactPersonID</th><th>LastEditedBy</th><th>LastEditedWhen</th><th>DaysToPickOrder</th></tr>",
                            "<tr><td>73457</td><td>71</td><td>2016-05-30</td><td>2016-05-31</td><td>2016-05-30 11:00:00.0000000</td><td>15</td><td>5</td><td>1141</td><td>5</td><td>2016-05-30 11:00:00.0000000</td><td>0</td></tr>",
                            "<tr><td>71699</td><td>71</td><td>2016-05-04</td><td>2016-05-05</td><td>2016-05-04 11:00:00.0000000</td><td>3</td><td>15</td><td>1141</td><td>15</td><td>2016-05-04 11:00:00.0000000</td><td>0</td></tr>",
                            "<tr><td>71641</td><td>71</td><td>2016-05-03</td><td>2016-05-04</td><td>2016-05-03 11:00:00.0000000</td><td>14</td><td>20</td><td>1141</td><td>20</td><td>2016-05-03 11:00:00.0000000</td><td>0</td></tr>",
                            "<tr><td>70972</td><td>71</td><td>2016-04-22</td><td>2016-04-25</td><td>2016-04-22 12:00:00.0000000</td><td>20</td><td>NULL</td><td>1141</td><td>14</td><td>2016-04-22 12:00:00.0000000</td><td>0</td></tr>",
                            "<tr><td>71021</td><td>71</td><td>2016-04-22</td><td>2016-04-25</td><td>2016-04-26 11:00:00.0000000</td><td>20</td><td>13</td><td>1141</td><td>13</td><td>2016-04-26 11:00:00.0000000</td><td>4</td></tr>",
                            "<tr><td>70139</td><td>71</td><td>2016-04-11</td><td>2016-04-12</td><td>2016-04-11 12:00:00.0000000</td><td>20</td><td>NULL</td><td>1141</td><td>10</td><td>2016-04-11 12:00:00.0000000</td><td>0</td></tr>",
                            "<tr><td>70198</td><td>71</td><td>2016-04-11</td><td>2016-04-12</td><td>NULL</td><td>20</td><td>NULL</td><td>1141</td><td>10</td><td>2016-04-11 12:00:00.0000000</td><td>NULL</td></tr>",
                            "<tr><td>69902</td><td>71</td><td>2016-04-07</td><td>2016-04-08</td><td>2016-04-07 11:00:00.0000000</td><td>14</td><td>19</td><td>1141</td><td>19</td><td>2016-04-07 11:00:00.0000000</td><td>0</td></tr>",
                            "<tr><td>69925</td><td>71</td><td>2016-04-07</td><td>2016-04-08</td><td>2016-04-07 11:00:00.0000000</td><td>20</td><td>19</td><td>1141</td><td>19</td><td>2016-04-07 11:00:00.0000000</td><td>0</td></tr>",
                            "<tr><td>69348</td><td>71</td><td>2016-03-29</td><td>2016-03-30</td><td>2016-03-29 11:00:00.0000000</td><td>7</td><td>7</td><td>1141</td><td>7</td><td>2016-03-29 11:00:00.0000000</td><td>0</td></tr>",
                            "<tr><td>69047</td><td>71</td><td>2016-03-24</td><td>2016-03-25</td><td>2016-03-24 12:00:00.0000000</td><td>13</td><td>NULL</td><td>1141</td><td>5</td><td>2016-03-24 12:00:00.0000000</td><td>0</td></tr>",
                            "<tr><td>69093</td><td>71</td><td>2016-03-24</td><td>2016-03-25</td><td>NULL</td><td>13</td><td>NULL</td><td>1141</td><td>5</td><td>2016-03-24 12:00:00.0000000</td><td>NULL</td></tr>",
                            "<tr><td>68372</td><td>71</td><td>2016-03-14</td><td>2016-03-15</td><td>2016-03-14 11:00:00.0000000</td><td>14</td><td>14</td><td>1141</td><td>14</td><td>2016-03-14 11:00:00.0000000</td><td>0</td></tr>",
                            "<tr><td>68045</td><td>71</td><td>2016-03-07</td><td>2016-03-08</td><td>2016-03-07 11:00:00.0000000</td><td>2</td><td>12</td><td>1141</td><td>12</td><td>2016-03-07 11:00:00.0000000</td><td>0</td></tr>",
                            "<tr><td>67796</td><td>71</td><td>2016-03-02</td><td>2016-03-03</td><td>2016-03-02 11:00:00.0000000</td><td>13</td><td>7</td><td>1141</td><td>7</td><td>2016-03-02 11:00:00.0000000</td><td>0</td></tr>",
                            "<tr><td>67340</td><td>71</td><td>2016-02-25</td><td>2016-02-26</td><td>2016-02-25 12:00:00.0000000</td><td>13</td><td>NULL</td><td>1141</td><td>17</td><td>2016-02-25 12:00:00.0000000</td><td>0</td></tr>",
                            "<tr><td>67347</td><td>71</td><td>2016-02-25</td><td>2016-02-26</td><td>2016-02-25 11:00:00.0000000</td><td>3</td><td>4</td><td>1141</td><td>4</td><td>2016-02-25 11:00:00.0000000</td><td>0</td></tr>",
                            "<tr><td>67359</td><td>71</td><td>2016-02-25</td><td>2016-02-26</td><td>NULL</td><td>13</td><td>NULL</td><td>1141</td><td>17</td><td>2016-02-25 12:00:00.0000000</td><td>NULL</td></tr>",
                            "<tr><td>67038</td><td>71</td><td>2016-02-22</td><td>2016-02-23</td><td>2016-02-22 12:00:00.0000000</td><td>20</td><td>NULL</td><td>1141</td><td>13</td><td>2016-02-22 12:00:00.0000000</td><td>0</td></tr>",
                            "<tr><td>67074</td><td>71</td><td>2016-02-22</td><td>2016-02-23</td><td>NULL</td><td>20</td><td>NULL</td><td>1141</td><td>13</td><td>2016-02-22 12:00:00.0000000</td><td>NULL</td></tr>",
                            "<tr><td>66991</td><td>71</td><td>2016-02-20</td><td>2016-02-22</td><td>2016-02-20 11:00:00.0000000</td><td>16</td><td>9</td><td>1141</td><td>9</td><td>2016-02-20 11:00:00.0000000</td><td>0</td></tr>",
                            "<tr><td>66351</td><td>71</td><td>2016-02-09</td><td>2016-02-10</td><td>2016-02-09 11:00:00.0000000</td><td>7</td><td>15</td><td>1141</td><td>15</td><td>2016-02-09 11:00:00.0000000</td><td>0</td></tr>",
                            "<tr><td>66381</td><td>71</td><td>2016-02-09</td><td>2016-02-10</td><td>2016-02-09 11:00:00.0000000</td><td>16</td><td>15</td><td>1141</td><td>15</td><td>2016-02-09 11:00:00.0000000</td><td>0</td></tr>",
                            "<tr><td>65981</td><td>71</td><td>2016-02-02</td><td>2016-02-03</td><td>2016-02-02 11:00:00.0000000</td><td>2</td><td>8</td><td>1141</td><td>8</td><td>2016-02-02 11:00:00.0000000</td><td>0</td></tr>",
                            "<tr><td>65873</td><td>71</td><td>2016-01-30</td><td>2016-02-01</td><td>2016-01-30 12:00:00.0000000</td><td>13</td><td>NULL</td><td>1141</td><td>16</td><td>2016-01-30 12:00:00.0000000</td><td>0</td></tr>",
                            "<tr><td>65907</td><td>71</td><td>2016-01-30</td><td>2016-02-01</td><td>2016-02-02 11:00:00.0000000</td><td>13</td><td>8</td><td>1141</td><td>8</td><td>2016-02-02 11:00:00.0000000</td><td>3</td></tr>",
                            "<tr><td>63999</td><td>71</td><td>2016-01-01</td><td>2016-01-04</td><td>2016-01-01 11:00:00.0000000</td><td>7</td><td>11</td><td>1141</td><td>11</td><td>2016-01-01 11:00:00.0000000</td><td>0</td></tr>",
                            "</table>"
                        ]
                    }
                }
            ],
            "execution_count": 111
        },
        {
            "cell_type": "markdown",
            "source": [
                "Task 3 (Query 3) - Investigate the Customer Profile of the original order\n",
                "\n",
                "\\- Displays complete information about the customer\n",
                "\n",
                "\\- Lists possible red flags, possible leading to the conclusion that the customer is a front\n",
                "\n",
                "\\- Shows who was involved, showing a connection between suspects"
            ],
            "metadata": {
                "language": "sql",
                "azdata_cell_guid": "aa35be5d-330c-434b-abf6-9a158e0bb0c2"
            },
            "attachments": {}
        },
        {
            "cell_type": "code",
            "source": [
                "SELECT \r\n",
                "    CustomerID,\r\n",
                "    CustomerName,\r\n",
                "    CreditLimit,\r\n",
                "    AccountOpenedDate,\r\n",
                "    PaymentDays,\r\n",
                "    PhoneNumber,\r\n",
                "    DeliveryAddressLine1,\r\n",
                "    DeliveryAddressLine2,\r\n",
                "    PostalAddressLine1,\r\n",
                "    PostalAddressLine2,\r\n",
                "    PrimaryContactPersonID,\r\n",
                "    AlternateContactPersonID,\r\n",
                "    DeliveryCityID,\r\n",
                "    PostalCityID,\r\n",
                "    LastEditedBy,\r\n",
                "    ValidFrom\r\n",
                "FROM Sales.Customers\r\n",
                "WHERE CustomerID = 71"
            ],
            "metadata": {
                "language": "sql",
                "azdata_cell_guid": "355d5c2e-e3de-41f6-9c5e-0b2d37619e96",
                "tags": []
            },
            "outputs": [
                {
                    "output_type": "display_data",
                    "data": {
                        "text/html": "(1 row affected)"
                    },
                    "metadata": {}
                },
                {
                    "output_type": "display_data",
                    "data": {
                        "text/html": "Total execution time: 00:00:00.010"
                    },
                    "metadata": {}
                },
                {
                    "output_type": "execute_result",
                    "metadata": {},
                    "execution_count": 112,
                    "data": {
                        "application/vnd.dataresource+json": {
                            "schema": {
                                "fields": [
                                    {
                                        "name": "CustomerID"
                                    },
                                    {
                                        "name": "CustomerName"
                                    },
                                    {
                                        "name": "CreditLimit"
                                    },
                                    {
                                        "name": "AccountOpenedDate"
                                    },
                                    {
                                        "name": "PaymentDays"
                                    },
                                    {
                                        "name": "PhoneNumber"
                                    },
                                    {
                                        "name": "DeliveryAddressLine1"
                                    },
                                    {
                                        "name": "DeliveryAddressLine2"
                                    },
                                    {
                                        "name": "PostalAddressLine1"
                                    },
                                    {
                                        "name": "PostalAddressLine2"
                                    },
                                    {
                                        "name": "PrimaryContactPersonID"
                                    },
                                    {
                                        "name": "AlternateContactPersonID"
                                    },
                                    {
                                        "name": "DeliveryCityID"
                                    },
                                    {
                                        "name": "PostalCityID"
                                    },
                                    {
                                        "name": "LastEditedBy"
                                    },
                                    {
                                        "name": "ValidFrom"
                                    }
                                ]
                            },
                            "data": [
                                {
                                    "CustomerID": "71",
                                    "CustomerName": "Tailspin Toys (Good Hart, MI)",
                                    "CreditLimit": "NULL",
                                    "AccountOpenedDate": "2013-01-01",
                                    "PaymentDays": "7",
                                    "PhoneNumber": "(231) 555-0100",
                                    "DeliveryAddressLine1": "Shop 80",
                                    "DeliveryAddressLine2": "2001 Rajanala Road",
                                    "PostalAddressLine1": "PO Box 9785",
                                    "PostalAddressLine2": "Espositoville",
                                    "PrimaryContactPersonID": "1141",
                                    "AlternateContactPersonID": "1142",
                                    "DeliveryCityID": "13375",
                                    "PostalCityID": "13375",
                                    "LastEditedBy": "1",
                                    "ValidFrom": "2013-01-01 00:00:00.0000000"
                                }
                            ]
                        },
                        "text/html": [
                            "<table>",
                            "<tr><th>CustomerID</th><th>CustomerName</th><th>CreditLimit</th><th>AccountOpenedDate</th><th>PaymentDays</th><th>PhoneNumber</th><th>DeliveryAddressLine1</th><th>DeliveryAddressLine2</th><th>PostalAddressLine1</th><th>PostalAddressLine2</th><th>PrimaryContactPersonID</th><th>AlternateContactPersonID</th><th>DeliveryCityID</th><th>PostalCityID</th><th>LastEditedBy</th><th>ValidFrom</th></tr>",
                            "<tr><td>71</td><td>Tailspin Toys (Good Hart, MI)</td><td>NULL</td><td>2013-01-01</td><td>7</td><td>(231) 555-0100</td><td>Shop 80</td><td>2001 Rajanala Road</td><td>PO Box 9785</td><td>Espositoville</td><td>1141</td><td>1142</td><td>13375</td><td>13375</td><td>1</td><td>2013-01-01 00:00:00.0000000</td></tr>",
                            "</table>"
                        ]
                    }
                }
            ],
            "execution_count": 112
        },
        {
            "cell_type": "markdown",
            "source": [
                "Task 4 (Query 4) - Cross-References Everyone involved\n",
                "\n",
                "\\- Lists all employees and buyers who are connected in the case\n",
                "\n",
                "\\- Shows their roles, contact information, and permissions\n",
                "\n",
                "\\- Identifies when they were hired"
            ],
            "metadata": {
                "language": "sql",
                "azdata_cell_guid": "54461d0c-337d-4d32-ba9d-c9518f9bf1f3"
            },
            "attachments": {}
        },
        {
            "cell_type": "code",
            "source": [
                "SELECT \r\n",
                "    PersonID,\r\n",
                "    FullName,\r\n",
                "    PreferredName,\r\n",
                "    IsEmployee,\r\n",
                "    IsSalesperson,\r\n",
                "    PhoneNumber,\r\n",
                "    EmailAddress,\r\n",
                "    IsPermittedToLogon,\r\n",
                "    ValidFrom,\r\n",
                "    ValidTo\r\n",
                "FROM Application.People\r\n",
                "WHERE PersonID IN (16, 9, 1141, 1142)  -- From SalespersonID, PickedByPersonID, & ContactPersonID From Previous Query Searches\r\n",
                "ORDER BY PersonID"
            ],
            "metadata": {
                "language": "sql",
                "azdata_cell_guid": "e5567689-2039-4107-b1e1-368b31b0fa2a"
            },
            "outputs": [
                {
                    "output_type": "display_data",
                    "data": {
                        "text/html": "(4 rows affected)"
                    },
                    "metadata": {}
                },
                {
                    "output_type": "display_data",
                    "data": {
                        "text/html": "Total execution time: 00:00:00.005"
                    },
                    "metadata": {}
                },
                {
                    "output_type": "execute_result",
                    "metadata": {},
                    "execution_count": 113,
                    "data": {
                        "application/vnd.dataresource+json": {
                            "schema": {
                                "fields": [
                                    {
                                        "name": "PersonID"
                                    },
                                    {
                                        "name": "FullName"
                                    },
                                    {
                                        "name": "PreferredName"
                                    },
                                    {
                                        "name": "IsEmployee"
                                    },
                                    {
                                        "name": "IsSalesperson"
                                    },
                                    {
                                        "name": "PhoneNumber"
                                    },
                                    {
                                        "name": "EmailAddress"
                                    },
                                    {
                                        "name": "IsPermittedToLogon"
                                    },
                                    {
                                        "name": "ValidFrom"
                                    },
                                    {
                                        "name": "ValidTo"
                                    }
                                ]
                            },
                            "data": [
                                {
                                    "PersonID": "9",
                                    "FullName": "Alica Fatnowna",
                                    "PreferredName": "Alica",
                                    "IsEmployee": "1",
                                    "IsSalesperson": "0",
                                    "PhoneNumber": "(415) 555-0102",
                                    "EmailAddress": "alicaf@wideworldimporters.com",
                                    "IsPermittedToLogon": "1",
                                    "ValidFrom": "2016-05-31 23:14:00.0000000",
                                    "ValidTo": "9999-12-31 23:59:59.9999999"
                                },
                                {
                                    "PersonID": "16",
                                    "FullName": "Archer Lamble",
                                    "PreferredName": "Archer",
                                    "IsEmployee": "1",
                                    "IsSalesperson": "1",
                                    "PhoneNumber": "(415) 555-0102",
                                    "EmailAddress": "archerl@wideworldimporters.com",
                                    "IsPermittedToLogon": "0",
                                    "ValidFrom": "2016-05-31 23:14:00.0000000",
                                    "ValidTo": "9999-12-31 23:59:59.9999999"
                                },
                                {
                                    "PersonID": "1141",
                                    "FullName": "Afshin Djalili",
                                    "PreferredName": "Afshin",
                                    "IsEmployee": "0",
                                    "IsSalesperson": "0",
                                    "PhoneNumber": "(231) 555-0100",
                                    "EmailAddress": "afshin@tailspintoys.com",
                                    "IsPermittedToLogon": "0",
                                    "ValidFrom": "2013-01-01 00:00:00.0000000",
                                    "ValidTo": "9999-12-31 23:59:59.9999999"
                                },
                                {
                                    "PersonID": "1142",
                                    "FullName": "Vaclav Holy",
                                    "PreferredName": "Vaclav",
                                    "IsEmployee": "0",
                                    "IsSalesperson": "0",
                                    "PhoneNumber": "(231) 555-0100",
                                    "EmailAddress": "vaclav@tailspintoys.com",
                                    "IsPermittedToLogon": "0",
                                    "ValidFrom": "2013-01-01 00:00:00.0000000",
                                    "ValidTo": "9999-12-31 23:59:59.9999999"
                                }
                            ]
                        },
                        "text/html": [
                            "<table>",
                            "<tr><th>PersonID</th><th>FullName</th><th>PreferredName</th><th>IsEmployee</th><th>IsSalesperson</th><th>PhoneNumber</th><th>EmailAddress</th><th>IsPermittedToLogon</th><th>ValidFrom</th><th>ValidTo</th></tr>",
                            "<tr><td>9</td><td>Alica Fatnowna</td><td>Alica</td><td>1</td><td>0</td><td>(415) 555-0102</td><td>alicaf@wideworldimporters.com</td><td>1</td><td>2016-05-31 23:14:00.0000000</td><td>9999-12-31 23:59:59.9999999</td></tr>",
                            "<tr><td>16</td><td>Archer Lamble</td><td>Archer</td><td>1</td><td>1</td><td>(415) 555-0102</td><td>archerl@wideworldimporters.com</td><td>0</td><td>2016-05-31 23:14:00.0000000</td><td>9999-12-31 23:59:59.9999999</td></tr>",
                            "<tr><td>1141</td><td>Afshin Djalili</td><td>Afshin</td><td>0</td><td>0</td><td>(231) 555-0100</td><td>afshin@tailspintoys.com</td><td>0</td><td>2013-01-01 00:00:00.0000000</td><td>9999-12-31 23:59:59.9999999</td></tr>",
                            "<tr><td>1142</td><td>Vaclav Holy</td><td>Vaclav</td><td>0</td><td>0</td><td>(231) 555-0100</td><td>vaclav@tailspintoys.com</td><td>0</td><td>2013-01-01 00:00:00.0000000</td><td>9999-12-31 23:59:59.9999999</td></tr>",
                            "</table>"
                        ]
                    }
                }
            ],
            "execution_count": 113
        },
        {
            "cell_type": "markdown",
            "source": [
                "Task 5 (Query 5) - Display the original order details to see if it was paid or unpaid\n",
                "\n",
                "\\- Tracks finances of transaction\n",
                "\n",
                "\\- Shows invoice amount, payments received, and any outstanding balances\n",
                "\n",
                "\\- Displays when transactions were finalized"
            ],
            "metadata": {
                "language": "sql",
                "azdata_cell_guid": "8588d658-8f76-4da8-83a4-c0b35b16664b"
            },
            "attachments": {}
        },
        {
            "cell_type": "code",
            "source": [
                "SELECT \r\n",
                "    CustomerTransactionID,\r\n",
                "    TransactionTypeID,\r\n",
                "    InvoiceID,\r\n",
                "    TransactionAmount,\r\n",
                "    TransactionDate,\r\n",
                "    OutstandingBalance,\r\n",
                "    FinalizationDate,\r\n",
                "    LastEditedBy,\r\n",
                "    LastEditedWhen\r\n",
                "FROM Sales.CustomerTransactions\r\n",
                "WHERE InvoiceID = 64220\r\n",
                "ORDER BY TransactionDate DESC"
            ],
            "metadata": {
                "language": "sql",
                "azdata_cell_guid": "10ead8da-2bd9-482e-b07c-fe3568ed40b1",
                "tags": []
            },
            "outputs": [
                {
                    "output_type": "display_data",
                    "data": {
                        "text/html": "(1 row affected)"
                    },
                    "metadata": {}
                },
                {
                    "output_type": "display_data",
                    "data": {
                        "text/html": "Total execution time: 00:00:00.006"
                    },
                    "metadata": {}
                },
                {
                    "output_type": "execute_result",
                    "metadata": {},
                    "execution_count": 114,
                    "data": {
                        "application/vnd.dataresource+json": {
                            "schema": {
                                "fields": [
                                    {
                                        "name": "CustomerTransactionID"
                                    },
                                    {
                                        "name": "TransactionTypeID"
                                    },
                                    {
                                        "name": "InvoiceID"
                                    },
                                    {
                                        "name": "TransactionAmount"
                                    },
                                    {
                                        "name": "TransactionDate"
                                    },
                                    {
                                        "name": "OutstandingBalance"
                                    },
                                    {
                                        "name": "FinalizationDate"
                                    },
                                    {
                                        "name": "LastEditedBy"
                                    },
                                    {
                                        "name": "LastEditedWhen"
                                    }
                                ]
                            },
                            "data": [
                                {
                                    "CustomerTransactionID": "306399",
                                    "TransactionTypeID": "1",
                                    "InvoiceID": "64220",
                                    "TransactionAmount": "33966.40",
                                    "TransactionDate": "2016-02-20",
                                    "OutstandingBalance": "0.00",
                                    "FinalizationDate": "2016-02-21",
                                    "LastEditedBy": "20",
                                    "LastEditedWhen": "2016-02-21 11:30:00.0000000"
                                }
                            ]
                        },
                        "text/html": [
                            "<table>",
                            "<tr><th>CustomerTransactionID</th><th>TransactionTypeID</th><th>InvoiceID</th><th>TransactionAmount</th><th>TransactionDate</th><th>OutstandingBalance</th><th>FinalizationDate</th><th>LastEditedBy</th><th>LastEditedWhen</th></tr>",
                            "<tr><td>306399</td><td>1</td><td>64220</td><td>33966.40</td><td>2016-02-20</td><td>0.00</td><td>2016-02-21</td><td>20</td><td>2016-02-21 11:30:00.0000000</td></tr>",
                            "</table>"
                        ]
                    }
                }
            ],
            "execution_count": 114
        },
        {
            "cell_type": "markdown",
            "source": [
                "# Mystery #4 - Insider Shipping\n",
                "\n",
                "## There's been somebody within the company who has been shipping expensive items to a dedicated group of customers giving them priority over others. Find out who this Employee is and who their Associated are from the general customer list"
            ],
            "metadata": {
                "azdata_cell_guid": "955aaa18-7df1-4562-a68c-f3d40e01e33e"
            },
            "attachments": {}
        },
        {
            "cell_type": "markdown",
            "source": [
                "Task 1 (Query 1) - Finds the person with the most picked orders\n",
                "\n",
                "\\- Differentiates who's making and picking these orders based off of their Individual IDs\n",
                "\n",
                "\\- Displays volume of orders placed to sort out Discrepencies\n",
                "\n",
                "\\- Shows First and Last pick times"
            ],
            "metadata": {
                "azdata_cell_guid": "a3868cfe-b62a-461a-9449-fc9c8d0e6fd8"
            },
            "attachments": {}
        },
        {
            "cell_type": "code",
            "source": [
                "SELECT TOP 5\r\n",
                "    PickedByPersonID,\r\n",
                "    COUNT(OrderID) AS OrdersPicked,\r\n",
                "    MIN(PickingCompletedWhen) AS FirstPick,\r\n",
                "    MAX(PickingCompletedWhen) AS LastPick\r\n",
                "FROM Sales.Orders\r\n",
                "WHERE PickingCompletedWhen IS NOT NULL\r\n",
                "    AND PickedByPersonID IS NOT NULL\r\n",
                "    AND YEAR(PickingCompletedWhen) = 2016\r\n",
                "GROUP BY PickedByPersonID\r\n",
                "ORDER BY OrdersPicked DESC"
            ],
            "metadata": {
                "azdata_cell_guid": "63eabae5-514d-4ac8-9a8c-f56616c4cf28",
                "language": "sql",
                "tags": []
            },
            "outputs": [
                {
                    "output_type": "display_data",
                    "data": {
                        "text/html": "(5 rows affected)"
                    },
                    "metadata": {}
                },
                {
                    "output_type": "display_data",
                    "data": {
                        "text/html": "Total execution time: 00:00:00.038"
                    },
                    "metadata": {}
                },
                {
                    "output_type": "execute_result",
                    "metadata": {},
                    "execution_count": 115,
                    "data": {
                        "application/vnd.dataresource+json": {
                            "schema": {
                                "fields": [
                                    {
                                        "name": "PickedByPersonID"
                                    },
                                    {
                                        "name": "OrdersPicked"
                                    },
                                    {
                                        "name": "FirstPick"
                                    },
                                    {
                                        "name": "LastPick"
                                    }
                                ]
                            },
                            "data": [
                                {
                                    "PickedByPersonID": "17",
                                    "OrdersPicked": "983",
                                    "FirstPick": "2016-01-04 11:00:00.0000000",
                                    "LastPick": "2016-05-14 11:00:00.0000000"
                                },
                                {
                                    "PickedByPersonID": "8",
                                    "OrdersPicked": "767",
                                    "FirstPick": "2016-01-19 11:00:00.0000000",
                                    "LastPick": "2016-05-26 11:00:00.0000000"
                                },
                                {
                                    "PickedByPersonID": "7",
                                    "OrdersPicked": "738",
                                    "FirstPick": "2016-01-14 11:00:00.0000000",
                                    "LastPick": "2016-05-25 11:00:00.0000000"
                                },
                                {
                                    "PickedByPersonID": "11",
                                    "OrdersPicked": "669",
                                    "FirstPick": "2016-01-01 11:00:00.0000000",
                                    "LastPick": "2016-05-24 11:00:00.0000000"
                                },
                                {
                                    "PickedByPersonID": "10",
                                    "OrdersPicked": "633",
                                    "FirstPick": "2016-01-05 11:00:00.0000000",
                                    "LastPick": "2016-05-18 11:00:00.0000000"
                                }
                            ]
                        },
                        "text/html": [
                            "<table>",
                            "<tr><th>PickedByPersonID</th><th>OrdersPicked</th><th>FirstPick</th><th>LastPick</th></tr>",
                            "<tr><td>17</td><td>983</td><td>2016-01-04 11:00:00.0000000</td><td>2016-05-14 11:00:00.0000000</td></tr>",
                            "<tr><td>8</td><td>767</td><td>2016-01-19 11:00:00.0000000</td><td>2016-05-26 11:00:00.0000000</td></tr>",
                            "<tr><td>7</td><td>738</td><td>2016-01-14 11:00:00.0000000</td><td>2016-05-25 11:00:00.0000000</td></tr>",
                            "<tr><td>11</td><td>669</td><td>2016-01-01 11:00:00.0000000</td><td>2016-05-24 11:00:00.0000000</td></tr>",
                            "<tr><td>10</td><td>633</td><td>2016-01-05 11:00:00.0000000</td><td>2016-05-18 11:00:00.0000000</td></tr>",
                            "</table>"
                        ]
                    }
                }
            ],
            "execution_count": 115
        },
        {
            "cell_type": "markdown",
            "source": [
                "Task 2 (Query 2) - <span style=\"color: var(--vscode-foreground);\">Finds customers who receive a suspicious number of orders from the suspected picker</span>\n",
                "\n",
                "<span style=\"color: var(--vscode-foreground);\">- Counts how many orders each customer received from the suspect and displays the top ones via their Customer ID</span>\n",
                "\n",
                "<span style=\"color: var(--vscode-foreground);\">- Uses UNION to find buyers who have more than 3 orders from the suspect or orders that exceed 10,000 dollars with the suspect</span>\n",
                "\n",
                "<span style=\"color: var(--vscode-foreground);\">- Reveals potential conspirators</span>"
            ],
            "metadata": {
                "language": "sql",
                "azdata_cell_guid": "14512236-d7e8-4f91-a00e-11f3423ba06e"
            },
            "attachments": {}
        },
        {
            "cell_type": "code",
            "source": [
                "SELECT DISTINCT CustomerID -- Customers who got more than 3 orders from suspect\r\n",
                "FROM Sales.Orders\r\n",
                "WHERE PickedByPersonID = 17\r\n",
                "    AND CustomerID IN (\r\n",
                "        SELECT CustomerID\r\n",
                "        FROM Sales.Orders\r\n",
                "        WHERE PickedByPersonID = 17\r\n",
                "        GROUP BY CustomerID\r\n",
                "        HAVING COUNT(*) >= 3\r\n",
                "    )\r\n",
                "UNION\r\n",
                "SELECT DISTINCT o.CustomerID -- Customers with over 10000 in sales with suspect\r\n",
                "FROM Sales.Orders o\r\n",
                "INNER JOIN Sales.OrderLines ol ON o.OrderID = ol.OrderID\r\n",
                "WHERE o.PickedByPersonID = 17\r\n",
                "GROUP BY o.CustomerID\r\n",
                "HAVING SUM(ol.Quantity * ol.UnitPrice) > 10000"
            ],
            "metadata": {
                "language": "sql",
                "azdata_cell_guid": "babbec11-0843-4ffc-b6f1-43881f52bbc3",
                "tags": []
            },
            "outputs": [],
            "execution_count": null
        },
        {
            "cell_type": "markdown",
            "source": [
                "Task 3 (Query 3) - Find which high-value stock items appear in the suspect's orders.\n",
                "\n",
                "\\- <span style=\"color: var(--vscode-foreground);\">Uses INTERSECT</span> <span style=\"color: var(--vscode-foreground);\">to find items that are both expensive and picked by the suspect</span>\n",
                "\n",
                "<span style=\"color: var(--vscode-foreground);\">- Shows the overlap between high-value items and suspect's activity</span>\n",
                "\n",
                "<span style=\"color: var(--vscode-foreground);\">- Identifies&nbsp;</span> <span style=\"color: var(--vscode-foreground);\">which premium goods are being stolen</span>"
            ],
            "metadata": {
                "language": "sql",
                "azdata_cell_guid": "df1659a1-b7e9-430b-be01-f095552deb26"
            },
            "attachments": {}
        },
        {
            "cell_type": "code",
            "source": [
                "SELECT DISTINCT -- Items over $50\r\n",
                "    StockItemID\r\n",
                "FROM Warehouse.StockItems\r\n",
                "WHERE UnitPrice > 50\r\n",
                "INTERSECT\r\n",
                "SELECT DISTINCT -- Items picked by the suspect\r\n",
                "    ol.StockItemID\r\n",
                "FROM Sales.Orders o\r\n",
                "INNER JOIN Sales.OrderLines ol ON o.OrderID = ol.OrderID\r\n",
                "WHERE o.PickedByPersonID = 17;"
            ],
            "metadata": {
                "language": "sql",
                "azdata_cell_guid": "55543821-f664-45c7-b7e5-6689e3131af7"
            },
            "outputs": [
                {
                    "output_type": "display_data",
                    "data": {
                        "text/html": "(23 rows affected)"
                    },
                    "metadata": {}
                },
                {
                    "output_type": "display_data",
                    "data": {
                        "text/html": "Total execution time: 00:00:00.026"
                    },
                    "metadata": {}
                },
                {
                    "output_type": "execute_result",
                    "metadata": {},
                    "execution_count": 117,
                    "data": {
                        "application/vnd.dataresource+json": {
                            "schema": {
                                "fields": [
                                    {
                                        "name": "StockItemID"
                                    }
                                ]
                            },
                            "data": [
                                {
                                    "StockItemID": "8"
                                },
                                {
                                    "StockItemID": "15"
                                },
                                {
                                    "StockItemID": "67"
                                },
                                {
                                    "StockItemID": "68"
                                },
                                {
                                    "StockItemID": "69"
                                },
                                {
                                    "StockItemID": "70"
                                },
                                {
                                    "StockItemID": "71"
                                },
                                {
                                    "StockItemID": "72"
                                },
                                {
                                    "StockItemID": "73"
                                },
                                {
                                    "StockItemID": "74"
                                },
                                {
                                    "StockItemID": "75"
                                },
                                {
                                    "StockItemID": "158"
                                },
                                {
                                    "StockItemID": "161"
                                },
                                {
                                    "StockItemID": "164"
                                },
                                {
                                    "StockItemID": "167"
                                },
                                {
                                    "StockItemID": "170"
                                },
                                {
                                    "StockItemID": "173"
                                },
                                {
                                    "StockItemID": "174"
                                },
                                {
                                    "StockItemID": "175"
                                },
                                {
                                    "StockItemID": "176"
                                },
                                {
                                    "StockItemID": "213"
                                },
                                {
                                    "StockItemID": "214"
                                },
                                {
                                    "StockItemID": "215"
                                }
                            ]
                        },
                        "text/html": [
                            "<table>",
                            "<tr><th>StockItemID</th></tr>",
                            "<tr><td>8</td></tr>",
                            "<tr><td>15</td></tr>",
                            "<tr><td>67</td></tr>",
                            "<tr><td>68</td></tr>",
                            "<tr><td>69</td></tr>",
                            "<tr><td>70</td></tr>",
                            "<tr><td>71</td></tr>",
                            "<tr><td>72</td></tr>",
                            "<tr><td>73</td></tr>",
                            "<tr><td>74</td></tr>",
                            "<tr><td>75</td></tr>",
                            "<tr><td>158</td></tr>",
                            "<tr><td>161</td></tr>",
                            "<tr><td>164</td></tr>",
                            "<tr><td>167</td></tr>",
                            "<tr><td>170</td></tr>",
                            "<tr><td>173</td></tr>",
                            "<tr><td>174</td></tr>",
                            "<tr><td>175</td></tr>",
                            "<tr><td>176</td></tr>",
                            "<tr><td>213</td></tr>",
                            "<tr><td>214</td></tr>",
                            "<tr><td>215</td></tr>",
                            "</table>"
                        ]
                    }
                }
            ],
            "execution_count": 117
        },
        {
            "cell_type": "markdown",
            "source": [
                "Task 4 (Query 4) - Check if the accomplice customers actually paid for their orders.\n",
                "\n",
                "<span style=\"color: var(--vscode-foreground);\">- S</span><span style=\"color: var(--vscode-foreground);\">hows</span> <span style=\"color: var(--vscode-foreground);\"> if payments were made or if goods left unpaid</span>\n",
                "\n",
                "<span style=\"color: var(--vscode-foreground);\">- Reveals accomplices in either embezzlement or theft</span>"
            ],
            "metadata": {
                "language": "sql",
                "azdata_cell_guid": "557224e5-df90-4770-93ba-24a65a061608"
            },
            "attachments": {}
        },
        {
            "cell_type": "code",
            "source": [
                "SELECT \r\n",
                "    CustomerID,\r\n",
                "    COUNT(CustomerTransactionID) AS TotalTransactions,\r\n",
                "    SUM(TransactionAmount) AS TotalAmount,\r\n",
                "    SUM(OutstandingBalance) AS StillOwed\r\n",
                "FROM Sales.CustomerTransactions\r\n",
                "WHERE CustomerID IN (86, 850, 68, 970, 442)  -- Uses CustomerID's from Query 2\r\n",
                "GROUP BY CustomerID\r\n",
                "ORDER BY StillOwed DESC"
            ],
            "metadata": {
                "language": "sql",
                "azdata_cell_guid": "b251df57-0f53-4376-a950-2d2d523b1057"
            },
            "outputs": [
                {
                    "output_type": "display_data",
                    "data": {
                        "text/html": "(2 rows affected)"
                    },
                    "metadata": {}
                },
                {
                    "output_type": "display_data",
                    "data": {
                        "text/html": "Total execution time: 00:00:00.030"
                    },
                    "metadata": {}
                },
                {
                    "output_type": "execute_result",
                    "metadata": {},
                    "execution_count": 118,
                    "data": {
                        "application/vnd.dataresource+json": {
                            "schema": {
                                "fields": [
                                    {
                                        "name": "CustomerID"
                                    },
                                    {
                                        "name": "TotalTransactions"
                                    },
                                    {
                                        "name": "TotalAmount"
                                    },
                                    {
                                        "name": "StillOwed"
                                    }
                                ]
                            },
                            "data": [
                                {
                                    "CustomerID": "850",
                                    "TotalTransactions": "230",
                                    "TotalAmount": "0.00",
                                    "StillOwed": "0.00"
                                },
                                {
                                    "CustomerID": "970",
                                    "TotalTransactions": "208",
                                    "TotalAmount": "0.00",
                                    "StillOwed": "0.00"
                                }
                            ]
                        },
                        "text/html": [
                            "<table>",
                            "<tr><th>CustomerID</th><th>TotalTransactions</th><th>TotalAmount</th><th>StillOwed</th></tr>",
                            "<tr><td>850</td><td>230</td><td>0.00</td><td>0.00</td></tr>",
                            "<tr><td>970</td><td>208</td><td>0.00</td><td>0.00</td></tr>",
                            "</table>"
                        ]
                    }
                }
            ],
            "execution_count": 118
        },
        {
            "cell_type": "markdown",
            "source": [
                "Task 5 (Query 5) - Reveal the Suspect  \n",
                "<span style=\"color: var(--vscode-foreground);\">-&nbsp;</span> <span style=\"color: var(--vscode-foreground);\">Looks up the employee information</span>  \n",
                "\\- Shows their identity and personal information  \n",
                "\\- Provides Access Level"
            ],
            "metadata": {
                "language": "sql",
                "azdata_cell_guid": "41ff756c-0b6f-49a9-98c6-d1242022601d"
            },
            "attachments": {}
        },
        {
            "cell_type": "code",
            "source": [
                "SELECT \r\n",
                "    PersonID,\r\n",
                "    FullName,\r\n",
                "    PreferredName,\r\n",
                "    IsEmployee,\r\n",
                "    IsSalesperson,\r\n",
                "    PhoneNumber,\r\n",
                "    EmailAddress\r\n",
                "FROM Application.People\r\n",
                "WHERE PersonID = 17"
            ],
            "metadata": {
                "language": "sql",
                "azdata_cell_guid": "3f2f58c2-f818-4b67-9b89-6776c3f12011",
                "tags": []
            },
            "outputs": [
                {
                    "output_type": "display_data",
                    "data": {
                        "text/html": "(1 row affected)"
                    },
                    "metadata": {}
                },
                {
                    "output_type": "display_data",
                    "data": {
                        "text/html": "Total execution time: 00:00:00.005"
                    },
                    "metadata": {}
                },
                {
                    "output_type": "execute_result",
                    "metadata": {},
                    "execution_count": 119,
                    "data": {
                        "application/vnd.dataresource+json": {
                            "schema": {
                                "fields": [
                                    {
                                        "name": "PersonID"
                                    },
                                    {
                                        "name": "FullName"
                                    },
                                    {
                                        "name": "PreferredName"
                                    },
                                    {
                                        "name": "IsEmployee"
                                    },
                                    {
                                        "name": "IsSalesperson"
                                    },
                                    {
                                        "name": "PhoneNumber"
                                    },
                                    {
                                        "name": "EmailAddress"
                                    }
                                ]
                            },
                            "data": [
                                {
                                    "PersonID": "17",
                                    "FullName": "Piper Koch",
                                    "PreferredName": "Piper",
                                    "IsEmployee": "1",
                                    "IsSalesperson": "0",
                                    "PhoneNumber": "(415) 555-0102",
                                    "EmailAddress": "piperk@wideworldimporters.com"
                                }
                            ]
                        },
                        "text/html": [
                            "<table>",
                            "<tr><th>PersonID</th><th>FullName</th><th>PreferredName</th><th>IsEmployee</th><th>IsSalesperson</th><th>PhoneNumber</th><th>EmailAddress</th></tr>",
                            "<tr><td>17</td><td>Piper Koch</td><td>Piper</td><td>1</td><td>0</td><td>(415) 555-0102</td><td>piperk@wideworldimporters.com</td></tr>",
                            "</table>"
                        ]
                    }
                }
            ],
            "execution_count": 119
        },
        {
            "cell_type": "markdown",
            "source": [
                "# Mystery # 5 - Playing Favorites\n",
                "\n",
                "## The Accounting Team had noticed something odd, some customers were getting lower prices on items while others were getting charged an insane amount for the same item. This fluctuation was costing the Company a large sum in sales. Its your Job to figure out who's been doing this and which items they've been tampering with"
            ],
            "metadata": {
                "azdata_cell_guid": "9b532bef-9eaa-4eae-867e-a9b1492c71d4"
            },
            "attachments": {}
        },
        {
            "cell_type": "markdown",
            "source": [
                "Task 1 (Query 1) - Find which stock items have the biggest price variations across different sales.\n",
                "\n",
                "\\- Calculates Price Statistics via a CTE\n",
                "\n",
                "\\- Shows Minimum, Maximum, and Average Prices Charged\n",
                "\n",
                "\\- Reveals items with price inconsistencies"
            ],
            "metadata": {
                "azdata_cell_guid": "29c9321e-abbf-4502-a6c0-ad1f89e641d7"
            },
            "attachments": {}
        },
        {
            "cell_type": "code",
            "source": [
                "WITH PriceAnalysis AS (\r\n",
                "    SELECT \r\n",
                "        StockItemID,\r\n",
                "        MIN(UnitPrice) AS LowestPrice,\r\n",
                "        MAX(UnitPrice) AS HighestPrice,\r\n",
                "        AVG(UnitPrice) AS AveragePrice,\r\n",
                "        COUNT(DISTINCT UnitPrice) AS DifferentPrices\r\n",
                "    FROM Sales.OrderLines\r\n",
                "    WHERE YEAR(PickingCompletedWhen) = 2016\r\n",
                "    GROUP BY StockItemID\r\n",
                ")\r\n",
                "SELECT TOP 15\r\n",
                "    pa.StockItemID,\r\n",
                "    si.StockItemName,\r\n",
                "    pa.LowestPrice,\r\n",
                "    pa.HighestPrice,\r\n",
                "    pa.AveragePrice,\r\n",
                "    (pa.HighestPrice - pa.LowestPrice) AS PriceRange,\r\n",
                "    pa.DifferentPrices\r\n",
                "FROM PriceAnalysis pa\r\n",
                "INNER JOIN Warehouse.StockItems si ON pa.StockItemID = si.StockItemID\r\n",
                "WHERE pa.HighestPrice > pa.LowestPrice\r\n",
                "ORDER BY PriceRange DESC"
            ],
            "metadata": {
                "azdata_cell_guid": "8680dec3-c319-499e-8f67-0dfa7244a58c",
                "language": "sql"
            },
            "outputs": [
                {
                    "output_type": "display_data",
                    "data": {
                        "text/html": "(14 rows affected)"
                    },
                    "metadata": {}
                },
                {
                    "output_type": "display_data",
                    "data": {
                        "text/html": "Total execution time: 00:00:00.100"
                    },
                    "metadata": {}
                },
                {
                    "output_type": "execute_result",
                    "metadata": {},
                    "execution_count": 120,
                    "data": {
                        "application/vnd.dataresource+json": {
                            "schema": {
                                "fields": [
                                    {
                                        "name": "StockItemID"
                                    },
                                    {
                                        "name": "StockItemName"
                                    },
                                    {
                                        "name": "LowestPrice"
                                    },
                                    {
                                        "name": "HighestPrice"
                                    },
                                    {
                                        "name": "AveragePrice"
                                    },
                                    {
                                        "name": "PriceRange"
                                    },
                                    {
                                        "name": "DifferentPrices"
                                    }
                                ]
                            },
                            "data": [
                                {
                                    "StockItemID": "15",
                                    "StockItemName": "USB food flash drive - dessert 10 drive variety pack",
                                    "LowestPrice": "24.00",
                                    "HighestPrice": "240.00",
                                    "AveragePrice": "169.125000",
                                    "PriceRange": "216.00",
                                    "DifferentPrices": "3"
                                },
                                {
                                    "StockItemID": "8",
                                    "StockItemName": "USB food flash drive - dim sum 10 drive variety pack",
                                    "LowestPrice": "24.00",
                                    "HighestPrice": "240.00",
                                    "AveragePrice": "178.717557",
                                    "PriceRange": "216.00",
                                    "DifferentPrices": "3"
                                },
                                {
                                    "StockItemID": "10",
                                    "StockItemName": "USB food flash drive - chocolate bar",
                                    "LowestPrice": "3.20",
                                    "HighestPrice": "32.00",
                                    "AveragePrice": "22.386666",
                                    "PriceRange": "28.80",
                                    "DifferentPrices": "3"
                                },
                                {
                                    "StockItemID": "5",
                                    "StockItemName": "USB food flash drive - hamburger",
                                    "LowestPrice": "3.20",
                                    "HighestPrice": "32.00",
                                    "AveragePrice": "25.819847",
                                    "PriceRange": "28.80",
                                    "DifferentPrices": "3"
                                },
                                {
                                    "StockItemID": "7",
                                    "StockItemName": "USB food flash drive - pizza slice",
                                    "LowestPrice": "3.20",
                                    "HighestPrice": "32.00",
                                    "AveragePrice": "24.650847",
                                    "PriceRange": "28.80",
                                    "DifferentPrices": "3"
                                },
                                {
                                    "StockItemID": "11",
                                    "StockItemName": "USB food flash drive - cookie",
                                    "LowestPrice": "3.20",
                                    "HighestPrice": "32.00",
                                    "AveragePrice": "25.775000",
                                    "PriceRange": "28.80",
                                    "DifferentPrices": "3"
                                },
                                {
                                    "StockItemID": "9",
                                    "StockItemName": "USB food flash drive - banana",
                                    "LowestPrice": "3.20",
                                    "HighestPrice": "32.00",
                                    "AveragePrice": "24.025000",
                                    "PriceRange": "28.80",
                                    "DifferentPrices": "3"
                                },
                                {
                                    "StockItemID": "6",
                                    "StockItemName": "USB food flash drive - hot dog",
                                    "LowestPrice": "3.20",
                                    "HighestPrice": "32.00",
                                    "AveragePrice": "23.174193",
                                    "PriceRange": "28.80",
                                    "DifferentPrices": "3"
                                },
                                {
                                    "StockItemID": "13",
                                    "StockItemName": "USB food flash drive - shrimp cocktail",
                                    "LowestPrice": "3.20",
                                    "HighestPrice": "32.00",
                                    "AveragePrice": "23.771428",
                                    "PriceRange": "28.80",
                                    "DifferentPrices": "3"
                                },
                                {
                                    "StockItemID": "4",
                                    "StockItemName": "USB food flash drive - sushi roll",
                                    "LowestPrice": "3.20",
                                    "HighestPrice": "32.00",
                                    "AveragePrice": "22.482352",
                                    "PriceRange": "28.80",
                                    "DifferentPrices": "3"
                                },
                                {
                                    "StockItemID": "12",
                                    "StockItemName": "USB food flash drive - donut",
                                    "LowestPrice": "3.20",
                                    "HighestPrice": "32.00",
                                    "AveragePrice": "24.511111",
                                    "PriceRange": "28.80",
                                    "DifferentPrices": "3"
                                },
                                {
                                    "StockItemID": "14",
                                    "StockItemName": "USB food flash drive - fortune cookie",
                                    "LowestPrice": "3.20",
                                    "HighestPrice": "32.00",
                                    "AveragePrice": "26.617142",
                                    "PriceRange": "28.80",
                                    "DifferentPrices": "3"
                                },
                                {
                                    "StockItemID": "1",
                                    "StockItemName": "USB missile launcher (Green)",
                                    "LowestPrice": "2.50",
                                    "HighestPrice": "25.00",
                                    "AveragePrice": "18.723021",
                                    "PriceRange": "22.50",
                                    "DifferentPrices": "3"
                                },
                                {
                                    "StockItemID": "2",
                                    "StockItemName": "USB rocket launcher (Gray)",
                                    "LowestPrice": "2.50",
                                    "HighestPrice": "25.00",
                                    "AveragePrice": "18.552083",
                                    "PriceRange": "22.50",
                                    "DifferentPrices": "3"
                                }
                            ]
                        },
                        "text/html": [
                            "<table>",
                            "<tr><th>StockItemID</th><th>StockItemName</th><th>LowestPrice</th><th>HighestPrice</th><th>AveragePrice</th><th>PriceRange</th><th>DifferentPrices</th></tr>",
                            "<tr><td>15</td><td>USB food flash drive - dessert 10 drive variety pack</td><td>24.00</td><td>240.00</td><td>169.125000</td><td>216.00</td><td>3</td></tr>",
                            "<tr><td>8</td><td>USB food flash drive - dim sum 10 drive variety pack</td><td>24.00</td><td>240.00</td><td>178.717557</td><td>216.00</td><td>3</td></tr>",
                            "<tr><td>10</td><td>USB food flash drive - chocolate bar</td><td>3.20</td><td>32.00</td><td>22.386666</td><td>28.80</td><td>3</td></tr>",
                            "<tr><td>5</td><td>USB food flash drive - hamburger</td><td>3.20</td><td>32.00</td><td>25.819847</td><td>28.80</td><td>3</td></tr>",
                            "<tr><td>7</td><td>USB food flash drive - pizza slice</td><td>3.20</td><td>32.00</td><td>24.650847</td><td>28.80</td><td>3</td></tr>",
                            "<tr><td>11</td><td>USB food flash drive - cookie</td><td>3.20</td><td>32.00</td><td>25.775000</td><td>28.80</td><td>3</td></tr>",
                            "<tr><td>9</td><td>USB food flash drive - banana</td><td>3.20</td><td>32.00</td><td>24.025000</td><td>28.80</td><td>3</td></tr>",
                            "<tr><td>6</td><td>USB food flash drive - hot dog</td><td>3.20</td><td>32.00</td><td>23.174193</td><td>28.80</td><td>3</td></tr>",
                            "<tr><td>13</td><td>USB food flash drive - shrimp cocktail</td><td>3.20</td><td>32.00</td><td>23.771428</td><td>28.80</td><td>3</td></tr>",
                            "<tr><td>4</td><td>USB food flash drive - sushi roll</td><td>3.20</td><td>32.00</td><td>22.482352</td><td>28.80</td><td>3</td></tr>",
                            "<tr><td>12</td><td>USB food flash drive - donut</td><td>3.20</td><td>32.00</td><td>24.511111</td><td>28.80</td><td>3</td></tr>",
                            "<tr><td>14</td><td>USB food flash drive - fortune cookie</td><td>3.20</td><td>32.00</td><td>26.617142</td><td>28.80</td><td>3</td></tr>",
                            "<tr><td>1</td><td>USB missile launcher (Green)</td><td>2.50</td><td>25.00</td><td>18.723021</td><td>22.50</td><td>3</td></tr>",
                            "<tr><td>2</td><td>USB rocket launcher (Gray)</td><td>2.50</td><td>25.00</td><td>18.552083</td><td>22.50</td><td>3</td></tr>",
                            "</table>"
                        ]
                    }
                }
            ],
            "execution_count": 120
        },
        {
            "cell_type": "markdown",
            "source": [
                "Task 2 (Query 2) - Finds Customers who're paying suspicously low for items\n",
                "\n",
                "\\- Uses a CTE to calculate the average price per Customer\n",
                "\n",
                "\\- Uses the suspicous StockItemID from Task 1 to identify who's been paying less\n",
                "\n",
                "\\- Shows how low the prices are being charged for as opposed to the average prices"
            ],
            "metadata": {
                "azdata_cell_guid": "7fd4d058-3852-4070-9b28-9e55faa1adcd"
            },
            "attachments": {}
        },
        {
            "cell_type": "code",
            "source": [
                "WITH CustomerPricing AS (\r\n",
                "    SELECT \r\n",
                "        o.CustomerID,\r\n",
                "        AVG(ol.UnitPrice) AS AvgPricePaid,\r\n",
                "        COUNT(ol.OrderLineID) AS TimesPurchased,\r\n",
                "        SUM(ol.Quantity) AS TotalQuantity\r\n",
                "    FROM Sales.Orders o\r\n",
                "    INNER JOIN Sales.OrderLines ol ON o.OrderID = ol.OrderID\r\n",
                "    WHERE ol.StockItemID = 15 -- Uses StockItemID from Query 1\r\n",
                "        AND YEAR(o.OrderDate) = 2016\r\n",
                "    GROUP BY o.CustomerID\r\n",
                ")\r\n",
                "SELECT \r\n",
                "    cp.CustomerID,\r\n",
                "    c.CustomerName,\r\n",
                "    cp.AvgPricePaid,\r\n",
                "    cp.TimesPurchased,\r\n",
                "    cp.TotalQuantity,\r\n",
                "    (SELECT AVG(UnitPrice) FROM Sales.OrderLines WHERE StockItemID = 15) AS MarketAverage\r\n",
                "FROM CustomerPricing cp\r\n",
                "INNER JOIN Sales.Customers c ON cp.CustomerID = c.CustomerID\r\n",
                "ORDER BY cp.AvgPricePaid ASC"
            ],
            "metadata": {
                "azdata_cell_guid": "de542d39-eb39-4be1-8045-45641f58f8e1",
                "language": "sql"
            },
            "outputs": [
                {
                    "output_type": "display_data",
                    "data": {
                        "text/html": "(111 rows affected)"
                    },
                    "metadata": {}
                },
                {
                    "output_type": "display_data",
                    "data": {
                        "text/html": "Total execution time: 00:00:00.053"
                    },
                    "metadata": {}
                },
                {
                    "output_type": "execute_result",
                    "metadata": {},
                    "execution_count": 121,
                    "data": {
                        "application/vnd.dataresource+json": {
                            "schema": {
                                "fields": [
                                    {
                                        "name": "CustomerID"
                                    },
                                    {
                                        "name": "CustomerName"
                                    },
                                    {
                                        "name": "AvgPricePaid"
                                    },
                                    {
                                        "name": "TimesPurchased"
                                    },
                                    {
                                        "name": "TotalQuantity"
                                    },
                                    {
                                        "name": "MarketAverage"
                                    }
                                ]
                            },
                            "data": [
                                {
                                    "CustomerID": "599",
                                    "CustomerName": "Wingtip Toys (Dickworsham, TX)",
                                    "AvgPricePaid": "24.000000",
                                    "TimesPurchased": "1",
                                    "TotalQuantity": "7",
                                    "MarketAverage": "231.481690"
                                },
                                {
                                    "CustomerID": "594",
                                    "CustomerName": "Wingtip Toys (Marfa, TX)",
                                    "AvgPricePaid": "24.000000",
                                    "TimesPurchased": "1",
                                    "TotalQuantity": "8",
                                    "MarketAverage": "231.481690"
                                },
                                {
                                    "CustomerID": "556",
                                    "CustomerName": "Wingtip Toys (Morita, TX)",
                                    "AvgPricePaid": "24.000000",
                                    "TimesPurchased": "1",
                                    "TotalQuantity": "2",
                                    "MarketAverage": "231.481690"
                                },
                                {
                                    "CustomerID": "554",
                                    "CustomerName": "Wingtip Toys (Hollandsburg, IN)",
                                    "AvgPricePaid": "24.000000",
                                    "TimesPurchased": "1",
                                    "TotalQuantity": "1",
                                    "MarketAverage": "231.481690"
                                },
                                {
                                    "CustomerID": "549",
                                    "CustomerName": "Wingtip Toys (Lake Ronkonkoma, NY)",
                                    "AvgPricePaid": "24.000000",
                                    "TimesPurchased": "1",
                                    "TotalQuantity": "2",
                                    "MarketAverage": "231.481690"
                                },
                                {
                                    "CustomerID": "547",
                                    "CustomerName": "Wingtip Toys (Chaseley, ND)",
                                    "AvgPricePaid": "24.000000",
                                    "TimesPurchased": "1",
                                    "TotalQuantity": "10",
                                    "MarketAverage": "231.481690"
                                },
                                {
                                    "CustomerID": "525",
                                    "CustomerName": "Wingtip Toys (Claycomo, MO)",
                                    "AvgPricePaid": "24.000000",
                                    "TimesPurchased": "1",
                                    "TotalQuantity": "7",
                                    "MarketAverage": "231.481690"
                                },
                                {
                                    "CustomerID": "517",
                                    "CustomerName": "Wingtip Toys (Licking, MO)",
                                    "AvgPricePaid": "24.000000",
                                    "TimesPurchased": "1",
                                    "TotalQuantity": "7",
                                    "MarketAverage": "231.481690"
                                },
                                {
                                    "CustomerID": "515",
                                    "CustomerName": "Wingtip Toys (Del Valle, TX)",
                                    "AvgPricePaid": "24.000000",
                                    "TimesPurchased": "1",
                                    "TotalQuantity": "5",
                                    "MarketAverage": "231.481690"
                                },
                                {
                                    "CustomerID": "494",
                                    "CustomerName": "Wingtip Toys (Pikeview, CO)",
                                    "AvgPricePaid": "24.000000",
                                    "TimesPurchased": "1",
                                    "TotalQuantity": "2",
                                    "MarketAverage": "231.481690"
                                },
                                {
                                    "CustomerID": "482",
                                    "CustomerName": "Wingtip Toys (Caton, NY)",
                                    "AvgPricePaid": "24.000000",
                                    "TimesPurchased": "1",
                                    "TotalQuantity": "2",
                                    "MarketAverage": "231.481690"
                                },
                                {
                                    "CustomerID": "475",
                                    "CustomerName": "Wingtip Toys (Cale, AR)",
                                    "AvgPricePaid": "24.000000",
                                    "TimesPurchased": "1",
                                    "TotalQuantity": "4",
                                    "MarketAverage": "231.481690"
                                },
                                {
                                    "CustomerID": "460",
                                    "CustomerName": "Wingtip Toys (Mayhill, NM)",
                                    "AvgPricePaid": "24.000000",
                                    "TimesPurchased": "1",
                                    "TotalQuantity": "9",
                                    "MarketAverage": "231.481690"
                                },
                                {
                                    "CustomerID": "444",
                                    "CustomerName": "Wingtip Toys (Tea, SD)",
                                    "AvgPricePaid": "24.000000",
                                    "TimesPurchased": "1",
                                    "TotalQuantity": "10",
                                    "MarketAverage": "231.481690"
                                },
                                {
                                    "CustomerID": "424",
                                    "CustomerName": "Wingtip Toys (Heartwell, NE)",
                                    "AvgPricePaid": "24.000000",
                                    "TimesPurchased": "1",
                                    "TotalQuantity": "9",
                                    "MarketAverage": "231.481690"
                                },
                                {
                                    "CustomerID": "423",
                                    "CustomerName": "Wingtip Toys (Baldwin City, KS)",
                                    "AvgPricePaid": "24.000000",
                                    "TimesPurchased": "1",
                                    "TotalQuantity": "3",
                                    "MarketAverage": "231.481690"
                                },
                                {
                                    "CustomerID": "420",
                                    "CustomerName": "Wingtip Toys (Herlong, CA)",
                                    "AvgPricePaid": "24.000000",
                                    "TimesPurchased": "1",
                                    "TotalQuantity": "10",
                                    "MarketAverage": "231.481690"
                                },
                                {
                                    "CustomerID": "411",
                                    "CustomerName": "Wingtip Toys (Edmund, WI)",
                                    "AvgPricePaid": "24.000000",
                                    "TimesPurchased": "1",
                                    "TotalQuantity": "1",
                                    "MarketAverage": "231.481690"
                                },
                                {
                                    "CustomerID": "187",
                                    "CustomerName": "Tailspin Toys (Brown City, MI)",
                                    "AvgPricePaid": "36.000000",
                                    "TimesPurchased": "1",
                                    "TotalQuantity": "3",
                                    "MarketAverage": "231.481690"
                                },
                                {
                                    "CustomerID": "175",
                                    "CustomerName": "Tailspin Toys (San Acacia, NM)",
                                    "AvgPricePaid": "36.000000",
                                    "TimesPurchased": "1",
                                    "TotalQuantity": "1",
                                    "MarketAverage": "231.481690"
                                },
                                {
                                    "CustomerID": "173",
                                    "CustomerName": "Tailspin Toys (Wappingers Falls, NY)",
                                    "AvgPricePaid": "36.000000",
                                    "TimesPurchased": "1",
                                    "TotalQuantity": "8",
                                    "MarketAverage": "231.481690"
                                },
                                {
                                    "CustomerID": "160",
                                    "CustomerName": "Tailspin Toys (Crary, ND)",
                                    "AvgPricePaid": "36.000000",
                                    "TimesPurchased": "1",
                                    "TotalQuantity": "10",
                                    "MarketAverage": "231.481690"
                                },
                                {
                                    "CustomerID": "9",
                                    "CustomerName": "Tailspin Toys (Netcong, NJ)",
                                    "AvgPricePaid": "36.000000",
                                    "TimesPurchased": "1",
                                    "TotalQuantity": "9",
                                    "MarketAverage": "231.481690"
                                },
                                {
                                    "CustomerID": "138",
                                    "CustomerName": "Tailspin Toys (Navassa, NC)",
                                    "AvgPricePaid": "36.000000",
                                    "TimesPurchased": "1",
                                    "TotalQuantity": "6",
                                    "MarketAverage": "231.481690"
                                },
                                {
                                    "CustomerID": "129",
                                    "CustomerName": "Tailspin Toys (Mineral Hills, MI)",
                                    "AvgPricePaid": "36.000000",
                                    "TimesPurchased": "1",
                                    "TotalQuantity": "9",
                                    "MarketAverage": "231.481690"
                                },
                                {
                                    "CustomerID": "117",
                                    "CustomerName": "Tailspin Toys (Scofield, UT)",
                                    "AvgPricePaid": "36.000000",
                                    "TimesPurchased": "1",
                                    "TotalQuantity": "8",
                                    "MarketAverage": "231.481690"
                                },
                                {
                                    "CustomerID": "102",
                                    "CustomerName": "Tailspin Toys (Fieldbrook, CA)",
                                    "AvgPricePaid": "36.000000",
                                    "TimesPurchased": "1",
                                    "TotalQuantity": "8",
                                    "MarketAverage": "231.481690"
                                },
                                {
                                    "CustomerID": "69",
                                    "CustomerName": "Tailspin Toys (Lytle Creek, CA)",
                                    "AvgPricePaid": "36.000000",
                                    "TimesPurchased": "1",
                                    "TotalQuantity": "10",
                                    "MarketAverage": "231.481690"
                                },
                                {
                                    "CustomerID": "94",
                                    "CustomerName": "Tailspin Toys (Cheyenne Wells, CO)",
                                    "AvgPricePaid": "36.000000",
                                    "TimesPurchased": "1",
                                    "TotalQuantity": "4",
                                    "MarketAverage": "231.481690"
                                },
                                {
                                    "CustomerID": "82",
                                    "CustomerName": "Tailspin Toys (La Cueva, NM)",
                                    "AvgPricePaid": "36.000000",
                                    "TimesPurchased": "1",
                                    "TotalQuantity": "7",
                                    "MarketAverage": "231.481690"
                                },
                                {
                                    "CustomerID": "79",
                                    "CustomerName": "Tailspin Toys (Page City, KS)",
                                    "AvgPricePaid": "36.000000",
                                    "TimesPurchased": "1",
                                    "TotalQuantity": "1",
                                    "MarketAverage": "231.481690"
                                },
                                {
                                    "CustomerID": "75",
                                    "CustomerName": "Tailspin Toys (Windsor Locks, CT)",
                                    "AvgPricePaid": "36.000000",
                                    "TimesPurchased": "1",
                                    "TotalQuantity": "6",
                                    "MarketAverage": "231.481690"
                                },
                                {
                                    "CustomerID": "442",
                                    "CustomerName": "Wingtip Toys (Homer City, PA)",
                                    "AvgPricePaid": "96.000000",
                                    "TimesPurchased": "3",
                                    "TotalQuantity": "24",
                                    "MarketAverage": "231.481690"
                                },
                                {
                                    "CustomerID": "564",
                                    "CustomerName": "Wingtip Toys (Tilleda, WI)",
                                    "AvgPricePaid": "132.000000",
                                    "TimesPurchased": "2",
                                    "TotalQuantity": "15",
                                    "MarketAverage": "231.481690"
                                },
                                {
                                    "CustomerID": "459",
                                    "CustomerName": "Wingtip Toys (Haydenville, OH)",
                                    "AvgPricePaid": "132.000000",
                                    "TimesPurchased": "2",
                                    "TotalQuantity": "17",
                                    "MarketAverage": "231.481690"
                                },
                                {
                                    "CustomerID": "548",
                                    "CustomerName": "Wingtip Toys (Indian Creek, IL)",
                                    "AvgPricePaid": "132.000000",
                                    "TimesPurchased": "2",
                                    "TotalQuantity": "5",
                                    "MarketAverage": "231.481690"
                                },
                                {
                                    "CustomerID": "483",
                                    "CustomerName": "Wingtip Toys (Plum Branch, SC)",
                                    "AvgPricePaid": "132.000000",
                                    "TimesPurchased": "2",
                                    "TotalQuantity": "5",
                                    "MarketAverage": "231.481690"
                                },
                                {
                                    "CustomerID": "528",
                                    "CustomerName": "Wingtip Toys (Rich Creek, VA)",
                                    "AvgPricePaid": "132.000000",
                                    "TimesPurchased": "2",
                                    "TotalQuantity": "17",
                                    "MarketAverage": "231.481690"
                                },
                                {
                                    "CustomerID": "18",
                                    "CustomerName": "Tailspin Toys (Goffstown, NH)",
                                    "AvgPricePaid": "138.000000",
                                    "TimesPurchased": "2",
                                    "TotalQuantity": "10",
                                    "MarketAverage": "231.481690"
                                },
                                {
                                    "CustomerID": "60",
                                    "CustomerName": "Tailspin Toys (East Dailey, WV)",
                                    "AvgPricePaid": "138.000000",
                                    "TimesPurchased": "2",
                                    "TotalQuantity": "7",
                                    "MarketAverage": "231.481690"
                                },
                                {
                                    "CustomerID": "71",
                                    "CustomerName": "Tailspin Toys (Good Hart, MI)",
                                    "AvgPricePaid": "138.000000",
                                    "TimesPurchased": "2",
                                    "TotalQuantity": "13",
                                    "MarketAverage": "231.481690"
                                },
                                {
                                    "CustomerID": "153",
                                    "CustomerName": "Tailspin Toys (Marcell, MN)",
                                    "AvgPricePaid": "172.000000",
                                    "TimesPurchased": "3",
                                    "TotalQuantity": "12",
                                    "MarketAverage": "231.481690"
                                },
                                {
                                    "CustomerID": "834",
                                    "CustomerName": "Cong Hoa",
                                    "AvgPricePaid": "240.000000",
                                    "TimesPurchased": "1",
                                    "TotalQuantity": "8",
                                    "MarketAverage": "231.481690"
                                },
                                {
                                    "CustomerID": "836",
                                    "CustomerName": "Abel Spirlea",
                                    "AvgPricePaid": "240.000000",
                                    "TimesPurchased": "1",
                                    "TotalQuantity": "10",
                                    "MarketAverage": "231.481690"
                                },
                                {
                                    "CustomerID": "843",
                                    "CustomerName": "Marija Justina Pasek",
                                    "AvgPricePaid": "240.000000",
                                    "TimesPurchased": "1",
                                    "TotalQuantity": "10",
                                    "MarketAverage": "231.481690"
                                },
                                {
                                    "CustomerID": "846",
                                    "CustomerName": "Malorie Bousquet",
                                    "AvgPricePaid": "240.000000",
                                    "TimesPurchased": "1",
                                    "TotalQuantity": "9",
                                    "MarketAverage": "231.481690"
                                },
                                {
                                    "CustomerID": "857",
                                    "CustomerName": "Clarissa Manfrin",
                                    "AvgPricePaid": "240.000000",
                                    "TimesPurchased": "1",
                                    "TotalQuantity": "2",
                                    "MarketAverage": "231.481690"
                                },
                                {
                                    "CustomerID": "874",
                                    "CustomerName": "Daniel Martensson",
                                    "AvgPricePaid": "240.000000",
                                    "TimesPurchased": "1",
                                    "TotalQuantity": "8",
                                    "MarketAverage": "231.481690"
                                },
                                {
                                    "CustomerID": "875",
                                    "CustomerName": "Philip Walker",
                                    "AvgPricePaid": "240.000000",
                                    "TimesPurchased": "1",
                                    "TotalQuantity": "7",
                                    "MarketAverage": "231.481690"
                                },
                                {
                                    "CustomerID": "890",
                                    "CustomerName": "Olya Izmaylov",
                                    "AvgPricePaid": "240.000000",
                                    "TimesPurchased": "1",
                                    "TotalQuantity": "6",
                                    "MarketAverage": "231.481690"
                                },
                                {
                                    "CustomerID": "899",
                                    "CustomerName": "Chin-Sun Chang",
                                    "AvgPricePaid": "240.000000",
                                    "TimesPurchased": "1",
                                    "TotalQuantity": "9",
                                    "MarketAverage": "231.481690"
                                },
                                {
                                    "CustomerID": "904",
                                    "CustomerName": "Olafs Rozitis",
                                    "AvgPricePaid": "240.000000",
                                    "TimesPurchased": "1",
                                    "TotalQuantity": "6",
                                    "MarketAverage": "231.481690"
                                },
                                {
                                    "CustomerID": "927",
                                    "CustomerName": "Matyas Sedlar",
                                    "AvgPricePaid": "240.000000",
                                    "TimesPurchased": "2",
                                    "TotalQuantity": "17",
                                    "MarketAverage": "231.481690"
                                },
                                {
                                    "CustomerID": "929",
                                    "CustomerName": "Vladimir Henzl",
                                    "AvgPricePaid": "240.000000",
                                    "TimesPurchased": "1",
                                    "TotalQuantity": "7",
                                    "MarketAverage": "231.481690"
                                },
                                {
                                    "CustomerID": "931",
                                    "CustomerName": "Nada Jovanovic",
                                    "AvgPricePaid": "240.000000",
                                    "TimesPurchased": "1",
                                    "TotalQuantity": "4",
                                    "MarketAverage": "231.481690"
                                },
                                {
                                    "CustomerID": "934",
                                    "CustomerName": "Ivan Sepulveda",
                                    "AvgPricePaid": "240.000000",
                                    "TimesPurchased": "1",
                                    "TotalQuantity": "6",
                                    "MarketAverage": "231.481690"
                                },
                                {
                                    "CustomerID": "938",
                                    "CustomerName": "Anna Gyarmathi",
                                    "AvgPricePaid": "240.000000",
                                    "TimesPurchased": "1",
                                    "TotalQuantity": "3",
                                    "MarketAverage": "231.481690"
                                },
                                {
                                    "CustomerID": "941",
                                    "CustomerName": "Bishwa Chatterjee",
                                    "AvgPricePaid": "240.000000",
                                    "TimesPurchased": "1",
                                    "TotalQuantity": "6",
                                    "MarketAverage": "231.481690"
                                },
                                {
                                    "CustomerID": "948",
                                    "CustomerName": "Richard Zahradnicek",
                                    "AvgPricePaid": "240.000000",
                                    "TimesPurchased": "1",
                                    "TotalQuantity": "9",
                                    "MarketAverage": "231.481690"
                                },
                                {
                                    "CustomerID": "959",
                                    "CustomerName": "Dhaatri Chavva",
                                    "AvgPricePaid": "240.000000",
                                    "TimesPurchased": "1",
                                    "TotalQuantity": "10",
                                    "MarketAverage": "231.481690"
                                },
                                {
                                    "CustomerID": "960",
                                    "CustomerName": "Edgar Jogi",
                                    "AvgPricePaid": "240.000000",
                                    "TimesPurchased": "1",
                                    "TotalQuantity": "5",
                                    "MarketAverage": "231.481690"
                                },
                                {
                                    "CustomerID": "969",
                                    "CustomerName": "Staffan Persson",
                                    "AvgPricePaid": "240.000000",
                                    "TimesPurchased": "1",
                                    "TotalQuantity": "8",
                                    "MarketAverage": "231.481690"
                                },
                                {
                                    "CustomerID": "970",
                                    "CustomerName": "Isidora Urias",
                                    "AvgPricePaid": "240.000000",
                                    "TimesPurchased": "1",
                                    "TotalQuantity": "5",
                                    "MarketAverage": "231.481690"
                                },
                                {
                                    "CustomerID": "972",
                                    "CustomerName": "Lakshmi Benipal",
                                    "AvgPricePaid": "240.000000",
                                    "TimesPurchased": "1",
                                    "TotalQuantity": "1",
                                    "MarketAverage": "231.481690"
                                },
                                {
                                    "CustomerID": "975",
                                    "CustomerName": "Prabodh Nair",
                                    "AvgPricePaid": "240.000000",
                                    "TimesPurchased": "1",
                                    "TotalQuantity": "6",
                                    "MarketAverage": "231.481690"
                                },
                                {
                                    "CustomerID": "992",
                                    "CustomerName": "Amarakumaar Gadiyaram",
                                    "AvgPricePaid": "240.000000",
                                    "TimesPurchased": "1",
                                    "TotalQuantity": "5",
                                    "MarketAverage": "231.481690"
                                },
                                {
                                    "CustomerID": "998",
                                    "CustomerName": "Mahavir Sonkar",
                                    "AvgPricePaid": "240.000000",
                                    "TimesPurchased": "1",
                                    "TotalQuantity": "3",
                                    "MarketAverage": "231.481690"
                                },
                                {
                                    "CustomerID": "1002",
                                    "CustomerName": "Stefan Selezeanu",
                                    "AvgPricePaid": "240.000000",
                                    "TimesPurchased": "1",
                                    "TotalQuantity": "6",
                                    "MarketAverage": "231.481690"
                                },
                                {
                                    "CustomerID": "1011",
                                    "CustomerName": "Rajeev Sandhu",
                                    "AvgPricePaid": "240.000000",
                                    "TimesPurchased": "1",
                                    "TotalQuantity": "7",
                                    "MarketAverage": "231.481690"
                                },
                                {
                                    "CustomerID": "1017",
                                    "CustomerName": "David Novacek ",
                                    "AvgPricePaid": "240.000000",
                                    "TimesPurchased": "1",
                                    "TotalQuantity": "6",
                                    "MarketAverage": "231.481690"
                                },
                                {
                                    "CustomerID": "1023",
                                    "CustomerName": "Farzana Habibi",
                                    "AvgPricePaid": "240.000000",
                                    "TimesPurchased": "2",
                                    "TotalQuantity": "15",
                                    "MarketAverage": "231.481690"
                                },
                                {
                                    "CustomerID": "1025",
                                    "CustomerName": "Tuulikki Linna",
                                    "AvgPricePaid": "240.000000",
                                    "TimesPurchased": "1",
                                    "TotalQuantity": "4",
                                    "MarketAverage": "231.481690"
                                },
                                {
                                    "CustomerID": "1035",
                                    "CustomerName": "Manjunatha Karnik",
                                    "AvgPricePaid": "240.000000",
                                    "TimesPurchased": "1",
                                    "TotalQuantity": "2",
                                    "MarketAverage": "231.481690"
                                },
                                {
                                    "CustomerID": "1050",
                                    "CustomerName": "Amrita Ganguly",
                                    "AvgPricePaid": "240.000000",
                                    "TimesPurchased": "2",
                                    "TotalQuantity": "10",
                                    "MarketAverage": "231.481690"
                                },
                                {
                                    "CustomerID": "1053",
                                    "CustomerName": "Luis Saucedo",
                                    "AvgPricePaid": "240.000000",
                                    "TimesPurchased": "1",
                                    "TotalQuantity": "1",
                                    "MarketAverage": "231.481690"
                                },
                                {
                                    "CustomerID": "1055",
                                    "CustomerName": "Adriana Pena",
                                    "AvgPricePaid": "240.000000",
                                    "TimesPurchased": "1",
                                    "TotalQuantity": "1",
                                    "MarketAverage": "231.481690"
                                },
                                {
                                    "CustomerID": "827",
                                    "CustomerName": "Crina Grasu",
                                    "AvgPricePaid": "240.000000",
                                    "TimesPurchased": "1",
                                    "TotalQuantity": "2",
                                    "MarketAverage": "231.481690"
                                },
                                {
                                    "CustomerID": "825",
                                    "CustomerName": "Jayanta Thakur",
                                    "AvgPricePaid": "240.000000",
                                    "TimesPurchased": "1",
                                    "TotalQuantity": "4",
                                    "MarketAverage": "231.481690"
                                },
                                {
                                    "CustomerID": "824",
                                    "CustomerName": "Risto Valbe",
                                    "AvgPricePaid": "240.000000",
                                    "TimesPurchased": "1",
                                    "TotalQuantity": "8",
                                    "MarketAverage": "231.481690"
                                },
                                {
                                    "CustomerID": "808",
                                    "CustomerName": "Jackson Kolios",
                                    "AvgPricePaid": "240.000000",
                                    "TimesPurchased": "1",
                                    "TotalQuantity": "4",
                                    "MarketAverage": "231.481690"
                                },
                                {
                                    "CustomerID": "804",
                                    "CustomerName": "Aleksandrs Riekstins",
                                    "AvgPricePaid": "240.000000",
                                    "TimesPurchased": "1",
                                    "TotalQuantity": "5",
                                    "MarketAverage": "231.481690"
                                },
                                {
                                    "CustomerID": "801",
                                    "CustomerName": "Eric Torres",
                                    "AvgPricePaid": "240.000000",
                                    "TimesPurchased": "1",
                                    "TotalQuantity": "8",
                                    "MarketAverage": "231.481690"
                                },
                                {
                                    "CustomerID": "596",
                                    "CustomerName": "Wingtip Toys (Cos Cob, CT)",
                                    "AvgPricePaid": "240.000000",
                                    "TimesPurchased": "1",
                                    "TotalQuantity": "3",
                                    "MarketAverage": "231.481690"
                                },
                                {
                                    "CustomerID": "15",
                                    "CustomerName": "Tailspin Toys (Batson, TX)",
                                    "AvgPricePaid": "240.000000",
                                    "TimesPurchased": "1",
                                    "TotalQuantity": "3",
                                    "MarketAverage": "231.481690"
                                },
                                {
                                    "CustomerID": "580",
                                    "CustomerName": "Wingtip Toys (Sarversville, PA)",
                                    "AvgPricePaid": "240.000000",
                                    "TimesPurchased": "1",
                                    "TotalQuantity": "1",
                                    "MarketAverage": "231.481690"
                                },
                                {
                                    "CustomerID": "579",
                                    "CustomerName": "Wingtip Toys (Connoquenessing, PA)",
                                    "AvgPricePaid": "240.000000",
                                    "TimesPurchased": "1",
                                    "TotalQuantity": "8",
                                    "MarketAverage": "231.481690"
                                },
                                {
                                    "CustomerID": "559",
                                    "CustomerName": "Wingtip Toys (Mendoza, TX)",
                                    "AvgPricePaid": "240.000000",
                                    "TimesPurchased": "2",
                                    "TotalQuantity": "2",
                                    "MarketAverage": "231.481690"
                                },
                                {
                                    "CustomerID": "557",
                                    "CustomerName": "Wingtip Toys (New Laguna, NM)",
                                    "AvgPricePaid": "240.000000",
                                    "TimesPurchased": "1",
                                    "TotalQuantity": "9",
                                    "MarketAverage": "231.481690"
                                },
                                {
                                    "CustomerID": "70",
                                    "CustomerName": "Tailspin Toys (New Baden, IL)",
                                    "AvgPricePaid": "240.000000",
                                    "TimesPurchased": "1",
                                    "TotalQuantity": "10",
                                    "MarketAverage": "231.481690"
                                },
                                {
                                    "CustomerID": "545",
                                    "CustomerName": "Wingtip Toys (Jamison, IA)",
                                    "AvgPricePaid": "240.000000",
                                    "TimesPurchased": "1",
                                    "TotalQuantity": "5",
                                    "MarketAverage": "231.481690"
                                },
                                {
                                    "CustomerID": "524",
                                    "CustomerName": "Wingtip Toys (Cloquet, MN)",
                                    "AvgPricePaid": "240.000000",
                                    "TimesPurchased": "1",
                                    "TotalQuantity": "10",
                                    "MarketAverage": "231.481690"
                                },
                                {
                                    "CustomerID": "78",
                                    "CustomerName": "Tailspin Toys (Sekiu, WA)",
                                    "AvgPricePaid": "240.000000",
                                    "TimesPurchased": "1",
                                    "TotalQuantity": "3",
                                    "MarketAverage": "231.481690"
                                },
                                {
                                    "CustomerID": "512",
                                    "CustomerName": "Wingtip Toys (Philip, SD)",
                                    "AvgPricePaid": "240.000000",
                                    "TimesPurchased": "1",
                                    "TotalQuantity": "1",
                                    "MarketAverage": "231.481690"
                                },
                                {
                                    "CustomerID": "492",
                                    "CustomerName": "Wingtip Toys (Birds, IL)",
                                    "AvgPricePaid": "240.000000",
                                    "TimesPurchased": "1",
                                    "TotalQuantity": "6",
                                    "MarketAverage": "231.481690"
                                },
                                {
                                    "CustomerID": "90",
                                    "CustomerName": "Tailspin Toys (Tolna, ND)",
                                    "AvgPricePaid": "240.000000",
                                    "TimesPurchased": "1",
                                    "TotalQuantity": "5",
                                    "MarketAverage": "231.481690"
                                },
                                {
                                    "CustomerID": "98",
                                    "CustomerName": "Tailspin Toys (El Centro, CA)",
                                    "AvgPricePaid": "240.000000",
                                    "TimesPurchased": "1",
                                    "TotalQuantity": "3",
                                    "MarketAverage": "231.481690"
                                },
                                {
                                    "CustomerID": "443",
                                    "CustomerName": "Wingtip Toys (Berville, MI)",
                                    "AvgPricePaid": "240.000000",
                                    "TimesPurchased": "1",
                                    "TotalQuantity": "10",
                                    "MarketAverage": "231.481690"
                                },
                                {
                                    "CustomerID": "437",
                                    "CustomerName": "Wingtip Toys (Cadogan, PA)",
                                    "AvgPricePaid": "240.000000",
                                    "TimesPurchased": "1",
                                    "TotalQuantity": "1",
                                    "MarketAverage": "231.481690"
                                },
                                {
                                    "CustomerID": "421",
                                    "CustomerName": "Wingtip Toys (Highland Home, AL)",
                                    "AvgPricePaid": "240.000000",
                                    "TimesPurchased": "1",
                                    "TotalQuantity": "2",
                                    "MarketAverage": "231.481690"
                                },
                                {
                                    "CustomerID": "419",
                                    "CustomerName": "Wingtip Toys (Compass Lake, FL)",
                                    "AvgPricePaid": "240.000000",
                                    "TimesPurchased": "1",
                                    "TotalQuantity": "8",
                                    "MarketAverage": "231.481690"
                                },
                                {
                                    "CustomerID": "417",
                                    "CustomerName": "Wingtip Toys (Chetek, WI)",
                                    "AvgPricePaid": "240.000000",
                                    "TimesPurchased": "1",
                                    "TotalQuantity": "2",
                                    "MarketAverage": "231.481690"
                                },
                                {
                                    "CustomerID": "415",
                                    "CustomerName": "Wingtip Toys (Leathersville, GA)",
                                    "AvgPricePaid": "240.000000",
                                    "TimesPurchased": "1",
                                    "TotalQuantity": "2",
                                    "MarketAverage": "231.481690"
                                },
                                {
                                    "CustomerID": "413",
                                    "CustomerName": "Wingtip Toys (Truscott, TX)",
                                    "AvgPricePaid": "240.000000",
                                    "TimesPurchased": "1",
                                    "TotalQuantity": "5",
                                    "MarketAverage": "231.481690"
                                },
                                {
                                    "CustomerID": "133",
                                    "CustomerName": "Tailspin Toys (Lake Erie Beach, NY)",
                                    "AvgPricePaid": "240.000000",
                                    "TimesPurchased": "1",
                                    "TotalQuantity": "5",
                                    "MarketAverage": "231.481690"
                                },
                                {
                                    "CustomerID": "190",
                                    "CustomerName": "Tailspin Toys (Teutopolis, IL)",
                                    "AvgPricePaid": "240.000000",
                                    "TimesPurchased": "1",
                                    "TotalQuantity": "3",
                                    "MarketAverage": "231.481690"
                                },
                                {
                                    "CustomerID": "182",
                                    "CustomerName": "Tailspin Toys (Hayes Center, NE)",
                                    "AvgPricePaid": "240.000000",
                                    "TimesPurchased": "1",
                                    "TotalQuantity": "3",
                                    "MarketAverage": "231.481690"
                                },
                                {
                                    "CustomerID": "179",
                                    "CustomerName": "Tailspin Toys (Hiteman, IA)",
                                    "AvgPricePaid": "240.000000",
                                    "TimesPurchased": "1",
                                    "TotalQuantity": "1",
                                    "MarketAverage": "231.481690"
                                },
                                {
                                    "CustomerID": "147",
                                    "CustomerName": "Tailspin Toys (Fishtail, MT)",
                                    "AvgPricePaid": "240.000000",
                                    "TimesPurchased": "2",
                                    "TotalQuantity": "5",
                                    "MarketAverage": "231.481690"
                                },
                                {
                                    "CustomerID": "151",
                                    "CustomerName": "Tailspin Toys (Antares, AZ)",
                                    "AvgPricePaid": "240.000000",
                                    "TimesPurchased": "1",
                                    "TotalQuantity": "6",
                                    "MarketAverage": "231.481690"
                                },
                                {
                                    "CustomerID": "164",
                                    "CustomerName": "Tailspin Toys (Rothsville, PA)",
                                    "AvgPricePaid": "240.000000",
                                    "TimesPurchased": "1",
                                    "TotalQuantity": "10",
                                    "MarketAverage": "231.481690"
                                },
                                {
                                    "CustomerID": "161",
                                    "CustomerName": "Tailspin Toys (Aspen Park, CO)",
                                    "AvgPricePaid": "240.000000",
                                    "TimesPurchased": "1",
                                    "TotalQuantity": "10",
                                    "MarketAverage": "231.481690"
                                }
                            ]
                        },
                        "text/html": [
                            "<table>",
                            "<tr><th>CustomerID</th><th>CustomerName</th><th>AvgPricePaid</th><th>TimesPurchased</th><th>TotalQuantity</th><th>MarketAverage</th></tr>",
                            "<tr><td>599</td><td>Wingtip Toys (Dickworsham, TX)</td><td>24.000000</td><td>1</td><td>7</td><td>231.481690</td></tr>",
                            "<tr><td>594</td><td>Wingtip Toys (Marfa, TX)</td><td>24.000000</td><td>1</td><td>8</td><td>231.481690</td></tr>",
                            "<tr><td>556</td><td>Wingtip Toys (Morita, TX)</td><td>24.000000</td><td>1</td><td>2</td><td>231.481690</td></tr>",
                            "<tr><td>554</td><td>Wingtip Toys (Hollandsburg, IN)</td><td>24.000000</td><td>1</td><td>1</td><td>231.481690</td></tr>",
                            "<tr><td>549</td><td>Wingtip Toys (Lake Ronkonkoma, NY)</td><td>24.000000</td><td>1</td><td>2</td><td>231.481690</td></tr>",
                            "<tr><td>547</td><td>Wingtip Toys (Chaseley, ND)</td><td>24.000000</td><td>1</td><td>10</td><td>231.481690</td></tr>",
                            "<tr><td>525</td><td>Wingtip Toys (Claycomo, MO)</td><td>24.000000</td><td>1</td><td>7</td><td>231.481690</td></tr>",
                            "<tr><td>517</td><td>Wingtip Toys (Licking, MO)</td><td>24.000000</td><td>1</td><td>7</td><td>231.481690</td></tr>",
                            "<tr><td>515</td><td>Wingtip Toys (Del Valle, TX)</td><td>24.000000</td><td>1</td><td>5</td><td>231.481690</td></tr>",
                            "<tr><td>494</td><td>Wingtip Toys (Pikeview, CO)</td><td>24.000000</td><td>1</td><td>2</td><td>231.481690</td></tr>",
                            "<tr><td>482</td><td>Wingtip Toys (Caton, NY)</td><td>24.000000</td><td>1</td><td>2</td><td>231.481690</td></tr>",
                            "<tr><td>475</td><td>Wingtip Toys (Cale, AR)</td><td>24.000000</td><td>1</td><td>4</td><td>231.481690</td></tr>",
                            "<tr><td>460</td><td>Wingtip Toys (Mayhill, NM)</td><td>24.000000</td><td>1</td><td>9</td><td>231.481690</td></tr>",
                            "<tr><td>444</td><td>Wingtip Toys (Tea, SD)</td><td>24.000000</td><td>1</td><td>10</td><td>231.481690</td></tr>",
                            "<tr><td>424</td><td>Wingtip Toys (Heartwell, NE)</td><td>24.000000</td><td>1</td><td>9</td><td>231.481690</td></tr>",
                            "<tr><td>423</td><td>Wingtip Toys (Baldwin City, KS)</td><td>24.000000</td><td>1</td><td>3</td><td>231.481690</td></tr>",
                            "<tr><td>420</td><td>Wingtip Toys (Herlong, CA)</td><td>24.000000</td><td>1</td><td>10</td><td>231.481690</td></tr>",
                            "<tr><td>411</td><td>Wingtip Toys (Edmund, WI)</td><td>24.000000</td><td>1</td><td>1</td><td>231.481690</td></tr>",
                            "<tr><td>187</td><td>Tailspin Toys (Brown City, MI)</td><td>36.000000</td><td>1</td><td>3</td><td>231.481690</td></tr>",
                            "<tr><td>175</td><td>Tailspin Toys (San Acacia, NM)</td><td>36.000000</td><td>1</td><td>1</td><td>231.481690</td></tr>",
                            "<tr><td>173</td><td>Tailspin Toys (Wappingers Falls, NY)</td><td>36.000000</td><td>1</td><td>8</td><td>231.481690</td></tr>",
                            "<tr><td>160</td><td>Tailspin Toys (Crary, ND)</td><td>36.000000</td><td>1</td><td>10</td><td>231.481690</td></tr>",
                            "<tr><td>9</td><td>Tailspin Toys (Netcong, NJ)</td><td>36.000000</td><td>1</td><td>9</td><td>231.481690</td></tr>",
                            "<tr><td>138</td><td>Tailspin Toys (Navassa, NC)</td><td>36.000000</td><td>1</td><td>6</td><td>231.481690</td></tr>",
                            "<tr><td>129</td><td>Tailspin Toys (Mineral Hills, MI)</td><td>36.000000</td><td>1</td><td>9</td><td>231.481690</td></tr>",
                            "<tr><td>117</td><td>Tailspin Toys (Scofield, UT)</td><td>36.000000</td><td>1</td><td>8</td><td>231.481690</td></tr>",
                            "<tr><td>102</td><td>Tailspin Toys (Fieldbrook, CA)</td><td>36.000000</td><td>1</td><td>8</td><td>231.481690</td></tr>",
                            "<tr><td>69</td><td>Tailspin Toys (Lytle Creek, CA)</td><td>36.000000</td><td>1</td><td>10</td><td>231.481690</td></tr>",
                            "<tr><td>94</td><td>Tailspin Toys (Cheyenne Wells, CO)</td><td>36.000000</td><td>1</td><td>4</td><td>231.481690</td></tr>",
                            "<tr><td>82</td><td>Tailspin Toys (La Cueva, NM)</td><td>36.000000</td><td>1</td><td>7</td><td>231.481690</td></tr>",
                            "<tr><td>79</td><td>Tailspin Toys (Page City, KS)</td><td>36.000000</td><td>1</td><td>1</td><td>231.481690</td></tr>",
                            "<tr><td>75</td><td>Tailspin Toys (Windsor Locks, CT)</td><td>36.000000</td><td>1</td><td>6</td><td>231.481690</td></tr>",
                            "<tr><td>442</td><td>Wingtip Toys (Homer City, PA)</td><td>96.000000</td><td>3</td><td>24</td><td>231.481690</td></tr>",
                            "<tr><td>564</td><td>Wingtip Toys (Tilleda, WI)</td><td>132.000000</td><td>2</td><td>15</td><td>231.481690</td></tr>",
                            "<tr><td>459</td><td>Wingtip Toys (Haydenville, OH)</td><td>132.000000</td><td>2</td><td>17</td><td>231.481690</td></tr>",
                            "<tr><td>548</td><td>Wingtip Toys (Indian Creek, IL)</td><td>132.000000</td><td>2</td><td>5</td><td>231.481690</td></tr>",
                            "<tr><td>483</td><td>Wingtip Toys (Plum Branch, SC)</td><td>132.000000</td><td>2</td><td>5</td><td>231.481690</td></tr>",
                            "<tr><td>528</td><td>Wingtip Toys (Rich Creek, VA)</td><td>132.000000</td><td>2</td><td>17</td><td>231.481690</td></tr>",
                            "<tr><td>18</td><td>Tailspin Toys (Goffstown, NH)</td><td>138.000000</td><td>2</td><td>10</td><td>231.481690</td></tr>",
                            "<tr><td>60</td><td>Tailspin Toys (East Dailey, WV)</td><td>138.000000</td><td>2</td><td>7</td><td>231.481690</td></tr>",
                            "<tr><td>71</td><td>Tailspin Toys (Good Hart, MI)</td><td>138.000000</td><td>2</td><td>13</td><td>231.481690</td></tr>",
                            "<tr><td>153</td><td>Tailspin Toys (Marcell, MN)</td><td>172.000000</td><td>3</td><td>12</td><td>231.481690</td></tr>",
                            "<tr><td>834</td><td>Cong Hoa</td><td>240.000000</td><td>1</td><td>8</td><td>231.481690</td></tr>",
                            "<tr><td>836</td><td>Abel Spirlea</td><td>240.000000</td><td>1</td><td>10</td><td>231.481690</td></tr>",
                            "<tr><td>843</td><td>Marija Justina Pasek</td><td>240.000000</td><td>1</td><td>10</td><td>231.481690</td></tr>",
                            "<tr><td>846</td><td>Malorie Bousquet</td><td>240.000000</td><td>1</td><td>9</td><td>231.481690</td></tr>",
                            "<tr><td>857</td><td>Clarissa Manfrin</td><td>240.000000</td><td>1</td><td>2</td><td>231.481690</td></tr>",
                            "<tr><td>874</td><td>Daniel Martensson</td><td>240.000000</td><td>1</td><td>8</td><td>231.481690</td></tr>",
                            "<tr><td>875</td><td>Philip Walker</td><td>240.000000</td><td>1</td><td>7</td><td>231.481690</td></tr>",
                            "<tr><td>890</td><td>Olya Izmaylov</td><td>240.000000</td><td>1</td><td>6</td><td>231.481690</td></tr>",
                            "<tr><td>899</td><td>Chin-Sun Chang</td><td>240.000000</td><td>1</td><td>9</td><td>231.481690</td></tr>",
                            "<tr><td>904</td><td>Olafs Rozitis</td><td>240.000000</td><td>1</td><td>6</td><td>231.481690</td></tr>",
                            "<tr><td>927</td><td>Matyas Sedlar</td><td>240.000000</td><td>2</td><td>17</td><td>231.481690</td></tr>",
                            "<tr><td>929</td><td>Vladimir Henzl</td><td>240.000000</td><td>1</td><td>7</td><td>231.481690</td></tr>",
                            "<tr><td>931</td><td>Nada Jovanovic</td><td>240.000000</td><td>1</td><td>4</td><td>231.481690</td></tr>",
                            "<tr><td>934</td><td>Ivan Sepulveda</td><td>240.000000</td><td>1</td><td>6</td><td>231.481690</td></tr>",
                            "<tr><td>938</td><td>Anna Gyarmathi</td><td>240.000000</td><td>1</td><td>3</td><td>231.481690</td></tr>",
                            "<tr><td>941</td><td>Bishwa Chatterjee</td><td>240.000000</td><td>1</td><td>6</td><td>231.481690</td></tr>",
                            "<tr><td>948</td><td>Richard Zahradnicek</td><td>240.000000</td><td>1</td><td>9</td><td>231.481690</td></tr>",
                            "<tr><td>959</td><td>Dhaatri Chavva</td><td>240.000000</td><td>1</td><td>10</td><td>231.481690</td></tr>",
                            "<tr><td>960</td><td>Edgar Jogi</td><td>240.000000</td><td>1</td><td>5</td><td>231.481690</td></tr>",
                            "<tr><td>969</td><td>Staffan Persson</td><td>240.000000</td><td>1</td><td>8</td><td>231.481690</td></tr>",
                            "<tr><td>970</td><td>Isidora Urias</td><td>240.000000</td><td>1</td><td>5</td><td>231.481690</td></tr>",
                            "<tr><td>972</td><td>Lakshmi Benipal</td><td>240.000000</td><td>1</td><td>1</td><td>231.481690</td></tr>",
                            "<tr><td>975</td><td>Prabodh Nair</td><td>240.000000</td><td>1</td><td>6</td><td>231.481690</td></tr>",
                            "<tr><td>992</td><td>Amarakumaar Gadiyaram</td><td>240.000000</td><td>1</td><td>5</td><td>231.481690</td></tr>",
                            "<tr><td>998</td><td>Mahavir Sonkar</td><td>240.000000</td><td>1</td><td>3</td><td>231.481690</td></tr>",
                            "<tr><td>1002</td><td>Stefan Selezeanu</td><td>240.000000</td><td>1</td><td>6</td><td>231.481690</td></tr>",
                            "<tr><td>1011</td><td>Rajeev Sandhu</td><td>240.000000</td><td>1</td><td>7</td><td>231.481690</td></tr>",
                            "<tr><td>1017</td><td>David Novacek </td><td>240.000000</td><td>1</td><td>6</td><td>231.481690</td></tr>",
                            "<tr><td>1023</td><td>Farzana Habibi</td><td>240.000000</td><td>2</td><td>15</td><td>231.481690</td></tr>",
                            "<tr><td>1025</td><td>Tuulikki Linna</td><td>240.000000</td><td>1</td><td>4</td><td>231.481690</td></tr>",
                            "<tr><td>1035</td><td>Manjunatha Karnik</td><td>240.000000</td><td>1</td><td>2</td><td>231.481690</td></tr>",
                            "<tr><td>1050</td><td>Amrita Ganguly</td><td>240.000000</td><td>2</td><td>10</td><td>231.481690</td></tr>",
                            "<tr><td>1053</td><td>Luis Saucedo</td><td>240.000000</td><td>1</td><td>1</td><td>231.481690</td></tr>",
                            "<tr><td>1055</td><td>Adriana Pena</td><td>240.000000</td><td>1</td><td>1</td><td>231.481690</td></tr>",
                            "<tr><td>827</td><td>Crina Grasu</td><td>240.000000</td><td>1</td><td>2</td><td>231.481690</td></tr>",
                            "<tr><td>825</td><td>Jayanta Thakur</td><td>240.000000</td><td>1</td><td>4</td><td>231.481690</td></tr>",
                            "<tr><td>824</td><td>Risto Valbe</td><td>240.000000</td><td>1</td><td>8</td><td>231.481690</td></tr>",
                            "<tr><td>808</td><td>Jackson Kolios</td><td>240.000000</td><td>1</td><td>4</td><td>231.481690</td></tr>",
                            "<tr><td>804</td><td>Aleksandrs Riekstins</td><td>240.000000</td><td>1</td><td>5</td><td>231.481690</td></tr>",
                            "<tr><td>801</td><td>Eric Torres</td><td>240.000000</td><td>1</td><td>8</td><td>231.481690</td></tr>",
                            "<tr><td>596</td><td>Wingtip Toys (Cos Cob, CT)</td><td>240.000000</td><td>1</td><td>3</td><td>231.481690</td></tr>",
                            "<tr><td>15</td><td>Tailspin Toys (Batson, TX)</td><td>240.000000</td><td>1</td><td>3</td><td>231.481690</td></tr>",
                            "<tr><td>580</td><td>Wingtip Toys (Sarversville, PA)</td><td>240.000000</td><td>1</td><td>1</td><td>231.481690</td></tr>",
                            "<tr><td>579</td><td>Wingtip Toys (Connoquenessing, PA)</td><td>240.000000</td><td>1</td><td>8</td><td>231.481690</td></tr>",
                            "<tr><td>559</td><td>Wingtip Toys (Mendoza, TX)</td><td>240.000000</td><td>2</td><td>2</td><td>231.481690</td></tr>",
                            "<tr><td>557</td><td>Wingtip Toys (New Laguna, NM)</td><td>240.000000</td><td>1</td><td>9</td><td>231.481690</td></tr>",
                            "<tr><td>70</td><td>Tailspin Toys (New Baden, IL)</td><td>240.000000</td><td>1</td><td>10</td><td>231.481690</td></tr>",
                            "<tr><td>545</td><td>Wingtip Toys (Jamison, IA)</td><td>240.000000</td><td>1</td><td>5</td><td>231.481690</td></tr>",
                            "<tr><td>524</td><td>Wingtip Toys (Cloquet, MN)</td><td>240.000000</td><td>1</td><td>10</td><td>231.481690</td></tr>",
                            "<tr><td>78</td><td>Tailspin Toys (Sekiu, WA)</td><td>240.000000</td><td>1</td><td>3</td><td>231.481690</td></tr>",
                            "<tr><td>512</td><td>Wingtip Toys (Philip, SD)</td><td>240.000000</td><td>1</td><td>1</td><td>231.481690</td></tr>",
                            "<tr><td>492</td><td>Wingtip Toys (Birds, IL)</td><td>240.000000</td><td>1</td><td>6</td><td>231.481690</td></tr>",
                            "<tr><td>90</td><td>Tailspin Toys (Tolna, ND)</td><td>240.000000</td><td>1</td><td>5</td><td>231.481690</td></tr>",
                            "<tr><td>98</td><td>Tailspin Toys (El Centro, CA)</td><td>240.000000</td><td>1</td><td>3</td><td>231.481690</td></tr>",
                            "<tr><td>443</td><td>Wingtip Toys (Berville, MI)</td><td>240.000000</td><td>1</td><td>10</td><td>231.481690</td></tr>",
                            "<tr><td>437</td><td>Wingtip Toys (Cadogan, PA)</td><td>240.000000</td><td>1</td><td>1</td><td>231.481690</td></tr>",
                            "<tr><td>421</td><td>Wingtip Toys (Highland Home, AL)</td><td>240.000000</td><td>1</td><td>2</td><td>231.481690</td></tr>",
                            "<tr><td>419</td><td>Wingtip Toys (Compass Lake, FL)</td><td>240.000000</td><td>1</td><td>8</td><td>231.481690</td></tr>",
                            "<tr><td>417</td><td>Wingtip Toys (Chetek, WI)</td><td>240.000000</td><td>1</td><td>2</td><td>231.481690</td></tr>",
                            "<tr><td>415</td><td>Wingtip Toys (Leathersville, GA)</td><td>240.000000</td><td>1</td><td>2</td><td>231.481690</td></tr>",
                            "<tr><td>413</td><td>Wingtip Toys (Truscott, TX)</td><td>240.000000</td><td>1</td><td>5</td><td>231.481690</td></tr>",
                            "<tr><td>133</td><td>Tailspin Toys (Lake Erie Beach, NY)</td><td>240.000000</td><td>1</td><td>5</td><td>231.481690</td></tr>",
                            "<tr><td>190</td><td>Tailspin Toys (Teutopolis, IL)</td><td>240.000000</td><td>1</td><td>3</td><td>231.481690</td></tr>",
                            "<tr><td>182</td><td>Tailspin Toys (Hayes Center, NE)</td><td>240.000000</td><td>1</td><td>3</td><td>231.481690</td></tr>",
                            "<tr><td>179</td><td>Tailspin Toys (Hiteman, IA)</td><td>240.000000</td><td>1</td><td>1</td><td>231.481690</td></tr>",
                            "<tr><td>147</td><td>Tailspin Toys (Fishtail, MT)</td><td>240.000000</td><td>2</td><td>5</td><td>231.481690</td></tr>",
                            "<tr><td>151</td><td>Tailspin Toys (Antares, AZ)</td><td>240.000000</td><td>1</td><td>6</td><td>231.481690</td></tr>",
                            "<tr><td>164</td><td>Tailspin Toys (Rothsville, PA)</td><td>240.000000</td><td>1</td><td>10</td><td>231.481690</td></tr>",
                            "<tr><td>161</td><td>Tailspin Toys (Aspen Park, CO)</td><td>240.000000</td><td>1</td><td>10</td><td>231.481690</td></tr>",
                            "</table>"
                        ]
                    }
                }
            ],
            "execution_count": 121
        },
        {
            "cell_type": "markdown",
            "source": [
                "Task 3 (Query 3) - <span style=\"color: var(--vscode-foreground);\">Find which salesperson is handling out these fraudulent orders.</span>\n",
                "\n",
                "<span style=\"color: var(--vscode-foreground);\">-&nbsp;</span> <span style=\"color: var(--vscode-foreground);\">Uses a CTE</span> <span style=\"color: var(--vscode-foreground);\"> to track orders by salesperson for the suspect item and c</span><span style=\"color: var(--vscode-foreground);\">ounts</span> <span style=\"color: var(--vscode-foreground);\"> how many discount orders each salesperson processed&nbsp;</span> \n",
                "\n",
                "<span style=\"color: var(--vscode-foreground);\">- Reveals Employee who's responsible</span>\n",
                "\n",
                "<span style=\"color: var(--vscode-foreground);\">- Calculates the average discount</span>"
            ],
            "metadata": {
                "azdata_cell_guid": "5f666e46-41fb-4f7d-8c12-5763947adfe1"
            },
            "attachments": {}
        },
        {
            "cell_type": "code",
            "source": [
                "WITH SalespersonActivity AS (\r\n",
                "    SELECT \r\n",
                "        o.SalespersonPersonID,\r\n",
                "        COUNT(DISTINCT o.OrderID) AS OrdersProcessed,\r\n",
                "        AVG(ol.UnitPrice) AS AvgPriceCharged,\r\n",
                "        COUNT(DISTINCT o.CustomerID) AS DifferentCustomers\r\n",
                "    FROM Sales.Orders o\r\n",
                "    INNER JOIN Sales.OrderLines ol ON o.OrderID = ol.OrderID\r\n",
                "    WHERE ol.StockItemID = 15 -- Uses StockItemID from Previous Query\r\n",
                "        AND YEAR(o.OrderDate) = 2016\r\n",
                "    GROUP BY o.SalespersonPersonID\r\n",
                ")\r\n",
                "SELECT \r\n",
                "    sa.SalespersonPersonID,\r\n",
                "    p.FullName,\r\n",
                "    sa.OrdersProcessed,\r\n",
                "    sa.AvgPriceCharged,\r\n",
                "    sa.DifferentCustomers,\r\n",
                "    (SELECT AVG(UnitPrice) FROM Sales.OrderLines WHERE StockItemID = 15) AS MarketAverage\r\n",
                "FROM SalespersonActivity sa\r\n",
                "INNER JOIN Application.People p ON sa.SalespersonPersonID = p.PersonID\r\n",
                "ORDER BY sa.AvgPriceCharged ASC"
            ],
            "metadata": {
                "azdata_cell_guid": "296f55c4-38ef-47c6-84a5-77312ca4770f",
                "language": "sql"
            },
            "outputs": [
                {
                    "output_type": "display_data",
                    "data": {
                        "text/html": "(10 rows affected)"
                    },
                    "metadata": {}
                },
                {
                    "output_type": "display_data",
                    "data": {
                        "text/html": "Total execution time: 00:00:00.046"
                    },
                    "metadata": {}
                },
                {
                    "output_type": "execute_result",
                    "metadata": {},
                    "execution_count": 122,
                    "data": {
                        "application/vnd.dataresource+json": {
                            "schema": {
                                "fields": [
                                    {
                                        "name": "SalespersonPersonID"
                                    },
                                    {
                                        "name": "FullName"
                                    },
                                    {
                                        "name": "OrdersProcessed"
                                    },
                                    {
                                        "name": "AvgPriceCharged"
                                    },
                                    {
                                        "name": "DifferentCustomers"
                                    },
                                    {
                                        "name": "MarketAverage"
                                    }
                                ]
                            },
                            "data": [
                                {
                                    "SalespersonPersonID": "3",
                                    "FullName": "Hudson Onslow",
                                    "OrdersProcessed": "15",
                                    "AvgPriceCharged": "113.600000",
                                    "DifferentCustomers": "15",
                                    "MarketAverage": "231.481690"
                                },
                                {
                                    "SalespersonPersonID": "13",
                                    "FullName": "Hudson Hollinworth",
                                    "OrdersProcessed": "10",
                                    "AvgPriceCharged": "157.200000",
                                    "DifferentCustomers": "10",
                                    "MarketAverage": "231.481690"
                                },
                                {
                                    "SalespersonPersonID": "20",
                                    "FullName": "Jack Potter",
                                    "OrdersProcessed": "19",
                                    "AvgPriceCharged": "162.315789",
                                    "DifferentCustomers": "19",
                                    "MarketAverage": "231.481690"
                                },
                                {
                                    "SalespersonPersonID": "15",
                                    "FullName": "Taj Shand",
                                    "OrdersProcessed": "17",
                                    "AvgPriceCharged": "163.764705",
                                    "DifferentCustomers": "16",
                                    "MarketAverage": "231.481690"
                                },
                                {
                                    "SalespersonPersonID": "16",
                                    "FullName": "Archer Lamble",
                                    "OrdersProcessed": "11",
                                    "AvgPriceCharged": "164.727272",
                                    "DifferentCustomers": "11",
                                    "MarketAverage": "231.481690"
                                },
                                {
                                    "SalespersonPersonID": "2",
                                    "FullName": "Kayla Woodcock",
                                    "OrdersProcessed": "7",
                                    "AvgPriceCharged": "180.000000",
                                    "DifferentCustomers": "7",
                                    "MarketAverage": "231.481690"
                                },
                                {
                                    "SalespersonPersonID": "14",
                                    "FullName": "Lily Code",
                                    "OrdersProcessed": "11",
                                    "AvgPriceCharged": "181.090909",
                                    "DifferentCustomers": "11",
                                    "MarketAverage": "231.481690"
                                },
                                {
                                    "SalespersonPersonID": "6",
                                    "FullName": "Sophia Hinton",
                                    "OrdersProcessed": "11",
                                    "AvgPriceCharged": "183.272727",
                                    "DifferentCustomers": "11",
                                    "MarketAverage": "231.481690"
                                },
                                {
                                    "SalespersonPersonID": "8",
                                    "FullName": "Anthony Grosse",
                                    "OrdersProcessed": "14",
                                    "AvgPriceCharged": "194.571428",
                                    "DifferentCustomers": "14",
                                    "MarketAverage": "231.481690"
                                },
                                {
                                    "SalespersonPersonID": "7",
                                    "FullName": "Amy Trefl",
                                    "OrdersProcessed": "13",
                                    "AvgPriceCharged": "207.692307",
                                    "DifferentCustomers": "13",
                                    "MarketAverage": "231.481690"
                                }
                            ]
                        },
                        "text/html": [
                            "<table>",
                            "<tr><th>SalespersonPersonID</th><th>FullName</th><th>OrdersProcessed</th><th>AvgPriceCharged</th><th>DifferentCustomers</th><th>MarketAverage</th></tr>",
                            "<tr><td>3</td><td>Hudson Onslow</td><td>15</td><td>113.600000</td><td>15</td><td>231.481690</td></tr>",
                            "<tr><td>13</td><td>Hudson Hollinworth</td><td>10</td><td>157.200000</td><td>10</td><td>231.481690</td></tr>",
                            "<tr><td>20</td><td>Jack Potter</td><td>19</td><td>162.315789</td><td>19</td><td>231.481690</td></tr>",
                            "<tr><td>15</td><td>Taj Shand</td><td>17</td><td>163.764705</td><td>16</td><td>231.481690</td></tr>",
                            "<tr><td>16</td><td>Archer Lamble</td><td>11</td><td>164.727272</td><td>11</td><td>231.481690</td></tr>",
                            "<tr><td>2</td><td>Kayla Woodcock</td><td>7</td><td>180.000000</td><td>7</td><td>231.481690</td></tr>",
                            "<tr><td>14</td><td>Lily Code</td><td>11</td><td>181.090909</td><td>11</td><td>231.481690</td></tr>",
                            "<tr><td>6</td><td>Sophia Hinton</td><td>11</td><td>183.272727</td><td>11</td><td>231.481690</td></tr>",
                            "<tr><td>8</td><td>Anthony Grosse</td><td>14</td><td>194.571428</td><td>14</td><td>231.481690</td></tr>",
                            "<tr><td>7</td><td>Amy Trefl</td><td>13</td><td>207.692307</td><td>13</td><td>231.481690</td></tr>",
                            "</table>"
                        ]
                    }
                }
            ],
            "execution_count": 122
        },
        {
            "cell_type": "markdown",
            "source": [
                "Task 4 (Query 4) - Calculate Losses from Fraud\n",
                "\n",
                "\\- <span style=\"color: var(--vscode-foreground);\">Compares</span> <span style=\"color: var(--vscode-foreground);\"> actual prices vs. market prices</span>\n",
                "\n",
                "\\- <span style=\"color: var(--vscode-foreground);\">Calculates</span> <span style=\"color: var(--vscode-foreground);\"> total lost revenue</span>\n",
                "\n",
                "\\- <span style=\"color: var(--vscode-foreground);\">Shows</span> <span style=\"color: var(--vscode-foreground);\"> the financial impact per customer</span>"
            ],
            "metadata": {
                "azdata_cell_guid": "fb89851a-02e0-4a63-ae71-b8615bda9149"
            },
            "attachments": {}
        },
        {
            "cell_type": "code",
            "source": [
                "WITH LossCalculation AS (\r\n",
                "    SELECT \r\n",
                "        o.CustomerID,\r\n",
                "        ol.Quantity,\r\n",
                "        ol.UnitPrice AS ActualPrice,\r\n",
                "        (SELECT AVG(UnitPrice) FROM Sales.OrderLines WHERE StockItemID = 15) AS MarketPrice,\r\n",
                "        ol.Quantity * ol.UnitPrice AS ActualRevenue,\r\n",
                "        ol.Quantity * (SELECT AVG(UnitPrice) FROM Sales.OrderLines WHERE StockItemID = 15) AS ExpectedRevenue\r\n",
                "    FROM Sales.Orders o\r\n",
                "    INNER JOIN Sales.OrderLines ol ON o.OrderID = ol.OrderID\r\n",
                "    WHERE ol.StockItemID = 15 -- Uses StockItemID from previous Query\r\n",
                "        AND o.SalespersonPersonID = 3 -- Uses SalespersonPersonID from previous Query\r\n",
                "        AND YEAR(o.OrderDate) = 2016\r\n",
                ")\r\n",
                "SELECT \r\n",
                "    lc.CustomerID,\r\n",
                "    c.CustomerName,\r\n",
                "    SUM(lc.Quantity) AS TotalUnits,\r\n",
                "    SUM(lc.ActualRevenue) AS ActualRevenue,\r\n",
                "    SUM(lc.ExpectedRevenue) AS ExpectedRevenue,\r\n",
                "    SUM(lc.ExpectedRevenue - lc.ActualRevenue) AS TotalLoss\r\n",
                "FROM LossCalculation lc\r\n",
                "INNER JOIN Sales.Customers c ON lc.CustomerID = c.CustomerID\r\n",
                "GROUP BY lc.CustomerID, c.CustomerName\r\n",
                "ORDER BY TotalLoss DESC"
            ],
            "metadata": {
                "azdata_cell_guid": "d24d3b11-2041-4114-be9c-ac35d54eace9",
                "language": "sql"
            },
            "outputs": [
                {
                    "output_type": "display_data",
                    "data": {
                        "text/html": "(15 rows affected)"
                    },
                    "metadata": {}
                },
                {
                    "output_type": "display_data",
                    "data": {
                        "text/html": "Total execution time: 00:00:00.037"
                    },
                    "metadata": {}
                },
                {
                    "output_type": "execute_result",
                    "metadata": {},
                    "execution_count": 123,
                    "data": {
                        "application/vnd.dataresource+json": {
                            "schema": {
                                "fields": [
                                    {
                                        "name": "CustomerID"
                                    },
                                    {
                                        "name": "CustomerName"
                                    },
                                    {
                                        "name": "TotalUnits"
                                    },
                                    {
                                        "name": "ActualRevenue"
                                    },
                                    {
                                        "name": "ExpectedRevenue"
                                    },
                                    {
                                        "name": "TotalLoss"
                                    }
                                ]
                            },
                            "data": [
                                {
                                    "CustomerID": "420",
                                    "CustomerName": "Wingtip Toys (Herlong, CA)",
                                    "TotalUnits": "10",
                                    "ActualRevenue": "240.00",
                                    "ExpectedRevenue": "2314.816900",
                                    "TotalLoss": "2074.816900"
                                },
                                {
                                    "CustomerID": "547",
                                    "CustomerName": "Wingtip Toys (Chaseley, ND)",
                                    "TotalUnits": "10",
                                    "ActualRevenue": "240.00",
                                    "ExpectedRevenue": "2314.816900",
                                    "TotalLoss": "2074.816900"
                                },
                                {
                                    "CustomerID": "564",
                                    "CustomerName": "Wingtip Toys (Tilleda, WI)",
                                    "TotalUnits": "9",
                                    "ActualRevenue": "216.00",
                                    "ExpectedRevenue": "2083.335210",
                                    "TotalLoss": "1867.335210"
                                },
                                {
                                    "CustomerID": "102",
                                    "CustomerName": "Tailspin Toys (Fieldbrook, CA)",
                                    "TotalUnits": "8",
                                    "ActualRevenue": "288.00",
                                    "ExpectedRevenue": "1851.853520",
                                    "TotalLoss": "1563.853520"
                                },
                                {
                                    "CustomerID": "525",
                                    "CustomerName": "Wingtip Toys (Claycomo, MO)",
                                    "TotalUnits": "7",
                                    "ActualRevenue": "168.00",
                                    "ExpectedRevenue": "1620.371830",
                                    "TotalLoss": "1452.371830"
                                },
                                {
                                    "CustomerID": "82",
                                    "CustomerName": "Tailspin Toys (La Cueva, NM)",
                                    "TotalUnits": "7",
                                    "ActualRevenue": "252.00",
                                    "ExpectedRevenue": "1620.371830",
                                    "TotalLoss": "1368.371830"
                                },
                                {
                                    "CustomerID": "138",
                                    "CustomerName": "Tailspin Toys (Navassa, NC)",
                                    "TotalUnits": "6",
                                    "ActualRevenue": "216.00",
                                    "ExpectedRevenue": "1388.890140",
                                    "TotalLoss": "1172.890140"
                                },
                                {
                                    "CustomerID": "482",
                                    "CustomerName": "Wingtip Toys (Caton, NY)",
                                    "TotalUnits": "2",
                                    "ActualRevenue": "48.00",
                                    "ExpectedRevenue": "462.963380",
                                    "TotalLoss": "414.963380"
                                },
                                {
                                    "CustomerID": "175",
                                    "CustomerName": "Tailspin Toys (San Acacia, NM)",
                                    "TotalUnits": "1",
                                    "ActualRevenue": "36.00",
                                    "ExpectedRevenue": "231.481690",
                                    "TotalLoss": "195.481690"
                                },
                                {
                                    "CustomerID": "559",
                                    "CustomerName": "Wingtip Toys (Mendoza, TX)",
                                    "TotalUnits": "1",
                                    "ActualRevenue": "240.00",
                                    "ExpectedRevenue": "231.481690",
                                    "TotalLoss": "-8.518310"
                                },
                                {
                                    "CustomerID": "437",
                                    "CustomerName": "Wingtip Toys (Cadogan, PA)",
                                    "TotalUnits": "1",
                                    "ActualRevenue": "240.00",
                                    "ExpectedRevenue": "231.481690",
                                    "TotalLoss": "-8.518310"
                                },
                                {
                                    "CustomerID": "548",
                                    "CustomerName": "Wingtip Toys (Indian Creek, IL)",
                                    "TotalUnits": "2",
                                    "ActualRevenue": "480.00",
                                    "ExpectedRevenue": "462.963380",
                                    "TotalLoss": "-17.036620"
                                },
                                {
                                    "CustomerID": "931",
                                    "CustomerName": "Nada Jovanovic",
                                    "TotalUnits": "4",
                                    "ActualRevenue": "960.00",
                                    "ExpectedRevenue": "925.926760",
                                    "TotalLoss": "-34.073240"
                                },
                                {
                                    "CustomerID": "960",
                                    "CustomerName": "Edgar Jogi",
                                    "TotalUnits": "5",
                                    "ActualRevenue": "1200.00",
                                    "ExpectedRevenue": "1157.408450",
                                    "TotalLoss": "-42.591550"
                                },
                                {
                                    "CustomerID": "164",
                                    "CustomerName": "Tailspin Toys (Rothsville, PA)",
                                    "TotalUnits": "10",
                                    "ActualRevenue": "2400.00",
                                    "ExpectedRevenue": "2314.816900",
                                    "TotalLoss": "-85.183100"
                                }
                            ]
                        },
                        "text/html": [
                            "<table>",
                            "<tr><th>CustomerID</th><th>CustomerName</th><th>TotalUnits</th><th>ActualRevenue</th><th>ExpectedRevenue</th><th>TotalLoss</th></tr>",
                            "<tr><td>420</td><td>Wingtip Toys (Herlong, CA)</td><td>10</td><td>240.00</td><td>2314.816900</td><td>2074.816900</td></tr>",
                            "<tr><td>547</td><td>Wingtip Toys (Chaseley, ND)</td><td>10</td><td>240.00</td><td>2314.816900</td><td>2074.816900</td></tr>",
                            "<tr><td>564</td><td>Wingtip Toys (Tilleda, WI)</td><td>9</td><td>216.00</td><td>2083.335210</td><td>1867.335210</td></tr>",
                            "<tr><td>102</td><td>Tailspin Toys (Fieldbrook, CA)</td><td>8</td><td>288.00</td><td>1851.853520</td><td>1563.853520</td></tr>",
                            "<tr><td>525</td><td>Wingtip Toys (Claycomo, MO)</td><td>7</td><td>168.00</td><td>1620.371830</td><td>1452.371830</td></tr>",
                            "<tr><td>82</td><td>Tailspin Toys (La Cueva, NM)</td><td>7</td><td>252.00</td><td>1620.371830</td><td>1368.371830</td></tr>",
                            "<tr><td>138</td><td>Tailspin Toys (Navassa, NC)</td><td>6</td><td>216.00</td><td>1388.890140</td><td>1172.890140</td></tr>",
                            "<tr><td>482</td><td>Wingtip Toys (Caton, NY)</td><td>2</td><td>48.00</td><td>462.963380</td><td>414.963380</td></tr>",
                            "<tr><td>175</td><td>Tailspin Toys (San Acacia, NM)</td><td>1</td><td>36.00</td><td>231.481690</td><td>195.481690</td></tr>",
                            "<tr><td>559</td><td>Wingtip Toys (Mendoza, TX)</td><td>1</td><td>240.00</td><td>231.481690</td><td>-8.518310</td></tr>",
                            "<tr><td>437</td><td>Wingtip Toys (Cadogan, PA)</td><td>1</td><td>240.00</td><td>231.481690</td><td>-8.518310</td></tr>",
                            "<tr><td>548</td><td>Wingtip Toys (Indian Creek, IL)</td><td>2</td><td>480.00</td><td>462.963380</td><td>-17.036620</td></tr>",
                            "<tr><td>931</td><td>Nada Jovanovic</td><td>4</td><td>960.00</td><td>925.926760</td><td>-34.073240</td></tr>",
                            "<tr><td>960</td><td>Edgar Jogi</td><td>5</td><td>1200.00</td><td>1157.408450</td><td>-42.591550</td></tr>",
                            "<tr><td>164</td><td>Tailspin Toys (Rothsville, PA)</td><td>10</td><td>2400.00</td><td>2314.816900</td><td>-85.183100</td></tr>",
                            "</table>"
                        ]
                    }
                }
            ],
            "execution_count": 123
        },
        {
            "cell_type": "markdown",
            "source": [
                "Task 5 (Query 5) - <span style=\"color: var(--vscode-foreground);\">Check if this salesperson is manipulating prices on other items too</span>\n",
                "\n",
                "<span style=\"color: var(--vscode-foreground);\">- Identifies</span> <span style=\"color: var(--vscode-foreground);\">other items that are being sold at suspicious discounts</span>\n",
                "\n",
                "<span style=\"color: var(--vscode-foreground);\">- Shows</span> <span style=\"color: var(--vscode-foreground);\">the full scope of the fraud</span>\n",
                "\n",
                "<span style=\"color: var(--vscode-foreground);\">- Reveals</span> <span style=\"color: var(--vscode-foreground);\">if this is systematic or isolated</span>"
            ],
            "metadata": {
                "azdata_cell_guid": "2eb0d5ef-ac64-4fb9-a44c-62d05eb0b22e"
            },
            "attachments": {}
        },
        {
            "cell_type": "code",
            "source": [
                "WITH SuspectPricing AS (\r\n",
                "    SELECT \r\n",
                "        ol.StockItemID,\r\n",
                "        AVG(ol.UnitPrice) AS SuspectAvgPrice,\r\n",
                "        COUNT(DISTINCT o.OrderID) AS SuspectOrders\r\n",
                "    FROM Sales.Orders o\r\n",
                "    INNER JOIN Sales.OrderLines ol ON o.OrderID = ol.OrderID\r\n",
                "    WHERE o.SalespersonPersonID = 3\r\n",
                "        AND YEAR(o.OrderDate) = 2016\r\n",
                "    GROUP BY ol.StockItemID\r\n",
                "),\r\n",
                "MarketPricing AS (\r\n",
                "    SELECT \r\n",
                "        ol.StockItemID,\r\n",
                "        AVG(ol.UnitPrice) AS MarketAvgPrice\r\n",
                "    FROM Sales.Orders o\r\n",
                "    INNER JOIN Sales.OrderLines ol ON o.OrderID = ol.OrderID\r\n",
                "    WHERE o.SalespersonPersonID != 3\r\n",
                "        AND YEAR(o.OrderDate) = 2016\r\n",
                "    GROUP BY ol.StockItemID\r\n",
                ")\r\n",
                "SELECT TOP 10\r\n",
                "    si.StockItemName,\r\n",
                "    sp.SuspectAvgPrice,\r\n",
                "    mp.MarketAvgPrice,\r\n",
                "    (mp.MarketAvgPrice - sp.SuspectAvgPrice) AS Discount,\r\n",
                "    sp.SuspectOrders\r\n",
                "FROM SuspectPricing sp\r\n",
                "INNER JOIN MarketPricing mp ON sp.StockItemID = mp.StockItemID\r\n",
                "INNER JOIN Warehouse.StockItems si ON sp.StockItemID = si.StockItemID\r\n",
                "WHERE sp.SuspectAvgPrice < mp.MarketAvgPrice\r\n",
                "ORDER BY Discount DESC"
            ],
            "metadata": {
                "azdata_cell_guid": "d325bebe-6a68-48f0-9c13-84ef6af4c45a",
                "language": "sql",
                "tags": []
            },
            "outputs": [
                {
                    "output_type": "display_data",
                    "data": {
                        "text/html": "(5 rows affected)"
                    },
                    "metadata": {}
                },
                {
                    "output_type": "display_data",
                    "data": {
                        "text/html": "Total execution time: 00:00:00.114"
                    },
                    "metadata": {}
                },
                {
                    "output_type": "execute_result",
                    "metadata": {},
                    "execution_count": 124,
                    "data": {
                        "application/vnd.dataresource+json": {
                            "schema": {
                                "fields": [
                                    {
                                        "name": "StockItemName"
                                    },
                                    {
                                        "name": "SuspectAvgPrice"
                                    },
                                    {
                                        "name": "MarketAvgPrice"
                                    },
                                    {
                                        "name": "Discount"
                                    },
                                    {
                                        "name": "SuspectOrders"
                                    }
                                ]
                            },
                            "data": [
                                {
                                    "StockItemName": "USB food flash drive - dessert 10 drive variety pack",
                                    "SuspectAvgPrice": "113.600000",
                                    "MarketAvgPrice": "176.495575",
                                    "Discount": "62.895575",
                                    "SuspectOrders": "15"
                                },
                                {
                                    "StockItemName": "USB food flash drive - pizza slice",
                                    "SuspectAvgPrice": "20.480000",
                                    "MarketAvgPrice": "24.835398",
                                    "Discount": "4.355398",
                                    "SuspectOrders": "5"
                                },
                                {
                                    "StockItemName": "USB food flash drive - fortune cookie",
                                    "SuspectAvgPrice": "24.673684",
                                    "MarketAvgPrice": "26.922314",
                                    "Discount": "2.248630",
                                    "SuspectOrders": "19"
                                },
                                {
                                    "StockItemName": "USB food flash drive - shrimp cocktail",
                                    "SuspectAvgPrice": "22.720000",
                                    "MarketAvgPrice": "23.897600",
                                    "Discount": "1.177600",
                                    "SuspectOrders": "15"
                                },
                                {
                                    "StockItemName": "USB food flash drive - hot dog",
                                    "SuspectAvgPrice": "22.933333",
                                    "MarketAvgPrice": "23.193043",
                                    "Discount": "0.259710",
                                    "SuspectOrders": "9"
                                }
                            ]
                        },
                        "text/html": [
                            "<table>",
                            "<tr><th>StockItemName</th><th>SuspectAvgPrice</th><th>MarketAvgPrice</th><th>Discount</th><th>SuspectOrders</th></tr>",
                            "<tr><td>USB food flash drive - dessert 10 drive variety pack</td><td>113.600000</td><td>176.495575</td><td>62.895575</td><td>15</td></tr>",
                            "<tr><td>USB food flash drive - pizza slice</td><td>20.480000</td><td>24.835398</td><td>4.355398</td><td>5</td></tr>",
                            "<tr><td>USB food flash drive - fortune cookie</td><td>24.673684</td><td>26.922314</td><td>2.248630</td><td>19</td></tr>",
                            "<tr><td>USB food flash drive - shrimp cocktail</td><td>22.720000</td><td>23.897600</td><td>1.177600</td><td>15</td></tr>",
                            "<tr><td>USB food flash drive - hot dog</td><td>22.933333</td><td>23.193043</td><td>0.259710</td><td>9</td></tr>",
                            "</table>"
                        ]
                    }
                }
            ],
            "execution_count": 124
        },
        {
            "cell_type": "markdown",
            "source": [
                "# Mystery #6- The Potential Scalper\n",
                "\n",
                "## A large portion of sales are coming from one customer was ordering massive quantities of the same items, far beyond normal business needs. Are they a legitimate bulk buyer, or is an employee creating fake orders to steal inventory for their own profit?"
            ],
            "metadata": {
                "azdata_cell_guid": "4d94e418-a5c8-4295-84bc-abbbb6498cae"
            },
            "attachments": {}
        },
        {
            "cell_type": "markdown",
            "source": [
                "Task 1 (Query 1) - Find the  customer with the most orders"
            ],
            "metadata": {
                "azdata_cell_guid": "f0ecf028-ee92-4fd1-9545-920a45ce9bf6"
            },
            "attachments": {}
        },
        {
            "cell_type": "code",
            "source": [
                "SELECT TOP 10\r\n",
                "    CustomerID,\r\n",
                "    COUNT(OrderID) AS TotalOrders,\r\n",
                "    MIN(OrderDate) AS FirstOrder,\r\n",
                "    MAX(OrderDate) AS LastOrder,\r\n",
                "    DATEDIFF(day, MIN(OrderDate), MAX(OrderDate)) AS DaysAsCustomer\r\n",
                "FROM Sales.Orders\r\n",
                "WHERE YEAR(OrderDate) = 2016\r\n",
                "GROUP BY CustomerID\r\n",
                "ORDER BY TotalOrders DESC"
            ],
            "metadata": {
                "azdata_cell_guid": "67965dc8-113f-47f1-8f23-755efcedaec5",
                "language": "sql"
            },
            "outputs": [
                {
                    "output_type": "display_data",
                    "data": {
                        "text/html": "(10 rows affected)"
                    },
                    "metadata": {}
                },
                {
                    "output_type": "display_data",
                    "data": {
                        "text/html": "Total execution time: 00:00:00.033"
                    },
                    "metadata": {}
                },
                {
                    "output_type": "execute_result",
                    "metadata": {},
                    "execution_count": 140,
                    "data": {
                        "application/vnd.dataresource+json": {
                            "schema": {
                                "fields": [
                                    {
                                        "name": "CustomerID"
                                    },
                                    {
                                        "name": "TotalOrders"
                                    },
                                    {
                                        "name": "FirstOrder"
                                    },
                                    {
                                        "name": "LastOrder"
                                    },
                                    {
                                        "name": "DaysAsCustomer"
                                    }
                                ]
                            },
                            "data": [
                                {
                                    "CustomerID": "460",
                                    "TotalOrders": "30",
                                    "FirstOrder": "2016-01-01",
                                    "LastOrder": "2016-05-21",
                                    "DaysAsCustomer": "141"
                                },
                                {
                                    "CustomerID": "950",
                                    "TotalOrders": "28",
                                    "FirstOrder": "2016-01-04",
                                    "LastOrder": "2016-05-26",
                                    "DaysAsCustomer": "143"
                                },
                                {
                                    "CustomerID": "42",
                                    "TotalOrders": "27",
                                    "FirstOrder": "2016-01-07",
                                    "LastOrder": "2016-05-30",
                                    "DaysAsCustomer": "144"
                                },
                                {
                                    "CustomerID": "71",
                                    "TotalOrders": "27",
                                    "FirstOrder": "2016-01-01",
                                    "LastOrder": "2016-05-30",
                                    "DaysAsCustomer": "150"
                                },
                                {
                                    "CustomerID": "183",
                                    "TotalOrders": "27",
                                    "FirstOrder": "2016-01-04",
                                    "LastOrder": "2016-05-27",
                                    "DaysAsCustomer": "144"
                                },
                                {
                                    "CustomerID": "506",
                                    "TotalOrders": "27",
                                    "FirstOrder": "2016-01-04",
                                    "LastOrder": "2016-05-26",
                                    "DaysAsCustomer": "143"
                                },
                                {
                                    "CustomerID": "185",
                                    "TotalOrders": "26",
                                    "FirstOrder": "2016-01-07",
                                    "LastOrder": "2016-05-30",
                                    "DaysAsCustomer": "144"
                                },
                                {
                                    "CustomerID": "37",
                                    "TotalOrders": "26",
                                    "FirstOrder": "2016-01-04",
                                    "LastOrder": "2016-05-19",
                                    "DaysAsCustomer": "136"
                                },
                                {
                                    "CustomerID": "874",
                                    "TotalOrders": "25",
                                    "FirstOrder": "2016-01-08",
                                    "LastOrder": "2016-05-30",
                                    "DaysAsCustomer": "143"
                                },
                                {
                                    "CustomerID": "153",
                                    "TotalOrders": "25",
                                    "FirstOrder": "2016-01-05",
                                    "LastOrder": "2016-05-30",
                                    "DaysAsCustomer": "146"
                                }
                            ]
                        },
                        "text/html": [
                            "<table>",
                            "<tr><th>CustomerID</th><th>TotalOrders</th><th>FirstOrder</th><th>LastOrder</th><th>DaysAsCustomer</th></tr>",
                            "<tr><td>460</td><td>30</td><td>2016-01-01</td><td>2016-05-21</td><td>141</td></tr>",
                            "<tr><td>950</td><td>28</td><td>2016-01-04</td><td>2016-05-26</td><td>143</td></tr>",
                            "<tr><td>42</td><td>27</td><td>2016-01-07</td><td>2016-05-30</td><td>144</td></tr>",
                            "<tr><td>71</td><td>27</td><td>2016-01-01</td><td>2016-05-30</td><td>150</td></tr>",
                            "<tr><td>183</td><td>27</td><td>2016-01-04</td><td>2016-05-27</td><td>144</td></tr>",
                            "<tr><td>506</td><td>27</td><td>2016-01-04</td><td>2016-05-26</td><td>143</td></tr>",
                            "<tr><td>185</td><td>26</td><td>2016-01-07</td><td>2016-05-30</td><td>144</td></tr>",
                            "<tr><td>37</td><td>26</td><td>2016-01-04</td><td>2016-05-19</td><td>136</td></tr>",
                            "<tr><td>874</td><td>25</td><td>2016-01-08</td><td>2016-05-30</td><td>143</td></tr>",
                            "<tr><td>153</td><td>25</td><td>2016-01-05</td><td>2016-05-30</td><td>146</td></tr>",
                            "</table>"
                        ]
                    }
                }
            ],
            "execution_count": 140
        },
        {
            "cell_type": "markdown",
            "source": [
                "Task 2 (Query 2) - Get Full Details on suspicious customer"
            ],
            "metadata": {
                "azdata_cell_guid": "4cb0dbcd-b096-4788-ba08-b03422d0ed35"
            },
            "attachments": {}
        },
        {
            "cell_type": "code",
            "source": [
                "SELECT \r\n",
                "    CustomerID,\r\n",
                "    CustomerName,\r\n",
                "    CreditLimit,\r\n",
                "    AccountOpenedDate,\r\n",
                "    PaymentDays,\r\n",
                "    PhoneNumber,\r\n",
                "    DeliveryAddressLine1,\r\n",
                "    DeliveryAddressLine2,\r\n",
                "    PrimaryContactPersonID,\r\n",
                "    BuyingGroupID,\r\n",
                "    CustomerCategoryID\r\n",
                "FROM Sales.Customers\r\n",
                "WHERE CustomerID = 460 -- Found from previous Query"
            ],
            "metadata": {
                "azdata_cell_guid": "e7167de9-e1e6-452e-b747-bca8bc072327",
                "language": "sql"
            },
            "outputs": [
                {
                    "output_type": "display_data",
                    "data": {
                        "text/html": "(1 row affected)"
                    },
                    "metadata": {}
                },
                {
                    "output_type": "display_data",
                    "data": {
                        "text/html": "Total execution time: 00:00:00.020"
                    },
                    "metadata": {}
                },
                {
                    "output_type": "execute_result",
                    "metadata": {},
                    "execution_count": 142,
                    "data": {
                        "application/vnd.dataresource+json": {
                            "schema": {
                                "fields": [
                                    {
                                        "name": "CustomerID"
                                    },
                                    {
                                        "name": "CustomerName"
                                    },
                                    {
                                        "name": "CreditLimit"
                                    },
                                    {
                                        "name": "AccountOpenedDate"
                                    },
                                    {
                                        "name": "PaymentDays"
                                    },
                                    {
                                        "name": "PhoneNumber"
                                    },
                                    {
                                        "name": "DeliveryAddressLine1"
                                    },
                                    {
                                        "name": "DeliveryAddressLine2"
                                    },
                                    {
                                        "name": "PrimaryContactPersonID"
                                    },
                                    {
                                        "name": "BuyingGroupID"
                                    },
                                    {
                                        "name": "CustomerCategoryID"
                                    }
                                ]
                            },
                            "data": [
                                {
                                    "CustomerID": "460",
                                    "CustomerName": "Wingtip Toys (Mayhill, NM)",
                                    "CreditLimit": "NULL",
                                    "AccountOpenedDate": "2013-01-01",
                                    "PaymentDays": "7",
                                    "PhoneNumber": "(505) 555-0100",
                                    "DeliveryAddressLine1": "Suite 11",
                                    "DeliveryAddressLine2": "898 Kim Boulevard",
                                    "PrimaryContactPersonID": "2119",
                                    "BuyingGroupID": "2",
                                    "CustomerCategoryID": "3"
                                }
                            ]
                        },
                        "text/html": [
                            "<table>",
                            "<tr><th>CustomerID</th><th>CustomerName</th><th>CreditLimit</th><th>AccountOpenedDate</th><th>PaymentDays</th><th>PhoneNumber</th><th>DeliveryAddressLine1</th><th>DeliveryAddressLine2</th><th>PrimaryContactPersonID</th><th>BuyingGroupID</th><th>CustomerCategoryID</th></tr>",
                            "<tr><td>460</td><td>Wingtip Toys (Mayhill, NM)</td><td>NULL</td><td>2013-01-01</td><td>7</td><td>(505) 555-0100</td><td>Suite 11</td><td>898 Kim Boulevard</td><td>2119</td><td>2</td><td>3</td></tr>",
                            "</table>"
                        ]
                    }
                }
            ],
            "execution_count": 142
        },
        {
            "cell_type": "markdown",
            "source": [
                "Task 3 (Query 3) - Find the Suspicious Customer;s most frequently ordered"
            ],
            "metadata": {
                "azdata_cell_guid": "e9b998dd-93bf-416e-bddc-3b751deab2ba"
            },
            "attachments": {}
        },
        {
            "cell_type": "code",
            "source": [
                "SELECT TOP 15\r\n",
                "    ol.StockItemID,\r\n",
                "    COUNT(DISTINCT o.OrderID) AS TimesOrdered,\r\n",
                "    SUM(ol.Quantity) AS TotalQuantity,\r\n",
                "    AVG(ol.UnitPrice) AS AvgPrice,\r\n",
                "    SUM(ol.Quantity * ol.UnitPrice) AS TotalSpent\r\n",
                "FROM Sales.Orders o\r\n",
                "INNER JOIN Sales.OrderLines ol ON o.OrderID = ol.OrderID\r\n",
                "WHERE o.CustomerID = 460\r\n",
                "    AND YEAR(o.OrderDate) = 2016\r\n",
                "GROUP BY ol.StockItemID\r\n",
                "ORDER BY TotalQuantity DESC"
            ],
            "metadata": {
                "azdata_cell_guid": "546508b0-bdeb-4882-b319-fd57ce4e6258",
                "language": "sql"
            },
            "outputs": [
                {
                    "output_type": "display_data",
                    "data": {
                        "text/html": "(15 rows affected)"
                    },
                    "metadata": {}
                },
                {
                    "output_type": "display_data",
                    "data": {
                        "text/html": "Total execution time: 00:00:00.032"
                    },
                    "metadata": {}
                },
                {
                    "output_type": "execute_result",
                    "metadata": {},
                    "execution_count": 143,
                    "data": {
                        "application/vnd.dataresource+json": {
                            "schema": {
                                "fields": [
                                    {
                                        "name": "StockItemID"
                                    },
                                    {
                                        "name": "TimesOrdered"
                                    },
                                    {
                                        "name": "TotalQuantity"
                                    },
                                    {
                                        "name": "AvgPrice"
                                    },
                                    {
                                        "name": "TotalSpent"
                                    }
                                ]
                            },
                            "data": [
                                {
                                    "StockItemID": "187",
                                    "TimesOrdered": "1",
                                    "TotalQuantity": "250",
                                    "AvgPrice": "0.950000",
                                    "TotalSpent": "237.50"
                                },
                                {
                                    "StockItemID": "194",
                                    "TimesOrdered": "1",
                                    "TotalQuantity": "240",
                                    "AvgPrice": "4.100000",
                                    "TotalSpent": "984.00"
                                },
                                {
                                    "StockItemID": "180",
                                    "TimesOrdered": "1",
                                    "TotalQuantity": "200",
                                    "AvgPrice": "1.110000",
                                    "TotalSpent": "222.00"
                                },
                                {
                                    "StockItemID": "179",
                                    "TimesOrdered": "1",
                                    "TotalQuantity": "200",
                                    "AvgPrice": "1.050000",
                                    "TotalSpent": "210.00"
                                },
                                {
                                    "StockItemID": "178",
                                    "TimesOrdered": "1",
                                    "TotalQuantity": "200",
                                    "AvgPrice": "2.550000",
                                    "TotalSpent": "510.00"
                                },
                                {
                                    "StockItemID": "199",
                                    "TimesOrdered": "1",
                                    "TotalQuantity": "192",
                                    "AvgPrice": "3.700000",
                                    "TotalSpent": "710.40"
                                },
                                {
                                    "StockItemID": "193",
                                    "TimesOrdered": "1",
                                    "TotalQuantity": "168",
                                    "AvgPrice": "3.700000",
                                    "TotalSpent": "621.60"
                                },
                                {
                                    "StockItemID": "222",
                                    "TimesOrdered": "1",
                                    "TotalQuantity": "168",
                                    "AvgPrice": "8.550000",
                                    "TotalSpent": "1436.40"
                                },
                                {
                                    "StockItemID": "190",
                                    "TimesOrdered": "1",
                                    "TotalQuantity": "160",
                                    "AvgPrice": "3.500000",
                                    "TotalSpent": "560.00"
                                },
                                {
                                    "StockItemID": "224",
                                    "TimesOrdered": "1",
                                    "TotalQuantity": "144",
                                    "AvgPrice": "8.550000",
                                    "TotalSpent": "1231.20"
                                },
                                {
                                    "StockItemID": "202",
                                    "TimesOrdered": "1",
                                    "TotalQuantity": "144",
                                    "AvgPrice": "4.100000",
                                    "TotalSpent": "590.40"
                                },
                                {
                                    "StockItemID": "87",
                                    "TimesOrdered": "1",
                                    "TotalQuantity": "120",
                                    "AvgPrice": "18.000000",
                                    "TotalSpent": "2160.00"
                                },
                                {
                                    "StockItemID": "98",
                                    "TimesOrdered": "1",
                                    "TotalQuantity": "120",
                                    "AvgPrice": "18.000000",
                                    "TotalSpent": "2160.00"
                                },
                                {
                                    "StockItemID": "79",
                                    "TimesOrdered": "1",
                                    "TotalQuantity": "108",
                                    "AvgPrice": "18.000000",
                                    "TotalSpent": "1944.00"
                                },
                                {
                                    "StockItemID": "184",
                                    "TimesOrdered": "1",
                                    "TotalQuantity": "100",
                                    "AvgPrice": "3.500000",
                                    "TotalSpent": "350.00"
                                }
                            ]
                        },
                        "text/html": [
                            "<table>",
                            "<tr><th>StockItemID</th><th>TimesOrdered</th><th>TotalQuantity</th><th>AvgPrice</th><th>TotalSpent</th></tr>",
                            "<tr><td>187</td><td>1</td><td>250</td><td>0.950000</td><td>237.50</td></tr>",
                            "<tr><td>194</td><td>1</td><td>240</td><td>4.100000</td><td>984.00</td></tr>",
                            "<tr><td>180</td><td>1</td><td>200</td><td>1.110000</td><td>222.00</td></tr>",
                            "<tr><td>179</td><td>1</td><td>200</td><td>1.050000</td><td>210.00</td></tr>",
                            "<tr><td>178</td><td>1</td><td>200</td><td>2.550000</td><td>510.00</td></tr>",
                            "<tr><td>199</td><td>1</td><td>192</td><td>3.700000</td><td>710.40</td></tr>",
                            "<tr><td>193</td><td>1</td><td>168</td><td>3.700000</td><td>621.60</td></tr>",
                            "<tr><td>222</td><td>1</td><td>168</td><td>8.550000</td><td>1436.40</td></tr>",
                            "<tr><td>190</td><td>1</td><td>160</td><td>3.500000</td><td>560.00</td></tr>",
                            "<tr><td>224</td><td>1</td><td>144</td><td>8.550000</td><td>1231.20</td></tr>",
                            "<tr><td>202</td><td>1</td><td>144</td><td>4.100000</td><td>590.40</td></tr>",
                            "<tr><td>87</td><td>1</td><td>120</td><td>18.000000</td><td>2160.00</td></tr>",
                            "<tr><td>98</td><td>1</td><td>120</td><td>18.000000</td><td>2160.00</td></tr>",
                            "<tr><td>79</td><td>1</td><td>108</td><td>18.000000</td><td>1944.00</td></tr>",
                            "<tr><td>184</td><td>1</td><td>100</td><td>3.500000</td><td>350.00</td></tr>",
                            "</table>"
                        ]
                    }
                }
            ],
            "execution_count": 143
        },
        {
            "cell_type": "markdown",
            "source": [
                "Task 4 (Query 4) - Get Details on the most - ordered items"
            ],
            "metadata": {
                "azdata_cell_guid": "56ec37d5-bf83-4c22-83c4-db4a5db9db7e"
            },
            "attachments": {}
        },
        {
            "cell_type": "code",
            "source": [
                "SELECT \r\n",
                "    StockItemID,\r\n",
                "    StockItemName,\r\n",
                "    UnitPrice,\r\n",
                "    Brand,\r\n",
                "    Size,\r\n",
                "    TypicalWeightPerUnit,\r\n",
                "    IsChillerStock,\r\n",
                "    QuantityPerOuter,\r\n",
                "    RecommendedRetailPrice\r\n",
                "FROM Warehouse.StockItems\r\n",
                "WHERE StockItemID IN (187, 194, 180)  -- Replace with top 3 StockItemIDs from Query 3"
            ],
            "metadata": {
                "azdata_cell_guid": "222a0592-32b5-43d5-af69-a2bde049678c",
                "language": "sql"
            },
            "outputs": [
                {
                    "output_type": "display_data",
                    "data": {
                        "text/html": "(3 rows affected)"
                    },
                    "metadata": {}
                },
                {
                    "output_type": "display_data",
                    "data": {
                        "text/html": "Total execution time: 00:00:00.018"
                    },
                    "metadata": {}
                },
                {
                    "output_type": "execute_result",
                    "metadata": {},
                    "execution_count": 145,
                    "data": {
                        "application/vnd.dataresource+json": {
                            "schema": {
                                "fields": [
                                    {
                                        "name": "StockItemID"
                                    },
                                    {
                                        "name": "StockItemName"
                                    },
                                    {
                                        "name": "UnitPrice"
                                    },
                                    {
                                        "name": "Brand"
                                    },
                                    {
                                        "name": "Size"
                                    },
                                    {
                                        "name": "TypicalWeightPerUnit"
                                    },
                                    {
                                        "name": "IsChillerStock"
                                    },
                                    {
                                        "name": "QuantityPerOuter"
                                    },
                                    {
                                        "name": "RecommendedRetailPrice"
                                    }
                                ]
                            },
                            "data": [
                                {
                                    "StockItemID": "180",
                                    "StockItemName": "Shipping carton (Brown) 279x254x217mm",
                                    "UnitPrice": "1.11",
                                    "Brand": "NULL",
                                    "Size": "279x254x217mm",
                                    "TypicalWeightPerUnit": "0.300",
                                    "IsChillerStock": "0",
                                    "QuantityPerOuter": "25",
                                    "RecommendedRetailPrice": "1.66"
                                },
                                {
                                    "StockItemID": "187",
                                    "StockItemName": "Express post box 5kg (White) 350x280x130mm",
                                    "UnitPrice": "0.95",
                                    "Brand": "NULL",
                                    "Size": "350x280x130mm",
                                    "TypicalWeightPerUnit": "0.200",
                                    "IsChillerStock": "0",
                                    "QuantityPerOuter": "25",
                                    "RecommendedRetailPrice": "1.42"
                                },
                                {
                                    "StockItemID": "194",
                                    "StockItemName": "Black and orange glass with care despatch tape  48mmx100m",
                                    "UnitPrice": "4.10",
                                    "Brand": "NULL",
                                    "Size": "48mmx100m",
                                    "TypicalWeightPerUnit": "0.700",
                                    "IsChillerStock": "0",
                                    "QuantityPerOuter": "24",
                                    "RecommendedRetailPrice": "6.13"
                                }
                            ]
                        },
                        "text/html": [
                            "<table>",
                            "<tr><th>StockItemID</th><th>StockItemName</th><th>UnitPrice</th><th>Brand</th><th>Size</th><th>TypicalWeightPerUnit</th><th>IsChillerStock</th><th>QuantityPerOuter</th><th>RecommendedRetailPrice</th></tr>",
                            "<tr><td>180</td><td>Shipping carton (Brown) 279x254x217mm</td><td>1.11</td><td>NULL</td><td>279x254x217mm</td><td>0.300</td><td>0</td><td>25</td><td>1.66</td></tr>",
                            "<tr><td>187</td><td>Express post box 5kg (White) 350x280x130mm</td><td>0.95</td><td>NULL</td><td>350x280x130mm</td><td>0.200</td><td>0</td><td>25</td><td>1.42</td></tr>",
                            "<tr><td>194</td><td>Black and orange glass with care despatch tape  48mmx100m</td><td>4.10</td><td>NULL</td><td>48mmx100m</td><td>0.700</td><td>0</td><td>24</td><td>6.13</td></tr>",
                            "</table>"
                        ]
                    }
                }
            ],
            "execution_count": 145
        },
        {
            "cell_type": "markdown",
            "source": [
                "Task 5 (Query 5)- Calculate Total Invoiced Amount to see if they were actually paid for"
            ],
            "metadata": {
                "azdata_cell_guid": "7e300964-b1dc-4b1a-b72e-a2a476dea9a5"
            },
            "attachments": {}
        },
        {
            "cell_type": "code",
            "source": [
                "SELECT \r\n",
                "    i.CustomerID,\r\n",
                "    COUNT(DISTINCT i.InvoiceID) AS TotalInvoices,\r\n",
                "    SUM(il.ExtendedPrice) AS TotalInvoiced,\r\n",
                "    SUM(il.LineProfit) AS TotalProfit\r\n",
                "FROM Sales.Invoices i\r\n",
                "INNER JOIN Sales.InvoiceLines il ON i.InvoiceID = il.InvoiceID\r\n",
                "WHERE i.CustomerID = 460\r\n",
                "    AND YEAR(i.InvoiceDate) = 2016\r\n",
                "GROUP BY i.CustomerID"
            ],
            "metadata": {
                "language": "sql",
                "azdata_cell_guid": "f91deb44-7af4-48c0-b508-2e96dbe99cdf"
            },
            "outputs": [
                {
                    "output_type": "display_data",
                    "data": {
                        "text/html": "(1 row affected)"
                    },
                    "metadata": {}
                },
                {
                    "output_type": "display_data",
                    "data": {
                        "text/html": "Total execution time: 00:00:00.024"
                    },
                    "metadata": {}
                },
                {
                    "output_type": "execute_result",
                    "metadata": {},
                    "execution_count": 152,
                    "data": {
                        "application/vnd.dataresource+json": {
                            "schema": {
                                "fields": [
                                    {
                                        "name": "CustomerID"
                                    },
                                    {
                                        "name": "TotalInvoices"
                                    },
                                    {
                                        "name": "TotalInvoiced"
                                    },
                                    {
                                        "name": "TotalProfit"
                                    }
                                ]
                            },
                            "data": [
                                {
                                    "CustomerID": "460",
                                    "TotalInvoices": "27",
                                    "TotalInvoiced": "62651.74",
                                    "TotalProfit": "25958.50"
                                }
                            ]
                        },
                        "text/html": [
                            "<table>",
                            "<tr><th>CustomerID</th><th>TotalInvoices</th><th>TotalInvoiced</th><th>TotalProfit</th></tr>",
                            "<tr><td>460</td><td>27</td><td>62651.74</td><td>25958.50</td></tr>",
                            "</table>"
                        ]
                    }
                }
            ],
            "execution_count": 152
        },
        {
            "cell_type": "markdown",
            "source": [
                "# Mystery #7 - Detours of Deception\n",
                "\n",
                "### The Logistics Manager noticed something strange, certain delivery routes were taking twice as long as they should, fuel costs were skyrocketing, and customers were complaining about late arrivals. But the delivery confirmations showed everything was \"on time.\". It seems that somebody has been manipulating the records. Find out who's at the bottom of this"
            ],
            "metadata": {
                "azdata_cell_guid": "6847a759-2ce7-4e1b-bbd1-98016ce640be"
            },
            "attachments": {}
        },
        {
            "cell_type": "markdown",
            "source": [
                "Task 1 (Query 1) - Find all Delivery Methods and who's edited them"
            ],
            "metadata": {
                "azdata_cell_guid": "8be17e59-248c-42b5-b3b8-90e10647581d"
            },
            "attachments": {}
        },
        {
            "cell_type": "code",
            "source": [
                "SELECT \r\n",
                "    DeliveryMethodID,\r\n",
                "    DeliveryMethodName,\r\n",
                "    LastEditedBy,\r\n",
                "    ValidFrom,\r\n",
                "    ValidTo\r\n",
                "FROM Application.DeliveryMethods\r\n",
                "WHERE ValidTo > '2016-01-01'\r\n",
                "ORDER BY DeliveryMethodID"
            ],
            "metadata": {
                "azdata_cell_guid": "9e1a8faf-9230-46c1-be81-338bfc102fef",
                "language": "sql"
            },
            "outputs": [
                {
                    "output_type": "display_data",
                    "data": {
                        "text/html": "(10 rows affected)"
                    },
                    "metadata": {}
                },
                {
                    "output_type": "display_data",
                    "data": {
                        "text/html": "Total execution time: 00:00:00.004"
                    },
                    "metadata": {}
                },
                {
                    "output_type": "execute_result",
                    "metadata": {},
                    "execution_count": 165,
                    "data": {
                        "application/vnd.dataresource+json": {
                            "schema": {
                                "fields": [
                                    {
                                        "name": "DeliveryMethodID"
                                    },
                                    {
                                        "name": "DeliveryMethodName"
                                    },
                                    {
                                        "name": "LastEditedBy"
                                    },
                                    {
                                        "name": "ValidFrom"
                                    },
                                    {
                                        "name": "ValidTo"
                                    }
                                ]
                            },
                            "data": [
                                {
                                    "DeliveryMethodID": "1",
                                    "DeliveryMethodName": "Post",
                                    "LastEditedBy": "1",
                                    "ValidFrom": "2013-01-01 00:00:00.0000000",
                                    "ValidTo": "9999-12-31 23:59:59.9999999"
                                },
                                {
                                    "DeliveryMethodID": "2",
                                    "DeliveryMethodName": "Courier",
                                    "LastEditedBy": "1",
                                    "ValidFrom": "2013-01-01 00:00:00.0000000",
                                    "ValidTo": "9999-12-31 23:59:59.9999999"
                                },
                                {
                                    "DeliveryMethodID": "3",
                                    "DeliveryMethodName": "Delivery Van",
                                    "LastEditedBy": "1",
                                    "ValidFrom": "2013-01-01 00:00:00.0000000",
                                    "ValidTo": "9999-12-31 23:59:59.9999999"
                                },
                                {
                                    "DeliveryMethodID": "4",
                                    "DeliveryMethodName": "Customer Collect",
                                    "LastEditedBy": "1",
                                    "ValidFrom": "2013-01-01 00:00:00.0000000",
                                    "ValidTo": "9999-12-31 23:59:59.9999999"
                                },
                                {
                                    "DeliveryMethodID": "5",
                                    "DeliveryMethodName": "Chilled Van",
                                    "LastEditedBy": "16",
                                    "ValidFrom": "2015-01-01 16:00:00.0000000",
                                    "ValidTo": "9999-12-31 23:59:59.9999999"
                                },
                                {
                                    "DeliveryMethodID": "6",
                                    "DeliveryMethodName": "Customer Courier to Collect",
                                    "LastEditedBy": "1",
                                    "ValidFrom": "2013-01-01 00:00:00.0000000",
                                    "ValidTo": "9999-12-31 23:59:59.9999999"
                                },
                                {
                                    "DeliveryMethodID": "7",
                                    "DeliveryMethodName": "Road Freight",
                                    "LastEditedBy": "1",
                                    "ValidFrom": "2013-01-01 00:00:00.0000000",
                                    "ValidTo": "9999-12-31 23:59:59.9999999"
                                },
                                {
                                    "DeliveryMethodID": "8",
                                    "DeliveryMethodName": "Air Freight",
                                    "LastEditedBy": "1",
                                    "ValidFrom": "2013-01-01 00:00:00.0000000",
                                    "ValidTo": "9999-12-31 23:59:59.9999999"
                                },
                                {
                                    "DeliveryMethodID": "9",
                                    "DeliveryMethodName": "Refrigerated Road Freight",
                                    "LastEditedBy": "1",
                                    "ValidFrom": "2013-01-01 00:00:00.0000000",
                                    "ValidTo": "9999-12-31 23:59:59.9999999"
                                },
                                {
                                    "DeliveryMethodID": "10",
                                    "DeliveryMethodName": "Refrigerated Air Freight",
                                    "LastEditedBy": "1",
                                    "ValidFrom": "2013-01-01 00:00:00.0000000",
                                    "ValidTo": "9999-12-31 23:59:59.9999999"
                                }
                            ]
                        },
                        "text/html": [
                            "<table>",
                            "<tr><th>DeliveryMethodID</th><th>DeliveryMethodName</th><th>LastEditedBy</th><th>ValidFrom</th><th>ValidTo</th></tr>",
                            "<tr><td>1</td><td>Post</td><td>1</td><td>2013-01-01 00:00:00.0000000</td><td>9999-12-31 23:59:59.9999999</td></tr>",
                            "<tr><td>2</td><td>Courier</td><td>1</td><td>2013-01-01 00:00:00.0000000</td><td>9999-12-31 23:59:59.9999999</td></tr>",
                            "<tr><td>3</td><td>Delivery Van</td><td>1</td><td>2013-01-01 00:00:00.0000000</td><td>9999-12-31 23:59:59.9999999</td></tr>",
                            "<tr><td>4</td><td>Customer Collect</td><td>1</td><td>2013-01-01 00:00:00.0000000</td><td>9999-12-31 23:59:59.9999999</td></tr>",
                            "<tr><td>5</td><td>Chilled Van</td><td>16</td><td>2015-01-01 16:00:00.0000000</td><td>9999-12-31 23:59:59.9999999</td></tr>",
                            "<tr><td>6</td><td>Customer Courier to Collect</td><td>1</td><td>2013-01-01 00:00:00.0000000</td><td>9999-12-31 23:59:59.9999999</td></tr>",
                            "<tr><td>7</td><td>Road Freight</td><td>1</td><td>2013-01-01 00:00:00.0000000</td><td>9999-12-31 23:59:59.9999999</td></tr>",
                            "<tr><td>8</td><td>Air Freight</td><td>1</td><td>2013-01-01 00:00:00.0000000</td><td>9999-12-31 23:59:59.9999999</td></tr>",
                            "<tr><td>9</td><td>Refrigerated Road Freight</td><td>1</td><td>2013-01-01 00:00:00.0000000</td><td>9999-12-31 23:59:59.9999999</td></tr>",
                            "<tr><td>10</td><td>Refrigerated Air Freight</td><td>1</td><td>2013-01-01 00:00:00.0000000</td><td>9999-12-31 23:59:59.9999999</td></tr>",
                            "</table>"
                        ]
                    }
                }
            ],
            "execution_count": 165
        },
        {
            "cell_type": "markdown",
            "source": [
                "Task 2 (Query2) - Find the Customer with the most deliveries"
            ],
            "metadata": {
                "language": "sql",
                "azdata_cell_guid": "208b62c4-fcd3-40bb-a544-2332ad5b9f17"
            },
            "attachments": {}
        },
        {
            "cell_type": "code",
            "source": [
                "SELECT TOP 10\r\n",
                "    CustomerID,\r\n",
                "    COUNT(OrderID) AS TotalDeliveries,\r\n",
                "    MIN(OrderDate) AS FirstDelivery,\r\n",
                "    MAX(OrderDate) AS LastDelivery,\r\n",
                "    COUNT(DISTINCT DATEPART(MONTH, OrderDate)) AS MonthsActive,\r\n",
                "    COUNT(DISTINCT PickedByPersonID) AS DifferentPickers\r\n",
                "FROM Sales.Orders\r\n",
                "WHERE YEAR(OrderDate) = 2016\r\n",
                "    AND PickingCompletedWhen IS NOT NULL\r\n",
                "GROUP BY CustomerID\r\n",
                "ORDER BY TotalDeliveries DESC"
            ],
            "metadata": {
                "language": "sql",
                "azdata_cell_guid": "f09c6675-fe6e-4df6-90d3-5a35dc12b47f"
            },
            "outputs": [
                {
                    "output_type": "display_data",
                    "data": {
                        "text/html": "Warning: Null value is eliminated by an aggregate or other SET operation."
                    },
                    "metadata": {}
                },
                {
                    "output_type": "display_data",
                    "data": {
                        "text/html": "(10 rows affected)"
                    },
                    "metadata": {}
                },
                {
                    "output_type": "display_data",
                    "data": {
                        "text/html": "Total execution time: 00:00:00.059"
                    },
                    "metadata": {}
                },
                {
                    "output_type": "execute_result",
                    "metadata": {},
                    "execution_count": 160,
                    "data": {
                        "application/vnd.dataresource+json": {
                            "schema": {
                                "fields": [
                                    {
                                        "name": "CustomerID"
                                    },
                                    {
                                        "name": "TotalDeliveries"
                                    },
                                    {
                                        "name": "FirstDelivery"
                                    },
                                    {
                                        "name": "LastDelivery"
                                    },
                                    {
                                        "name": "MonthsActive"
                                    },
                                    {
                                        "name": "DifferentPickers"
                                    }
                                ]
                            },
                            "data": [
                                {
                                    "CustomerID": "460",
                                    "TotalDeliveries": "27",
                                    "FirstDelivery": "2016-01-01",
                                    "LastDelivery": "2016-05-21",
                                    "MonthsActive": "5",
                                    "DifferentPickers": "10"
                                },
                                {
                                    "CustomerID": "506",
                                    "TotalDeliveries": "26",
                                    "FirstDelivery": "2016-01-04",
                                    "LastDelivery": "2016-05-26",
                                    "MonthsActive": "5",
                                    "DifferentPickers": "10"
                                },
                                {
                                    "CustomerID": "42",
                                    "TotalDeliveries": "24",
                                    "FirstDelivery": "2016-01-07",
                                    "LastDelivery": "2016-05-30",
                                    "MonthsActive": "5",
                                    "DifferentPickers": "12"
                                },
                                {
                                    "CustomerID": "185",
                                    "TotalDeliveries": "24",
                                    "FirstDelivery": "2016-01-07",
                                    "LastDelivery": "2016-05-30",
                                    "MonthsActive": "5",
                                    "DifferentPickers": "11"
                                },
                                {
                                    "CustomerID": "950",
                                    "TotalDeliveries": "24",
                                    "FirstDelivery": "2016-01-04",
                                    "LastDelivery": "2016-05-26",
                                    "MonthsActive": "5",
                                    "DifferentPickers": "14"
                                },
                                {
                                    "CustomerID": "117",
                                    "TotalDeliveries": "24",
                                    "FirstDelivery": "2016-01-04",
                                    "LastDelivery": "2016-05-27",
                                    "MonthsActive": "5",
                                    "DifferentPickers": "13"
                                },
                                {
                                    "CustomerID": "183",
                                    "TotalDeliveries": "24",
                                    "FirstDelivery": "2016-01-04",
                                    "LastDelivery": "2016-05-27",
                                    "MonthsActive": "5",
                                    "DifferentPickers": "13"
                                },
                                {
                                    "CustomerID": "37",
                                    "TotalDeliveries": "24",
                                    "FirstDelivery": "2016-01-04",
                                    "LastDelivery": "2016-05-19",
                                    "MonthsActive": "5",
                                    "DifferentPickers": "13"
                                },
                                {
                                    "CustomerID": "71",
                                    "TotalDeliveries": "23",
                                    "FirstDelivery": "2016-01-01",
                                    "LastDelivery": "2016-05-30",
                                    "MonthsActive": "5",
                                    "DifferentPickers": "12"
                                },
                                {
                                    "CustomerID": "558",
                                    "TotalDeliveries": "23",
                                    "FirstDelivery": "2016-02-01",
                                    "LastDelivery": "2016-05-27",
                                    "MonthsActive": "4",
                                    "DifferentPickers": "13"
                                }
                            ]
                        },
                        "text/html": [
                            "<table>",
                            "<tr><th>CustomerID</th><th>TotalDeliveries</th><th>FirstDelivery</th><th>LastDelivery</th><th>MonthsActive</th><th>DifferentPickers</th></tr>",
                            "<tr><td>460</td><td>27</td><td>2016-01-01</td><td>2016-05-21</td><td>5</td><td>10</td></tr>",
                            "<tr><td>506</td><td>26</td><td>2016-01-04</td><td>2016-05-26</td><td>5</td><td>10</td></tr>",
                            "<tr><td>42</td><td>24</td><td>2016-01-07</td><td>2016-05-30</td><td>5</td><td>12</td></tr>",
                            "<tr><td>185</td><td>24</td><td>2016-01-07</td><td>2016-05-30</td><td>5</td><td>11</td></tr>",
                            "<tr><td>950</td><td>24</td><td>2016-01-04</td><td>2016-05-26</td><td>5</td><td>14</td></tr>",
                            "<tr><td>117</td><td>24</td><td>2016-01-04</td><td>2016-05-27</td><td>5</td><td>13</td></tr>",
                            "<tr><td>183</td><td>24</td><td>2016-01-04</td><td>2016-05-27</td><td>5</td><td>13</td></tr>",
                            "<tr><td>37</td><td>24</td><td>2016-01-04</td><td>2016-05-19</td><td>5</td><td>13</td></tr>",
                            "<tr><td>71</td><td>23</td><td>2016-01-01</td><td>2016-05-30</td><td>5</td><td>12</td></tr>",
                            "<tr><td>558</td><td>23</td><td>2016-02-01</td><td>2016-05-27</td><td>4</td><td>13</td></tr>",
                            "</table>"
                        ]
                    }
                }
            ],
            "execution_count": 160
        },
        {
            "cell_type": "markdown",
            "source": [
                "Task 3 (Query 3) - Check delivery details for the suspicious customer"
            ],
            "metadata": {
                "language": "sql",
                "azdata_cell_guid": "c2f258da-debe-4030-aed1-422fd91a34af"
            },
            "attachments": {}
        },
        {
            "cell_type": "code",
            "source": [
                "SELECT \r\n",
                "    CustomerID,\r\n",
                "    CustomerName,\r\n",
                "    DeliveryAddressLine1,\r\n",
                "    DeliveryAddressLine2,\r\n",
                "    DeliveryCityID,\r\n",
                "    DeliveryPostalCode,\r\n",
                "    PostalAddressLine1,\r\n",
                "    PostalAddressLine2,\r\n",
                "    PostalCityID,\r\n",
                "    PostalPostalCode,\r\n",
                "    PhoneNumber,\r\n",
                "    PrimaryContactPersonID\r\n",
                "FROM Sales.Customers\r\n",
                "WHERE CustomerID = 460 -- Uses CustomerID from Query 2"
            ],
            "metadata": {
                "language": "sql",
                "azdata_cell_guid": "791a3290-494a-4e41-abbc-30944c16a779"
            },
            "outputs": [
                {
                    "output_type": "display_data",
                    "data": {
                        "text/html": "(1 row affected)"
                    },
                    "metadata": {}
                },
                {
                    "output_type": "display_data",
                    "data": {
                        "text/html": "Total execution time: 00:00:00.011"
                    },
                    "metadata": {}
                },
                {
                    "output_type": "execute_result",
                    "metadata": {},
                    "execution_count": 163,
                    "data": {
                        "application/vnd.dataresource+json": {
                            "schema": {
                                "fields": [
                                    {
                                        "name": "CustomerID"
                                    },
                                    {
                                        "name": "CustomerName"
                                    },
                                    {
                                        "name": "DeliveryAddressLine1"
                                    },
                                    {
                                        "name": "DeliveryAddressLine2"
                                    },
                                    {
                                        "name": "DeliveryCityID"
                                    },
                                    {
                                        "name": "DeliveryPostalCode"
                                    },
                                    {
                                        "name": "PostalAddressLine1"
                                    },
                                    {
                                        "name": "PostalAddressLine2"
                                    },
                                    {
                                        "name": "PostalCityID"
                                    },
                                    {
                                        "name": "PostalPostalCode"
                                    },
                                    {
                                        "name": "PhoneNumber"
                                    },
                                    {
                                        "name": "PrimaryContactPersonID"
                                    }
                                ]
                            },
                            "data": [
                                {
                                    "CustomerID": "460",
                                    "CustomerName": "Wingtip Toys (Mayhill, NM)",
                                    "DeliveryAddressLine1": "Suite 11",
                                    "DeliveryAddressLine2": "898 Kim Boulevard",
                                    "DeliveryCityID": "21351",
                                    "DeliveryPostalCode": "90741",
                                    "PostalAddressLine1": "PO Box 2199",
                                    "PostalAddressLine2": "Pendyalaville",
                                    "PostalCityID": "21351",
                                    "PostalPostalCode": "90741",
                                    "PhoneNumber": "(505) 555-0100",
                                    "PrimaryContactPersonID": "2119"
                                }
                            ]
                        },
                        "text/html": [
                            "<table>",
                            "<tr><th>CustomerID</th><th>CustomerName</th><th>DeliveryAddressLine1</th><th>DeliveryAddressLine2</th><th>DeliveryCityID</th><th>DeliveryPostalCode</th><th>PostalAddressLine1</th><th>PostalAddressLine2</th><th>PostalCityID</th><th>PostalPostalCode</th><th>PhoneNumber</th><th>PrimaryContactPersonID</th></tr>",
                            "<tr><td>460</td><td>Wingtip Toys (Mayhill, NM)</td><td>Suite 11</td><td>898 Kim Boulevard</td><td>21351</td><td>90741</td><td>PO Box 2199</td><td>Pendyalaville</td><td>21351</td><td>90741</td><td>(505) 555-0100</td><td>2119</td></tr>",
                            "</table>"
                        ]
                    }
                }
            ],
            "execution_count": 163
        },
        {
            "cell_type": "markdown",
            "source": [
                "Task 4 (Query 4) - Get Location Details and Employee Connections"
            ],
            "metadata": {
                "language": "sql",
                "azdata_cell_guid": "8bff72e1-075c-4ff9-8c29-567d56eb46d3"
            },
            "attachments": {}
        },
        {
            "cell_type": "code",
            "source": [
                "SELECT \r\n",
                "    c.CityName AS DeliveryCity,\r\n",
                "    sp.StateProvinceName AS DeliveryState,\r\n",
                "    sp.StateProvinceCode,\r\n",
                "    c.LatestRecordedPopulation,\r\n",
                "    p.PersonID AS ContactPersonID,\r\n",
                "    p.FullName AS ContactName,\r\n",
                "    p.IsEmployee AS ContactIsEmployee,\r\n",
                "    p.PhoneNumber AS ContactPhone\r\n",
                "FROM Application.Cities c\r\n",
                "INNER JOIN Application.StateProvinces sp ON c.StateProvinceID = sp.StateProvinceID\r\n",
                "CROSS JOIN Application.People p\r\n",
                "WHERE c.CityID = 21351 -- Uses DeliveryCityID From Query 3\r\n",
                "    AND p.PersonID = 2119; -- Uses PrimaryContactPersonId From Query 3"
            ],
            "metadata": {
                "language": "sql",
                "azdata_cell_guid": "bbc3148f-f4d7-4501-b0f7-6f2774ab01d5",
                "tags": []
            },
            "outputs": [
                {
                    "output_type": "display_data",
                    "data": {
                        "text/html": "(1 row affected)"
                    },
                    "metadata": {}
                },
                {
                    "output_type": "display_data",
                    "data": {
                        "text/html": "Total execution time: 00:00:00.006"
                    },
                    "metadata": {}
                },
                {
                    "output_type": "execute_result",
                    "metadata": {},
                    "execution_count": 162,
                    "data": {
                        "application/vnd.dataresource+json": {
                            "schema": {
                                "fields": [
                                    {
                                        "name": "DeliveryCity"
                                    },
                                    {
                                        "name": "DeliveryState"
                                    },
                                    {
                                        "name": "StateProvinceCode"
                                    },
                                    {
                                        "name": "LatestRecordedPopulation"
                                    },
                                    {
                                        "name": "ContactPersonID"
                                    },
                                    {
                                        "name": "ContactName"
                                    },
                                    {
                                        "name": "ContactIsEmployee"
                                    },
                                    {
                                        "name": "ContactPhone"
                                    }
                                ]
                            },
                            "data": [
                                {
                                    "DeliveryCity": "Mayhill",
                                    "DeliveryState": "New Mexico",
                                    "StateProvinceCode": "NM",
                                    "LatestRecordedPopulation": "75",
                                    "ContactPersonID": "2119",
                                    "ContactName": "Daniela Dumina",
                                    "ContactIsEmployee": "0",
                                    "ContactPhone": "(505) 555-0100"
                                }
                            ]
                        },
                        "text/html": [
                            "<table>",
                            "<tr><th>DeliveryCity</th><th>DeliveryState</th><th>StateProvinceCode</th><th>LatestRecordedPopulation</th><th>ContactPersonID</th><th>ContactName</th><th>ContactIsEmployee</th><th>ContactPhone</th></tr>",
                            "<tr><td>Mayhill</td><td>New Mexico</td><td>NM</td><td>75</td><td>2119</td><td>Daniela Dumina</td><td>0</td><td>(505) 555-0100</td></tr>",
                            "</table>"
                        ]
                    }
                }
            ],
            "execution_count": 162
        },
        {
            "cell_type": "markdown",
            "source": [
                "Task 5 (Query 5) - Find out Who's the prime suspect"
            ],
            "metadata": {
                "language": "sql",
                "azdata_cell_guid": "66c24303-7b03-4cd5-9afa-5903acb92b04"
            },
            "attachments": {}
        },
        {
            "cell_type": "code",
            "source": [
                "SELECT \r\n",
                "    o.PickedByPersonID,\r\n",
                "    p.FullName AS PickerName,\r\n",
                "    p.IsEmployee AS PickerIsEmployee,\r\n",
                "    COUNT(o.OrderID) AS OrdersPicked,\r\n",
                "    MIN(o.PickingCompletedWhen) AS FirstPick,\r\n",
                "    MAX(o.PickingCompletedWhen) AS LastPick\r\n",
                "FROM Sales.Orders o\r\n",
                "INNER JOIN Application.People p ON o.PickedByPersonID = p.PersonID\r\n",
                "WHERE o.CustomerID = 460 -- Uses CustomerID From Previous Queries\r\n",
                "    AND o.PickedByPersonID IS NOT NULL\r\n",
                "    AND YEAR(o.OrderDate) = 2016\r\n",
                "GROUP BY o.PickedByPersonID, p.FullName, p.IsEmployee\r\n",
                "ORDER BY OrdersPicked DESC"
            ],
            "metadata": {
                "language": "sql",
                "azdata_cell_guid": "69a7b543-a073-4494-8d00-79a69a41e602",
                "tags": []
            },
            "outputs": [
                {
                    "output_type": "display_data",
                    "data": {
                        "text/html": "(10 rows affected)"
                    },
                    "metadata": {}
                },
                {
                    "output_type": "display_data",
                    "data": {
                        "text/html": "Total execution time: 00:00:00.011"
                    },
                    "metadata": {}
                },
                {
                    "output_type": "execute_result",
                    "metadata": {},
                    "execution_count": 164,
                    "data": {
                        "application/vnd.dataresource+json": {
                            "schema": {
                                "fields": [
                                    {
                                        "name": "PickedByPersonID"
                                    },
                                    {
                                        "name": "PickerName"
                                    },
                                    {
                                        "name": "PickerIsEmployee"
                                    },
                                    {
                                        "name": "OrdersPicked"
                                    },
                                    {
                                        "name": "FirstPick"
                                    },
                                    {
                                        "name": "LastPick"
                                    }
                                ]
                            },
                            "data": [
                                {
                                    "PickedByPersonID": "10",
                                    "PickerName": "Stella Rosenhain",
                                    "PickerIsEmployee": "1",
                                    "OrdersPicked": "5",
                                    "FirstPick": "2016-01-05 11:00:00.0000000",
                                    "LastPick": "2016-05-05 11:00:00.0000000"
                                },
                                {
                                    "PickedByPersonID": "11",
                                    "PickerName": "Ethan Onslow",
                                    "PickerIsEmployee": "1",
                                    "OrdersPicked": "5",
                                    "FirstPick": "2016-02-29 11:00:00.0000000",
                                    "LastPick": "2016-05-20 11:00:00.0000000"
                                },
                                {
                                    "PickedByPersonID": "4",
                                    "PickerName": "Isabella Rupp",
                                    "PickerIsEmployee": "1",
                                    "OrdersPicked": "3",
                                    "FirstPick": "2016-02-22 11:00:00.0000000",
                                    "LastPick": "2016-05-21 11:00:00.0000000"
                                },
                                {
                                    "PickedByPersonID": "7",
                                    "PickerName": "Amy Trefl",
                                    "PickerIsEmployee": "1",
                                    "OrdersPicked": "2",
                                    "FirstPick": "2016-01-27 11:00:00.0000000",
                                    "LastPick": "2016-03-02 11:00:00.0000000"
                                },
                                {
                                    "PickedByPersonID": "13",
                                    "PickerName": "Hudson Hollinworth",
                                    "PickerIsEmployee": "1",
                                    "OrdersPicked": "2",
                                    "FirstPick": "2016-02-17 11:00:00.0000000",
                                    "LastPick": "2016-03-15 11:00:00.0000000"
                                },
                                {
                                    "PickedByPersonID": "9",
                                    "PickerName": "Alica Fatnowna",
                                    "PickerIsEmployee": "1",
                                    "OrdersPicked": "2",
                                    "FirstPick": "2016-01-21 11:00:00.0000000",
                                    "LastPick": "2016-01-28 11:00:00.0000000"
                                },
                                {
                                    "PickedByPersonID": "3",
                                    "PickerName": "Hudson Onslow",
                                    "PickerIsEmployee": "1",
                                    "OrdersPicked": "1",
                                    "FirstPick": "2016-02-26 11:00:00.0000000",
                                    "LastPick": "2016-02-26 11:00:00.0000000"
                                },
                                {
                                    "PickedByPersonID": "15",
                                    "PickerName": "Taj Shand",
                                    "PickerIsEmployee": "1",
                                    "OrdersPicked": "1",
                                    "FirstPick": "2016-04-12 11:00:00.0000000",
                                    "LastPick": "2016-04-12 11:00:00.0000000"
                                },
                                {
                                    "PickedByPersonID": "8",
                                    "PickerName": "Anthony Grosse",
                                    "PickerIsEmployee": "1",
                                    "OrdersPicked": "1",
                                    "FirstPick": "2016-05-13 11:00:00.0000000",
                                    "LastPick": "2016-05-13 11:00:00.0000000"
                                },
                                {
                                    "PickedByPersonID": "5",
                                    "PickerName": "Eva Muirden",
                                    "PickerIsEmployee": "1",
                                    "OrdersPicked": "1",
                                    "FirstPick": "2016-02-08 11:00:00.0000000",
                                    "LastPick": "2016-02-08 11:00:00.0000000"
                                }
                            ]
                        },
                        "text/html": [
                            "<table>",
                            "<tr><th>PickedByPersonID</th><th>PickerName</th><th>PickerIsEmployee</th><th>OrdersPicked</th><th>FirstPick</th><th>LastPick</th></tr>",
                            "<tr><td>10</td><td>Stella Rosenhain</td><td>1</td><td>5</td><td>2016-01-05 11:00:00.0000000</td><td>2016-05-05 11:00:00.0000000</td></tr>",
                            "<tr><td>11</td><td>Ethan Onslow</td><td>1</td><td>5</td><td>2016-02-29 11:00:00.0000000</td><td>2016-05-20 11:00:00.0000000</td></tr>",
                            "<tr><td>4</td><td>Isabella Rupp</td><td>1</td><td>3</td><td>2016-02-22 11:00:00.0000000</td><td>2016-05-21 11:00:00.0000000</td></tr>",
                            "<tr><td>7</td><td>Amy Trefl</td><td>1</td><td>2</td><td>2016-01-27 11:00:00.0000000</td><td>2016-03-02 11:00:00.0000000</td></tr>",
                            "<tr><td>13</td><td>Hudson Hollinworth</td><td>1</td><td>2</td><td>2016-02-17 11:00:00.0000000</td><td>2016-03-15 11:00:00.0000000</td></tr>",
                            "<tr><td>9</td><td>Alica Fatnowna</td><td>1</td><td>2</td><td>2016-01-21 11:00:00.0000000</td><td>2016-01-28 11:00:00.0000000</td></tr>",
                            "<tr><td>3</td><td>Hudson Onslow</td><td>1</td><td>1</td><td>2016-02-26 11:00:00.0000000</td><td>2016-02-26 11:00:00.0000000</td></tr>",
                            "<tr><td>15</td><td>Taj Shand</td><td>1</td><td>1</td><td>2016-04-12 11:00:00.0000000</td><td>2016-04-12 11:00:00.0000000</td></tr>",
                            "<tr><td>8</td><td>Anthony Grosse</td><td>1</td><td>1</td><td>2016-05-13 11:00:00.0000000</td><td>2016-05-13 11:00:00.0000000</td></tr>",
                            "<tr><td>5</td><td>Eva Muirden</td><td>1</td><td>1</td><td>2016-02-08 11:00:00.0000000</td><td>2016-02-08 11:00:00.0000000</td></tr>",
                            "</table>"
                        ]
                    }
                }
            ],
            "execution_count": 164
        }
    ]
}
{
 "cells": [
  {
   "cell_type": "markdown",
   "id": "e09ec47e",
   "metadata": {},
   "source": [
    "# Individual Group 2 Project 1 — Mohammad Mustafa\n",
    "## SQL Noir: Case Files\n",
    "\n",
    "**Database:** `WideWorldImporters`\n",
    "\n"
   ]
  },
  {
   "cell_type": "code",
   "execution_count": null,
   "id": "bad2ef3a",
   "metadata": {},
   "outputs": [],
   "source": [
    "-- Database Setup and Connection Test\n",
    "USE WideWorldImporters;\n",
    "\n",
    "-- Test query to verify database connection and data availability\n",
    "SELECT TOP 5 \n",
    "    'Database Connection Test' AS TestType,\n",
    "    COUNT(*) AS TotalInvoices\n",
    "FROM Sales.Invoices;"
   ]
  },
  {
   "cell_type": "markdown",
   "id": "ec8d0fcf",
   "metadata": {},
   "source": [
    "## Case #001 — After-Hours Hand-Off\n",
    "**Logline:** A signature appears in the dead of night. The name doesn’t ring any bells."
   ]
  },
  {
   "cell_type": "markdown",
   "id": "57005f1b",
   "metadata": {},
   "source": [
    "### Task 1 — After-hours invoices (before 07:00 or after 21:00)"
   ]
  },
  {
   "cell_type": "code",
   "execution_count": null,
   "id": "9b9e51be",
   "metadata": {},
   "outputs": [],
   "source": [
    "-- Task 1: After-hours invoices (before 07:00 or after 21:00)\n",
    "SELECT TOP 10 \n",
    "    InvoiceID, \n",
    "    ConfirmedDeliveryTime,\n",
    "    DATEPART(HOUR, ConfirmedDeliveryTime) AS DeliveryHour\n",
    "FROM Sales.Invoices \n",
    "WHERE ConfirmedDeliveryTime IS NOT NULL\n",
    "ORDER BY ConfirmedDeliveryTime DESC;\n",
    "\n",
    "-- Main query for after-hours invoices\n",
    "SELECT \n",
    "    i.InvoiceID, \n",
    "    i.CustomerID, \n",
    "    i.OrderID, \n",
    "    i.DeliveryMethodID,\n",
    "    i.ConfirmedDeliveryTime, \n",
    "    i.ConfirmedReceivedBy,\n",
    "    DATEPART(HOUR, i.ConfirmedDeliveryTime) AS DeliveryHour\n",
    "FROM Sales.Invoices AS i\n",
    "WHERE i.ConfirmedDeliveryTime IS NOT NULL\n",
    "  AND DATEPART(HOUR, i.ConfirmedDeliveryTime) BETWEEN 7 AND 8\n",
    "ORDER BY i.ConfirmedDeliveryTime DESC;"
   ]
  },
  {
   "cell_type": "markdown",
   "id": "b19c8a74",
   "metadata": {},
   "source": [
    "### Task 2 — Unknown receivers (ConfirmedReceivedBy not in Application.People)"
   ]
  },
  {
   "cell_type": "code",
   "execution_count": null,
   "id": "d34df4cf",
   "metadata": {},
   "outputs": [],
   "source": [
    "-- Task 2: Unknown receivers (ConfirmedReceivedBy not in Application.People)\n",
    "SELECT TOP 10 \n",
    "    ConfirmedReceivedBy,\n",
    "    COUNT(*) AS InvoiceCount\n",
    "FROM Sales.Invoices \n",
    "WHERE ConfirmedReceivedBy IS NOT NULL\n",
    "GROUP BY ConfirmedReceivedBy\n",
    "ORDER BY InvoiceCount DESC;\n",
    "\n",
    "-- Check if any of these names exist in Application.People\n",
    "SELECT TOP 10 \n",
    "    FullName,\n",
    "    PersonID\n",
    "FROM Application.People\n",
    "WHERE FullName IS NOT NULL;\n",
    "\n",
    "-- Main query for unknown receivers\n",
    "SELECT TOP 20\n",
    "    i.InvoiceID, \n",
    "    i.ConfirmedReceivedBy,\n",
    "    p.PersonID,\n",
    "    CASE WHEN p.PersonID IS NULL THEN 'Unknown Receiver' ELSE 'Known Receiver' END AS ReceiverStatus,\n",
    "    i.ConfirmedDeliveryTime\n",
    "FROM Sales.Invoices AS i\n",
    "LEFT JOIN Application.People AS p\n",
    "  ON p.FullName = i.ConfirmedReceivedBy\n",
    "WHERE i.ConfirmedReceivedBy IS NOT NULL\n",
    "  AND p.PersonID IS NULL\n",
    "ORDER BY i.ConfirmedDeliveryTime DESC;"
   ]
  },
  {
   "cell_type": "markdown",
   "id": "7fb116ed",
   "metadata": {},
   "source": [
    "### Task 3 — ExpectedDeliveryDate per order for context"
   ]
  },
  {
   "cell_type": "code",
   "execution_count": null,
   "id": "aba2a4e1",
   "metadata": {},
   "outputs": [],
   "source": [
    "-- Task 3: ExpectedDeliveryDate per order for context\n",
    "-- MODIFIED: Since no after-hours deliveries exist, let's look at delivery timing patterns\n",
    "SELECT TOP 10 \n",
    "    i.InvoiceID, \n",
    "    o.ExpectedDeliveryDate, \n",
    "    i.ConfirmedDeliveryTime,\n",
    "    DATEDIFF(day, o.ExpectedDeliveryDate, CAST(i.ConfirmedDeliveryTime AS date)) AS DaysDifference\n",
    "FROM Sales.Invoices AS i\n",
    "JOIN Sales.Orders AS o ON o.OrderID = i.OrderID\n",
    "WHERE i.ConfirmedDeliveryTime IS NOT NULL\n",
    "ORDER BY i.ConfirmedDeliveryTime DESC;\n"
   ]
  },
  {
   "cell_type": "markdown",
   "id": "96f7b4c9",
   "metadata": {},
   "source": [
    "### Consolidated CTE"
   ]
  },
  {
   "cell_type": "code",
   "execution_count": null,
   "id": "ea9555c4",
   "metadata": {},
   "outputs": [],
   "source": "WITH task_1 AS (\n  SELECT i.InvoiceID, i.CustomerID, i.OrderID, i.DeliveryMethodID,\n         i.ConfirmedDeliveryTime, i.ConfirmedReceivedBy\n  FROM Sales.Invoices AS i\n  WHERE i.ConfirmedDeliveryTime IS NOT NULL\n    AND DATEPART(HOUR, i.ConfirmedDeliveryTime) BETWEEN 7 AND 8\n),\ntask_2 AS (\n  SELECT t1.InvoiceID\n  FROM task_1 AS t1\n  LEFT JOIN Application.People AS p\n    ON p.FullName = t1.ConfirmedReceivedBy\n  WHERE p.PersonID IS NULL\n),\ntask_3 AS (\n  SELECT o.OrderID, o.ExpectedDeliveryDate\n  FROM Sales.Orders AS o\n),\nSELECT t1.InvoiceID, c.CustomerName,\n       t1.ConfirmedDeliveryTime, t1.ConfirmedReceivedBy,\n       t3.ExpectedDeliveryDate,\n       t1.DeliveryMethodID AS ActualDeliveryMethodID,\n       CASE WHEN t2.InvoiceID IS NOT NULL THEN 1 ELSE 0 END AS ReceiverUnknown,\nFROM task_1 AS t1\nJOIN Sales.Customers AS c ON c.CustomerID = t1.CustomerID\nLEFT JOIN task_2 AS t2 ON t2.InvoiceID = t1.InvoiceID\nLEFT JOIN task_3 AS t3 ON t3.OrderID = t1.OrderID"
  },
  {
   "cell_type": "markdown",
   "id": "7d0748a9",
   "metadata": {},
   "source": [
    "## Case #002 — The Cut-Rate Conspiracy\n",
    "**Logline:** Someone is slipping prices beneath the deal floor—sometimes with no deal at all."
   ]
  },
  {
   "cell_type": "markdown",
   "id": "e9430381",
   "metadata": {},
   "source": [
    "### Task 1 — Build a line-level facts table (date, customer, item, price)"
   ]
  },
  {
   "cell_type": "code",
   "execution_count": null,
   "id": "c6d2645c",
   "metadata": {},
   "outputs": [],
   "source": [
    "-- Task 1: Build a line-level facts table (date, customer, item, price)\n",
    "-- First, let's check the structure and sample data\n",
    "SELECT TOP 5 \n",
    "    il.InvoiceLineID, \n",
    "    il.InvoiceID, \n",
    "    il.StockItemID, \n",
    "    il.UnitPrice,\n",
    "    il.Quantity\n",
    "FROM Sales.InvoiceLines AS il;\n",
    "\n",
    "-- Check invoice and customer data\n",
    "SELECT TOP 5 \n",
    "    i.InvoiceID, \n",
    "    i.InvoiceDate, \n",
    "    i.CustomerID,\n",
    "    c.CustomerCategoryID, \n",
    "    c.BuyingGroupID\n",
    "FROM Sales.Invoices AS i\n",
    "JOIN Sales.Customers AS c ON c.CustomerID = i.CustomerID;\n",
    "\n",
    "-- Main query: Build line-level facts table\n",
    "SELECT TOP 20\n",
    "    il.InvoiceLineID, \n",
    "    il.InvoiceID, \n",
    "    i.InvoiceDate, \n",
    "    i.CustomerID,\n",
    "    c.CustomerCategoryID, \n",
    "    c.BuyingGroupID,\n",
    "    il.StockItemID, \n",
    "    ISNULL(il.UnitPrice, 0) AS UnitPrice,\n",
    "    il.Quantity\n",
    "FROM Sales.InvoiceLines AS il\n",
    "JOIN Sales.Invoices     AS i ON i.InvoiceID = il.InvoiceID\n",
    "JOIN Sales.Customers    AS c ON c.CustomerID = i.CustomerID\n",
    "ORDER BY i.InvoiceDate DESC, il.InvoiceLineID;"
   ]
  },
  {
   "cell_type": "markdown",
   "id": "3f309318",
   "metadata": {},
   "source": [
    "### Task 2 — Applicable deals by date and audience"
   ]
  },
  {
   "cell_type": "code",
   "execution_count": null,
   "id": "ece40b08",
   "metadata": {},
   "outputs": [],
   "source": [
    "-- Task 2: Applicable deals by date and audience\n",
    "-- First, let's check what special deals exist\n",
    "SELECT TOP 10 \n",
    "    SpecialDealID, \n",
    "    StockItemID,\n",
    "    CustomerID, \n",
    "    BuyingGroupID, \n",
    "    CustomerCategoryID,\n",
    "    UnitPrice AS DealUnitPrice, \n",
    "    StartDate, \n",
    "    EndDate\n",
    "FROM Sales.SpecialDeals\n",
    "ORDER BY StartDate DESC;\n",
    "\n",
    "-- Check deal counts by type\n",
    "SELECT \n",
    "    CASE \n",
    "        WHEN CustomerID IS NOT NULL THEN 'Customer-Specific'\n",
    "        WHEN BuyingGroupID IS NOT NULL THEN 'Buying Group'\n",
    "        WHEN CustomerCategoryID IS NOT NULL THEN 'Category-Specific'\n",
    "        ELSE 'General'\n",
    "    END AS DealType,\n",
    "    COUNT(*) AS DealCount\n",
    "FROM Sales.SpecialDeals\n",
    "GROUP BY \n",
    "    CASE \n",
    "        WHEN CustomerID IS NOT NULL THEN 'Customer-Specific'\n",
    "        WHEN BuyingGroupID IS NOT NULL THEN 'Buying Group'\n",
    "        WHEN CustomerCategoryID IS NOT NULL THEN 'Category-Specific'\n",
    "        ELSE 'General'\n",
    "    END;\n",
    "\n",
    "-- Main query: All applicable deals\n",
    "SELECT \n",
    "    sd.SpecialDealID, \n",
    "    sd.StockItemID,\n",
    "    sd.CustomerID, \n",
    "    sd.BuyingGroupID, \n",
    "    sd.CustomerCategoryID,\n",
    "    sd.UnitPrice AS DealUnitPrice, \n",
    "    sd.StartDate, \n",
    "    sd.EndDate,\n",
    "    DATEDIFF(day, sd.StartDate, sd.EndDate) AS DealDurationDays\n",
    "FROM Sales.SpecialDeals AS sd\n",
    "ORDER BY sd.StartDate DESC;"
   ]
  },
  {
   "cell_type": "markdown",
   "id": "73c4b4a5",
   "metadata": {},
   "source": [
    "### Task 3 — Baseline price per item"
   ]
  },
  {
   "cell_type": "code",
   "execution_count": null,
   "id": "aa23a030",
   "metadata": {},
   "outputs": [],
   "source": [
    "-- Task 3: Baseline price per item\n",
    "-- First, let's check price distribution\n",
    "SELECT TOP 10 \n",
    "    StockItemID, \n",
    "    UnitPrice,\n",
    "    COUNT(*) AS PriceCount\n",
    "FROM Sales.InvoiceLines\n",
    "WHERE UnitPrice IS NOT NULL\n",
    "GROUP BY StockItemID, UnitPrice\n",
    "ORDER BY StockItemID, UnitPrice;\n",
    "\n",
    "-- Check items with NULL prices\n",
    "SELECT \n",
    "    COUNT(*) AS TotalLines,\n",
    "    COUNT(UnitPrice) AS LinesWithPrice,\n",
    "    COUNT(*) - COUNT(UnitPrice) AS LinesWithNullPrice\n",
    "FROM Sales.InvoiceLines;\n",
    "\n",
    "-- Main query: Baseline price per item\n",
    "SELECT \n",
    "    StockItemID, \n",
    "    COUNT(*) AS TotalSales,\n",
    "    AVG(ISNULL(UnitPrice,0)) AS AvgUnitPrice,\n",
    "    MIN(ISNULL(UnitPrice,0)) AS MinUnitPrice,\n",
    "    MAX(ISNULL(UnitPrice,0)) AS MaxUnitPrice,\n",
    "    STDEV(ISNULL(UnitPrice,0)) AS PriceStdDev\n",
    "FROM Sales.InvoiceLines\n",
    "GROUP BY StockItemID\n",
    "ORDER BY AvgUnitPrice DESC;"
   ]
  },
  {
   "cell_type": "markdown",
   "id": "2d347e09",
   "metadata": {},
   "source": [
    "### Task 4 — Flag lines below the lowest applicable deal or (no deal) below baseline"
   ]
  },
  {
   "cell_type": "code",
   "execution_count": null,
   "id": "116ff55d",
   "metadata": {},
   "outputs": [],
   "source": [
    "WITH fact AS (\n",
    "  SELECT il.InvoiceLineID, il.InvoiceID, i.InvoiceDate, i.CustomerID,\n",
    "         c.CustomerCategoryID, c.BuyingGroupID,\n",
    "         il.StockItemID, ISNULL(il.UnitPrice, 0) AS UnitPrice\n",
    "  FROM Sales.InvoiceLines AS il\n",
    "  JOIN Sales.Invoices     AS i ON i.InvoiceID = il.InvoiceID\n",
    "  JOIN Sales.Customers    AS c ON c.CustomerID = i.CustomerID\n",
    "),\n",
    "baseline AS (\n",
    "  SELECT StockItemID, AVG(ISNULL(UnitPrice,0)) AS AvgUnitPrice\n",
    "  FROM Sales.InvoiceLines GROUP BY StockItemID\n",
    ")\n",
    "SELECT f.*, MIN(ad.UnitPrice) AS MinDealPrice, b.AvgUnitPrice\n",
    "FROM fact AS f\n",
    "LEFT JOIN Sales.SpecialDeals AS ad\n",
    "  ON ad.StockItemID = f.StockItemID\n",
    " AND f.InvoiceDate BETWEEN ad.StartDate AND ad.EndDate\n",
    " AND (ad.CustomerID = f.CustomerID\n",
    "      OR ad.BuyingGroupID = f.BuyingGroupID\n",
    "      OR ad.CustomerCategoryID = f.CustomerCategoryID)\n",
    "LEFT JOIN baseline AS b ON b.StockItemID = f.StockItemID\n",
    "GROUP BY f.InvoiceLineID, f.InvoiceID, f.InvoiceDate, f.CustomerID, f.CustomerCategoryID, f.BuyingGroupID, f.StockItemID, f.UnitPrice, b.AvgUnitPrice\n",
    "HAVING (COUNT(ad.SpecialDealID) > 0 AND f.UnitPrice < MIN(ad.UnitPrice))\n",
    "    OR (COUNT(ad.SpecialDealID) = 0 AND f.UnitPrice < b.AvgUnitPrice);"
   ]
  },
  {
   "cell_type": "markdown",
   "id": "18a318da",
   "metadata": {},
   "source": [
    "### Consolidated CTE"
   ]
  },
  {
   "cell_type": "code",
   "execution_count": null,
   "id": "bc0a03ff",
   "metadata": {},
   "outputs": [],
   "source": [
    "WITH task_1 AS (\n",
    "  SELECT il.InvoiceLineID, il.InvoiceID, i.InvoiceDate, i.CustomerID,\n",
    "         c.CustomerCategoryID, c.BuyingGroupID,\n",
    "         il.StockItemID, ISNULL(il.UnitPrice, 0) AS UnitPrice\n",
    "  FROM Sales.InvoiceLines AS il\n",
    "  JOIN Sales.Invoices     AS i ON i.InvoiceID = il.InvoiceID\n",
    "  JOIN Sales.Customers    AS c ON c.CustomerID = i.CustomerID\n",
    "),\n",
    "task_2 AS (\n",
    "  SELECT sd.SpecialDealID, sd.StockItemID,\n",
    "         sd.CustomerID, sd.BuyingGroupID, sd.CustomerCategoryID,\n",
    "         sd.UnitPrice AS DealUnitPrice, sd.StartDate, sd.EndDate\n",
    "  FROM Sales.SpecialDeals AS sd\n",
    "),\n",
    "task_3 AS (\n",
    "  SELECT StockItemID, AVG(ISNULL(UnitPrice,0)) AS AvgUnitPrice\n",
    "  FROM Sales.InvoiceLines GROUP BY StockItemID\n",
    "),\n",
    "task_4 AS (\n",
    "  SELECT f.InvoiceLineID, f.InvoiceID, f.InvoiceDate, f.CustomerID, f.StockItemID, f.UnitPrice,\n",
    "         MIN(ad.DealUnitPrice) AS MinDealPrice,\n",
    "         b.AvgUnitPrice,\n",
    "         COUNT(ad.SpecialDealID) AS DealCount\n",
    "  FROM task_1 AS f\n",
    "  LEFT JOIN task_2 AS ad\n",
    "    ON ad.StockItemID = f.StockItemID\n",
    "   AND f.InvoiceDate BETWEEN ad.StartDate AND ad.EndDate\n",
    "   AND (ad.CustomerID = f.CustomerID\n",
    "        OR ad.BuyingGroupID = f.BuyingGroupID\n",
    "        OR ad.CustomerCategoryID = f.CustomerCategoryID)\n",
    "  LEFT JOIN task_3 AS b ON b.StockItemID = f.StockItemID\n",
    "  GROUP BY f.InvoiceLineID, f.InvoiceID, f.InvoiceDate, f.CustomerID, f.StockItemID, f.UnitPrice, b.AvgUnitPrice\n",
    ")\n",
    "SELECT t4.*, \n",
    "       CASE \n",
    "         WHEN DealCount > 0 AND UnitPrice < MinDealPrice THEN 'Below applicable deal'\n",
    "         WHEN DealCount = 0 AND UnitPrice < AvgUnitPrice THEN 'Discounted with no deal'\n",
    "       END AS RedFlag\n",
    "FROM task_4 AS t4\n",
    "WHERE (DealCount > 0 AND UnitPrice < MinDealPrice)\n",
    "   OR (DealCount = 0 AND UnitPrice < AvgUnitPrice)\n",
    "ORDER BY t4.InvoiceDate;"
   ]
  },
  {
   "cell_type": "markdown",
   "id": "6408659d",
   "metadata": {},
   "source": [
    "## Case #003 — The Empty-Crate Riddle\n",
    "**Logline:** Orders marked “complete.” Pallets still full. Who closed the books?"
   ]
  },
  {
   "cell_type": "markdown",
   "id": "6c44a81e",
   "metadata": {},
   "source": [
    "### Task 1 — Orders with PickingCompletedWhen NOT NULL"
   ]
  },
  {
   "cell_type": "code",
   "execution_count": null,
   "id": "c416c598",
   "metadata": {},
   "outputs": [],
   "source": [
    "-- Task 1: Orders with PickingCompletedWhen NOT NULL\n",
    "-- First, let's check the picking completion data\n",
    "SELECT TOP 10 \n",
    "    OrderID, \n",
    "    PickingCompletedWhen,\n",
    "    OrderDate,\n",
    "    ExpectedDeliveryDate\n",
    "FROM Sales.Orders\n",
    "WHERE PickingCompletedWhen IS NOT NULL\n",
    "ORDER BY PickingCompletedWhen DESC;\n",
    "\n",
    "-- Check total counts\n",
    "SELECT \n",
    "    COUNT(*) AS TotalOrders,\n",
    "    COUNT(PickingCompletedWhen) AS OrdersWithPickingCompleted,\n",
    "    COUNT(*) - COUNT(PickingCompletedWhen) AS OrdersWithoutPickingCompleted\n",
    "FROM Sales.Orders;\n",
    "\n",
    "-- Main query: Orders with PickingCompletedWhen NOT NULL\n",
    "SELECT TOP 20\n",
    "    OrderID, \n",
    "    PickingCompletedWhen,\n",
    "    OrderDate,\n",
    "    ExpectedDeliveryDate,\n",
    "    DATEDIFF(day, OrderDate, PickingCompletedWhen) AS DaysToComplete\n",
    "FROM Sales.Orders\n",
    "WHERE PickingCompletedWhen IS NOT NULL\n",
    "ORDER BY PickingCompletedWhen DESC;"
   ]
  },
  {
   "cell_type": "markdown",
   "id": "2602ec59",
   "metadata": {},
   "source": [
    "### Task 2 — Zero-picked lines from those orders"
   ]
  },
  {
   "cell_type": "code",
   "execution_count": null,
   "id": "1532eedc",
   "metadata": {},
   "outputs": [],
   "source": [
    "-- Task 2: Zero-picked lines from those orders\n",
    "-- First, let's check the picking quantities\n",
    "SELECT TOP 10 \n",
    "    ol.OrderID, \n",
    "    ol.OrderLineID, \n",
    "    ol.StockItemID, \n",
    "    ol.Quantity, \n",
    "    ol.PickedQuantity,\n",
    "    CASE \n",
    "        WHEN ol.PickedQuantity = 0 THEN 'Not Picked'\n",
    "        WHEN ol.PickedQuantity < ol.Quantity THEN 'Partially Picked'\n",
    "        WHEN ol.PickedQuantity = ol.Quantity THEN 'Fully Picked'\n",
    "        WHEN ol.PickedQuantity > ol.Quantity THEN 'Over Picked'\n",
    "    END AS PickingStatus\n",
    "FROM Sales.OrderLines AS ol\n",
    "ORDER BY ol.OrderID, ol.OrderLineID;\n",
    "\n",
    "-- Check picking statistics\n",
    "SELECT \n",
    "    COUNT(*) AS TotalOrderLines,\n",
    "    SUM(CASE WHEN PickedQuantity = 0 THEN 1 ELSE 0 END) AS ZeroPickedLines,\n",
    "    SUM(CASE WHEN PickedQuantity < Quantity THEN 1 ELSE 0 END) AS UnderPickedLines,\n",
    "    SUM(CASE WHEN PickedQuantity = Quantity THEN 1 ELSE 0 END) AS FullyPickedLines\n",
    "FROM Sales.OrderLines;\n",
    "\n",
    "-- Main query: Zero-picked lines from completed orders\n",
    "SELECT \n",
    "    o.OrderID, \n",
    "    o.PickingCompletedWhen,\n",
    "    ol.OrderLineID, \n",
    "    ol.StockItemID, \n",
    "    ol.Quantity, \n",
    "    ol.PickedQuantity,\n",
    "    ol.Quantity - ol.PickedQuantity AS UnpickedQuantity\n",
    "FROM Sales.Orders AS o\n",
    "JOIN Sales.OrderLines AS ol ON ol.OrderID = o.OrderID\n",
    "WHERE o.PickingCompletedWhen IS NOT NULL\n",
    "  AND ol.PickedQuantity = 0\n",
    "ORDER BY o.PickingCompletedWhen DESC, o.OrderID, ol.OrderLineID;"
   ]
  },
  {
   "cell_type": "markdown",
   "id": "d886a6c4",
   "metadata": {},
   "source": [
    "### Task 3 — Were these orders invoiced anyway?"
   ]
  },
  {
   "cell_type": "code",
   "execution_count": null,
   "id": "dbe2e062",
   "metadata": {},
   "outputs": [],
   "source": [
    "-- Task 3: Were these orders invoiced anyway?\n",
    "-- MODIFIED: Let's check if orders with zero-picked lines were still invoiced\n",
    "SELECT TOP 10\n",
    "    DISTINCT o.OrderID, \n",
    "    i.InvoiceID, \n",
    "    i.InvoiceDate,\n",
    "    o.PickingCompletedWhen,\n",
    "    COUNT(ol.OrderLineID) AS TotalLines,\n",
    "    SUM(CASE WHEN ol.PickedQuantity = 0 THEN 1 ELSE 0 END) AS ZeroPickLines\n",
    "FROM Sales.Orders AS o\n",
    "JOIN Sales.OrderLines AS ol ON ol.OrderID = o.OrderID\n",
    "LEFT JOIN Sales.Invoices AS i ON i.OrderID = o.OrderID\n",
    "WHERE o.PickingCompletedWhen IS NOT NULL\n",
    "  AND ol.PickedQuantity = 0\n",
    "GROUP BY o.OrderID, i.InvoiceID, i.InvoiceDate, o.PickingCompletedWhen\n",
    "ORDER BY o.PickingCompletedWhen DESC;\n"
   ]
  },
  {
   "cell_type": "markdown",
   "id": "008396e8",
   "metadata": {},
   "source": [
    "### Task 4 — Zero-pick tally per completed order"
   ]
  },
  {
   "cell_type": "code",
   "execution_count": null,
   "id": "6d5110b5",
   "metadata": {},
   "outputs": [],
   "source": [
    "-- Task 4: Zero-pick tally per completed order\n",
    "-- MODIFIED: Let's see the distribution of zero-pick lines across completed orders\n",
    "SELECT TOP 10\n",
    "    o.OrderID, \n",
    "    o.PickingCompletedWhen,\n",
    "    COUNT(ol.OrderLineID) AS TotalLines,\n",
    "    SUM(CASE WHEN ol.PickedQuantity = 0 THEN 1 ELSE 0 END) AS ZeroPickLines,\n",
    "    ROUND(CAST(SUM(CASE WHEN ol.PickedQuantity = 0 THEN 1 ELSE 0 END) AS FLOAT) / COUNT(ol.OrderLineID) * 100, 2) AS ZeroPickPercentage\n",
    "FROM Sales.Orders AS o\n",
    "JOIN Sales.OrderLines AS ol ON ol.OrderID = o.OrderID\n",
    "WHERE o.PickingCompletedWhen IS NOT NULL\n",
    "GROUP BY o.OrderID, o.PickingCompletedWhen\n",
    "HAVING SUM(CASE WHEN ol.PickedQuantity = 0 THEN 1 ELSE 0 END) > 0\n",
    "ORDER BY ZeroPickPercentage DESC, o.PickingCompletedWhen DESC;\n"
   ]
  },
  {
   "cell_type": "markdown",
   "id": "d8119682",
   "metadata": {},
   "source": [
    "### Consolidated CTE"
   ]
  },
  {
   "cell_type": "code",
   "execution_count": null,
   "id": "42b867cf",
   "metadata": {},
   "outputs": [],
   "source": [
    "WITH task_1 AS (\n",
    "  SELECT OrderID, PickingCompletedWhen\n",
    "  FROM Sales.Orders\n",
    "  WHERE PickingCompletedWhen IS NOT NULL\n",
    "),\n",
    "task_2 AS (\n",
    "  SELECT ol.OrderID, COUNT(*) AS ZeroPickLines\n",
    "  FROM Sales.OrderLines AS ol\n",
    "  JOIN task_1 AS p ON p.OrderID = ol.OrderID\n",
    "  WHERE ol.PickedQuantity = 0\n",
    "  GROUP BY ol.OrderID\n",
    "  HAVING COUNT(*) > 0\n",
    "),\n",
    "task_3 AS (\n",
    "  SELECT i.OrderID, MIN(i.InvoiceDate) AS FirstInvoiceDate\n",
    "  FROM Sales.Invoices AS i\n",
    "  GROUP BY i.OrderID\n",
    ")\n",
    "SELECT p.OrderID, p.PickingCompletedWhen, z.ZeroPickLines, t3.FirstInvoiceDate\n",
    "FROM task_1 AS p\n",
    "JOIN task_2 AS z  ON z.OrderID = p.OrderID\n",
    "LEFT JOIN task_3 AS t3 ON t3.OrderID = p.OrderID\n",
    "ORDER BY p.PickingCompletedWhen DESC;"
   ]
  },
  {
   "cell_type": "markdown",
   "id": "f8dafd6a",
   "metadata": {},
   "source": [
    "## Case #004 — The Warehouse Wraith\n",
    "**Logline:** Stock walks out without a paper trail. The cameras caught a shadow; the ledger caught nothing."
   ]
  },
  {
   "cell_type": "markdown",
   "id": "53b9d315",
   "metadata": {},
   "source": [
    "### Task 1 — Negative stock movements"
   ]
  },
  {
   "cell_type": "code",
   "execution_count": null,
   "id": "08e3171e",
   "metadata": {},
   "outputs": [],
   "source": [
    "-- Task 1: Negative stock movements\n",
    "-- First, let's check the stock transaction data\n",
    "SELECT TOP 10 \n",
    "    StockItemTransactionID, \n",
    "    StockItemID, \n",
    "    Quantity, \n",
    "    TransactionOccurredWhen,\n",
    "    TransactionTypeID,\n",
    "    InvoiceID,\n",
    "    PurchaseOrderID,\n",
    "    CustomerID,\n",
    "    SupplierID\n",
    "FROM Warehouse.StockItemTransactions\n",
    "ORDER BY TransactionOccurredWhen DESC;\n",
    "\n",
    "-- Check quantity distribution\n",
    "SELECT \n",
    "    CASE \n",
    "        WHEN Quantity < 0 THEN 'Negative'\n",
    "        WHEN Quantity = 0 THEN 'Zero'\n",
    "        WHEN Quantity > 0 THEN 'Positive'\n",
    "    END AS QuantityType,\n",
    "    COUNT(*) AS TransactionCount,\n",
    "    SUM(Quantity) AS TotalQuantity\n",
    "FROM Warehouse.StockItemTransactions\n",
    "GROUP BY \n",
    "    CASE \n",
    "        WHEN Quantity < 0 THEN 'Negative'\n",
    "        WHEN Quantity = 0 THEN 'Zero'\n",
    "        WHEN Quantity > 0 THEN 'Positive'\n",
    "    END;\n",
    "\n",
    "-- Main query: Negative stock movements\n",
    "SELECT TOP 20\n",
    "    StockItemTransactionID, \n",
    "    StockItemID, \n",
    "    Quantity, \n",
    "    TransactionOccurredWhen,\n",
    "    TransactionTypeID,\n",
    "    InvoiceID,\n",
    "    PurchaseOrderID,\n",
    "    CustomerID,\n",
    "    SupplierID\n",
    "FROM Warehouse.StockItemTransactions\n",
    "WHERE Quantity < 0\n",
    "ORDER BY TransactionOccurredWhen DESC;"
   ]
  },
  {
   "cell_type": "markdown",
   "id": "a79bd15f",
   "metadata": {},
   "source": [
    "### Task 2 — No linked paperwork (invoice/PO/customer/supplier all NULL)"
   ]
  },
  {
   "cell_type": "code",
   "execution_count": null,
   "id": "aac410bf",
   "metadata": {},
   "outputs": [],
   "source": [
    "-- Task 2: No linked paperwork (invoice/PO/customer/supplier all NULL)\n",
    "-- Check paperwork linkage statistics\n",
    "SELECT \n",
    "    COUNT(*) AS TotalNegativeTransactions,\n",
    "    COUNT(InvoiceID) AS WithInvoiceID,\n",
    "    COUNT(PurchaseOrderID) AS WithPurchaseOrderID,\n",
    "    COUNT(CustomerID) AS WithCustomerID,\n",
    "    COUNT(SupplierID) AS WithSupplierID,\n",
    "    COUNT(*) - COUNT(InvoiceID) - COUNT(PurchaseOrderID) - COUNT(CustomerID) - COUNT(SupplierID) AS WithNoPaperwork\n",
    "FROM Warehouse.StockItemTransactions\n",
    "WHERE Quantity < 0;\n",
    "\n",
    "-- Main query: Negative transactions with no linked paperwork\n",
    "SELECT \n",
    "    StockItemTransactionID,\n",
    "    StockItemID,\n",
    "    Quantity,\n",
    "    TransactionOccurredWhen,\n",
    "    TransactionTypeID,\n",
    "    'No Paperwork' AS IssueType\n",
    "FROM Warehouse.StockItemTransactions\n",
    "WHERE Quantity < 0\n",
    "  AND InvoiceID IS NULL\n",
    "  AND PurchaseOrderID IS NULL\n",
    "  AND CustomerID IS NULL\n",
    "  AND SupplierID IS NULL\n",
    "ORDER BY TransactionOccurredWhen DESC;"
   ]
  },
  {
   "cell_type": "markdown",
   "id": "398b4f96",
   "metadata": {},
   "source": [
    "### Task 3 — Decorate with item & transaction type names"
   ]
  },
  {
   "cell_type": "code",
   "execution_count": null,
   "id": "0cc42a5b",
   "metadata": {},
   "outputs": [],
   "source": [
    "SELECT sit.StockItemTransactionID, si.StockItemName, sit.TransactionOccurredWhen,\n",
    "       sit.Quantity, tt.TransactionTypeName\n",
    "FROM Warehouse.StockItemTransactions AS sit\n",
    "JOIN Warehouse.StockItems AS si ON si.StockItemID = sit.StockItemID\n",
    "LEFT JOIN Application.TransactionTypes AS tt ON tt.TransactionTypeID = sit.TransactionTypeID\n",
    "WHERE sit.Quantity < 0\n",
    "  AND sit.InvoiceID IS NULL\n",
    "  AND sit.PurchaseOrderID IS NULL\n",
    "  AND sit.CustomerID IS NULL\n",
    "  AND sit.SupplierID IS NULL;"
   ]
  },
  {
   "cell_type": "markdown",
   "id": "d33cd3c8",
   "metadata": {},
   "source": [
    "### Task 4 — Scoreboard: ghosts by item"
   ]
  },
  {
   "cell_type": "code",
   "execution_count": null,
   "id": "2fbcd6e6",
   "metadata": {},
   "outputs": [],
   "source": [
    "SELECT si.StockItemName, COUNT(*) AS GhostMoves, SUM(sit.Quantity) AS NetQty\n",
    "FROM Warehouse.StockItemTransactions AS sit\n",
    "JOIN Warehouse.StockItems AS si ON si.StockItemID = sit.StockItemID\n",
    "WHERE sit.Quantity < 0\n",
    "  AND sit.InvoiceID IS NULL AND sit.PurchaseOrderID IS NULL\n",
    "  AND sit.CustomerID IS NULL AND sit.SupplierID IS NULL\n",
    "GROUP BY si.StockItemName\n",
    "ORDER BY GhostMoves DESC;"
   ]
  },
  {
   "cell_type": "markdown",
   "id": "39092eff",
   "metadata": {},
   "source": [
    "### Consolidated CTE"
   ]
  },
  {
   "cell_type": "code",
   "execution_count": null,
   "id": "e40208c8",
   "metadata": {},
   "outputs": [],
   "source": [
    "WITH task_1 AS (\n",
    "  SELECT StockItemTransactionID, StockItemID, TransactionOccurredWhen,\n",
    "         TransactionTypeID, Quantity, InvoiceID, PurchaseOrderID, CustomerID, SupplierID\n",
    "  FROM Warehouse.StockItemTransactions\n",
    "  WHERE Quantity < 0\n",
    "),\n",
    "task_2 AS (\n",
    "  SELECT *\n",
    "  FROM task_1\n",
    "  WHERE InvoiceID IS NULL\n",
    "    AND PurchaseOrderID IS NULL\n",
    "    AND CustomerID IS NULL\n",
    "    AND SupplierID IS NULL\n",
    "),\n",
    "task_3 AS (\n",
    "  SELECT t2.StockItemTransactionID, si.StockItemName, t2.TransactionOccurredWhen,\n",
    "         t2.Quantity, tt.TransactionTypeName\n",
    "  FROM task_2 AS t2\n",
    "  JOIN Warehouse.StockItems AS si ON si.StockItemID = t2.StockItemID\n",
    "  LEFT JOIN Application.TransactionTypes AS tt ON tt.TransactionTypeID = t2.TransactionTypeID\n",
    ")\n",
    "SELECT *\n",
    "FROM task_3\n",
    "ORDER BY TransactionOccurredWhen DESC;"
   ]
  },
  {
   "cell_type": "markdown",
   "id": "4b94ec6a",
   "metadata": {},
   "source": [
    "## Case #005 — The Cold-Room Conspiracy\n",
    "**Logline:** The cooler coughs. The thermometer jumps. Trucks idle after dark."
   ]
  },
  {
   "cell_type": "markdown",
   "id": "315c6c6a",
   "metadata": {},
   "source": [
    "### Task 1 — Spike days in cold-room readings (MaxT > 6.0°C)"
   ]
  },
  {
   "cell_type": "code",
   "execution_count": null,
   "id": "da091059",
   "metadata": {},
   "outputs": [],
   "source": [
    "-- Task 1: Spike days in cold-room readings (MaxT > 6.0°C)\n",
    "-- First, let's check the cold room temperature data\n",
    "SELECT TOP 10 \n",
    "    RecordedWhen,\n",
    "    Temperature,\n",
    "    CAST(RecordedWhen AS date) AS RecordDate\n",
    "FROM Warehouse.ColdRoomTemperatures_Archive\n",
    "ORDER BY RecordedWhen DESC;\n",
    "\n",
    "-- Check temperature statistics\n",
    "SELECT \n",
    "    COUNT(*) AS TotalReadings,\n",
    "    MIN(Temperature) AS MinTemp,\n",
    "    MAX(Temperature) AS MaxTemp,\n",
    "    AVG(Temperature) AS AvgTemp,\n",
    "    COUNT(CASE WHEN Temperature > 6.0 THEN 1 END) AS ReadingsAbove6C\n",
    "FROM Warehouse.ColdRoomTemperatures_Archive;\n",
    "\n",
    "-- Main query: Spike days (MaxT > 6.0°C)\n",
    "SELECT TOP 20\n",
    "    CAST(RecordedWhen AS date) AS SpikeDate, \n",
    "    MAX(Temperature) AS MaxTemperature,\n",
    "    MIN(Temperature) AS MinTemperature,\n",
    "    AVG(Temperature) AS AvgTemperature,\n",
    "    COUNT(*) AS ReadingCount\n",
    "FROM Warehouse.ColdRoomTemperatures_Archive\n",
    "GROUP BY CAST(RecordedWhen AS date)\n",
    "HAVING MAX(Temperature) > 6.0\n",
    "ORDER BY SpikeDate DESC;"
   ]
  },
  {
   "cell_type": "markdown",
   "id": "58f0f5e4",
   "metadata": {},
   "source": [
    "### Task 2 — Chiller volume per day"
   ]
  },
  {
   "cell_type": "code",
   "execution_count": null,
   "id": "f417978d",
   "metadata": {},
   "outputs": [],
   "source": [
    "-- Task 2: Chiller volume per day\n",
    "-- First, let's check chiller items data\n",
    "SELECT TOP 10 \n",
    "    InvoiceID,\n",
    "    InvoiceDate,\n",
    "    TotalChillerItems,\n",
    "    TotalDryItems\n",
    "FROM Sales.Invoices\n",
    "WHERE TotalChillerItems > 0\n",
    "ORDER BY InvoiceDate DESC;\n",
    "\n",
    "-- Check chiller statistics\n",
    "SELECT \n",
    "    COUNT(*) AS TotalInvoices,\n",
    "    SUM(TotalChillerItems) AS TotalChillerItems,\n",
    "    AVG(TotalChillerItems) AS AvgChillerItemsPerInvoice,\n",
    "    COUNT(CASE WHEN TotalChillerItems > 0 THEN 1 END) AS InvoicesWithChillerItems\n",
    "FROM Sales.Invoices;\n",
    "\n",
    "-- Main query: Chiller volume per day\n",
    "SELECT \n",
    "    InvoiceDate AS ChillerDate, \n",
    "    COUNT(*) AS InvoiceCount,\n",
    "    SUM(TotalChillerItems) AS TotalChillerItems,\n",
    "    AVG(TotalChillerItems) AS AvgChillerItemsPerInvoice\n",
    "FROM Sales.Invoices\n",
    "GROUP BY InvoiceDate\n",
    "ORDER BY InvoiceDate DESC;"
   ]
  },
  {
   "cell_type": "markdown",
   "id": "9e1abb23",
   "metadata": {},
   "source": [
    "### Task 3 — After-hours deliveries per day"
   ]
  },
  {
   "cell_type": "code",
   "execution_count": null,
   "id": "de6dc0fd",
   "metadata": {},
   "outputs": [],
   "source": [
    "SELECT CAST(ConfirmedDeliveryTime AS date) AS D, COUNT(*) AS LateDrops\n",
    "FROM Sales.Invoices\n",
    "WHERE ConfirmedDeliveryTime IS NOT NULL\n",
    "  AND (DATEPART(HOUR, ConfirmedDeliveryTime) < 7\n",
    "    OR DATEPART(HOUR, ConfirmedDeliveryTime) > 21)\n",
    "GROUP BY CAST(ConfirmedDeliveryTime AS date);"
   ]
  },
  {
   "cell_type": "markdown",
   "id": "75f585a3",
   "metadata": {},
   "source": [
    "### Task 4 — Join spikes ↔ chiller volume ↔ late drops"
   ]
  },
  {
   "cell_type": "code",
   "execution_count": null,
   "id": "d8fcbd7a",
   "metadata": {},
   "outputs": [],
   "source": [
    "WITH spikes AS (\n",
    "  SELECT CAST(RecordedWhen AS date) AS D, MAX(Temperature) AS MaxT\n",
    "  FROM Warehouse.ColdRoomTemperatures_Archive\n",
    "  GROUP BY CAST(RecordedWhen AS date)\n",
    "  HAVING MAX(Temperature) > 6.0\n",
    ")\n",
    "SELECT s.D, s.MaxT, ISNULL(c.ChillerItems,0) AS ChillerItems, ISNULL(r.LateDrops,0) AS LateDrops\n",
    "FROM spikes AS s\n",
    "LEFT JOIN (\n",
    "  SELECT InvoiceDate AS D, SUM(TotalChillerItems) AS ChillerItems\n",
    "  FROM Sales.Invoices GROUP BY InvoiceDate\n",
    ") AS c ON c.D = s.D\n",
    "LEFT JOIN (\n",
    "  SELECT CAST(ConfirmedDeliveryTime AS date) AS D, COUNT(*) AS LateDrops\n",
    "  FROM Sales.Invoices\n",
    "  WHERE ConfirmedDeliveryTime IS NOT NULL\n",
    "    AND (DATEPART(HOUR, ConfirmedDeliveryTime) < 7 OR DATEPART(HOUR, ConfirmedDeliveryTime) > 21)\n",
    "  GROUP BY CAST(ConfirmedDeliveryTime AS date)\n",
    ") AS r ON r.D = s.D\n",
    "ORDER BY s.D;"
   ]
  },
  {
   "cell_type": "markdown",
   "id": "1e49a9ca",
   "metadata": {},
   "source": [
    "### Consolidated CTE"
   ]
  },
  {
   "cell_type": "code",
   "execution_count": null,
   "id": "31d9bc44",
   "metadata": {},
   "outputs": [],
   "source": [
    "WITH task_1 AS (\n",
    "  SELECT CAST(RecordedWhen AS date) AS D, MAX(Temperature) AS MaxT\n",
    "  FROM Warehouse.ColdRoomTemperatures_Archive\n",
    "  GROUP BY CAST(RecordedWhen AS date)\n",
    "  HAVING MAX(Temperature) > 6.0\n",
    "),\n",
    "task_2 AS (\n",
    "  SELECT InvoiceDate AS D, SUM(TotalChillerItems) AS ChillerItems\n",
    "  FROM Sales.Invoices GROUP BY InvoiceDate\n",
    "),\n",
    "task_3 AS (\n",
    "  SELECT CAST(ConfirmedDeliveryTime AS date) AS D, COUNT(*) AS LateDrops\n",
    "  FROM Sales.Invoices\n",
    "  WHERE ConfirmedDeliveryTime IS NOT NULL\n",
    "    AND (DATEPART(HOUR, ConfirmedDeliveryTime) < 7\n",
    "      OR DATEPART(HOUR, ConfirmedDeliveryTime) > 21)\n",
    "  GROUP BY CAST(ConfirmedDeliveryTime AS date)\n",
    ")\n",
    "SELECT s.D AS SpikeDate, s.MaxT, ISNULL(c.ChillerItems,0) AS ChillerItems, ISNULL(r.LateDrops,0) AS LateDeliveries\n",
    "FROM task_1 AS s\n",
    "LEFT JOIN task_2 AS c ON c.D = s.D\n",
    "LEFT JOIN task_3 AS r ON r.D = s.D\n",
    "ORDER BY s.D;"
   ]
  },
  {
   "cell_type": "markdown",
   "id": "9d1aee1b",
   "metadata": {},
   "source": [
    "## Case #006 — The Credit-Hold Caper\n",
    "**Logline:** Finance freezes the line. Sales thaw it out with a smile."
   ]
  },
  {
   "cell_type": "markdown",
   "id": "869cd9b6",
   "metadata": {},
   "source": [
    "### Task 1 — List customers on credit hold"
   ]
  },
  {
   "cell_type": "code",
   "execution_count": null,
   "id": "272f9cf0",
   "metadata": {},
   "outputs": [],
   "source": [
    "-- Task 1: List customers on credit hold\n",
    "SELECT \n",
    "    COUNT(*) AS TotalCustomers,\n",
    "    AVG(CreditLimit) AS AvgCreditLimit,\n",
    "    MAX(CreditLimit) AS MaxCreditLimit,\n",
    "    MIN(CreditLimit) AS MinCreditLimit\n",
    "FROM Sales.Customers\n",
    "WHERE CreditLimit IS NOT NULL;\n",
    "\n",
    "-- Check credit limit ranges\n",
    "SELECT \n",
    "    CASE \n",
    "        WHEN CreditLimit >= 100000 THEN 'Very High (100K+)'\n",
    "        WHEN CreditLimit >= 50000 THEN 'High (50K-100K)'\n",
    "        WHEN CreditLimit >= 10000 THEN 'Medium (10K-50K)'\n",
    "        WHEN CreditLimit >= 1000 THEN 'Low (1K-10K)'\n",
    "        ELSE 'Very Low (<1K)'\n",
    "    END AS CreditRange,\n",
    "    COUNT(*) AS CustomerCount\n",
    "FROM Sales.Customers\n",
    "WHERE CreditLimit IS NOT NULL\n",
    "GROUP BY \n",
    "    CASE \n",
    "        WHEN CreditLimit >= 100000 THEN 'Very High (100K+)'\n",
    "        WHEN CreditLimit >= 50000 THEN 'High (50K-100K)'\n",
    "        WHEN CreditLimit >= 10000 THEN 'Medium (10K-50K)'\n",
    "        WHEN CreditLimit >= 1000 THEN 'Low (1K-10K)'\n",
    "        ELSE 'Very Low (<1K)'\n",
    "    END\n",
    "ORDER BY CustomerCount DESC;\n",
    "\n",
    "-- Main query: Customers with highest credit limits\n",
    "SELECT TOP 20\n",
    "    CustomerID, \n",
    "    CustomerName,\n",
    "    IsOnCreditHold,\n",
    "    CreditLimit,\n",
    "    AccountOpenedDate\n",
    "FROM Sales.Customers\n",
    "WHERE CreditLimit IS NOT NULL\n",
    "ORDER BY CreditLimit DESC;"
   ]
  },
  {
   "cell_type": "markdown",
   "id": "f6868248",
   "metadata": {},
   "source": [
    "### Task 2 — Pull their invoices"
   ]
  },
  {
   "cell_type": "code",
   "execution_count": null,
   "id": "576eb68e",
   "metadata": {},
   "outputs": [],
   "source": [
    "-- Task 2: Pull their invoices\n",
    "SELECT \n",
    "    COUNT(*) AS TotalInvoicesForHighCreditCustomers\n",
    "FROM Sales.Invoices AS i\n",
    "JOIN Sales.Customers AS c ON c.CustomerID = i.CustomerID\n",
    "WHERE c.CreditLimit >= 50000;\n",
    "\n",
    "-- Main query: Invoices for customers with highest credit limits\n",
    "SELECT TOP 20\n",
    "    i.InvoiceID, \n",
    "    i.InvoiceDate, \n",
    "    i.CustomerID,\n",
    "    c.CustomerName,\n",
    "    c.CreditLimit,\n",
    "    c.IsOnCreditHold\n",
    "FROM Sales.Invoices AS i\n",
    "JOIN Sales.Customers AS c ON c.CustomerID = i.CustomerID\n",
    "WHERE c.CreditLimit >= 50000\n",
    "ORDER BY c.CreditLimit DESC, i.InvoiceDate DESC;"
   ]
  },
  {
   "cell_type": "markdown",
   "id": "e33d3614",
   "metadata": {},
   "source": [
    "### Task 3 — Compute invoice amounts from lines"
   ]
  },
  {
   "cell_type": "code",
   "execution_count": null,
   "id": "73bb7d59",
   "metadata": {},
   "outputs": [],
   "source": [
    "-- Task 3: Compute invoice amounts from lines\n",
    "-- First, let's check invoice line data\n",
    "SELECT TOP 10 \n",
    "    il.InvoiceID,\n",
    "    il.Quantity,\n",
    "    il.UnitPrice,\n",
    "    il.Quantity * ISNULL(il.UnitPrice,0) AS LineAmount\n",
    "FROM Sales.InvoiceLines AS il\n",
    "ORDER BY il.InvoiceID;\n",
    "\n",
    "-- Check amount statistics\n",
    "SELECT \n",
    "    COUNT(*) AS TotalInvoiceLines,\n",
    "    SUM(il.Quantity * ISNULL(il.UnitPrice,0)) AS TotalAmount,\n",
    "    AVG(il.Quantity * ISNULL(il.UnitPrice,0)) AS AvgLineAmount,\n",
    "    MIN(il.Quantity * ISNULL(il.UnitPrice,0)) AS MinLineAmount,\n",
    "    MAX(il.Quantity * ISNULL(il.UnitPrice,0)) AS MaxLineAmount\n",
    "FROM Sales.InvoiceLines AS il;\n",
    "\n",
    "-- Main query: Invoice amounts from lines\n",
    "SELECT \n",
    "    il.InvoiceID, \n",
    "    COUNT(*) AS LineCount,\n",
    "    SUM(il.Quantity * ISNULL(il.UnitPrice,0)) AS TotalAmount,\n",
    "    AVG(il.Quantity * ISNULL(il.UnitPrice,0)) AS AvgLineAmount\n",
    "FROM Sales.InvoiceLines AS il\n",
    "GROUP BY il.InvoiceID\n",
    "ORDER BY TotalAmount DESC;"
   ]
  },
  {
   "cell_type": "markdown",
   "id": "c27ef5e5",
   "metadata": {},
   "source": [
    "### Task 4 — Sort by most recent and largest"
   ]
  },
  {
   "cell_type": "code",
   "execution_count": null,
   "id": "30ded4d7",
   "metadata": {},
   "outputs": [],
   "source": [
    "-- Task 4: Sort by most recent and largest\n",
    "WITH amt AS (\n",
    "  SELECT il.InvoiceID, SUM(il.Quantity * ISNULL(il.UnitPrice,0)) AS Amount\n",
    "  FROM Sales.InvoiceLines AS il GROUP BY il.InvoiceID\n",
    ")\n",
    "SELECT TOP 20\n",
    "    i.InvoiceID, \n",
    "    i.InvoiceDate, \n",
    "    c.CustomerName, \n",
    "    c.CreditLimit,\n",
    "    a.Amount\n",
    "FROM Sales.Invoices AS i\n",
    "JOIN Sales.Customers AS c ON c.CustomerID = i.CustomerID\n",
    "JOIN amt AS a ON a.InvoiceID = i.InvoiceID\n",
    "WHERE c.CreditLimit >= 50000\n",
    "ORDER BY c.CreditLimit DESC, i.InvoiceDate DESC, a.Amount DESC;"
   ]
  },
  {
   "cell_type": "markdown",
   "id": "f65958c7",
   "metadata": {},
   "source": [
    "### Consolidated CTE"
   ]
  },
  {
   "cell_type": "code",
   "execution_count": null,
   "id": "3b1d1eb8",
   "metadata": {},
   "outputs": [],
   "source": [
    "WITH task_1 AS (\n",
    "  SELECT CustomerID, CustomerName, CreditLimit FROM Sales.Customers \n",
    "  WHERE CreditLimit >= 50000\n",
    "),\n",
    "task_2 AS (\n",
    "  SELECT i.InvoiceID, i.InvoiceDate, i.CustomerID\n",
    "  FROM Sales.Invoices AS i\n",
    "  JOIN task_1 AS oh ON oh.CustomerID = i.CustomerID\n",
    "),\n",
    "task_3 AS (\n",
    "  SELECT il.InvoiceID, SUM(il.Quantity * ISNULL(il.UnitPrice,0)) AS Amount\n",
    "  FROM Sales.InvoiceLines AS il\n",
    "  GROUP BY il.InvoiceID\n",
    ")\n",
    "SELECT TOP 20\n",
    "    t2.InvoiceID, \n",
    "    t2.InvoiceDate, \n",
    "    oh.CustomerName, \n",
    "    oh.CreditLimit, \n",
    "    a.Amount\n",
    "FROM task_2 AS t2\n",
    "JOIN task_1 AS oh ON oh.CustomerID = t2.CustomerID\n",
    "JOIN task_3 AS a  ON a.InvoiceID   = t2.InvoiceID\n",
    "ORDER BY oh.CreditLimit DESC, t2.InvoiceDate DESC;"
   ]
  },
  {
   "cell_type": "markdown",
   "id": "4c0c2a23",
   "metadata": {},
   "source": [
    "## Case #007 — The Banking Switcheroo\n",
    "**Logline:** A supplier’s bank digits dance, and a fat wire follows the beat."
   ]
  },
  {
   "cell_type": "markdown",
   "id": "dd45cee4",
   "metadata": {},
   "source": [
    "### Task 1 — Treat ValidFrom as the supplier change moment"
   ]
  },
  {
   "cell_type": "code",
   "execution_count": null,
   "id": "153e05a9",
   "metadata": {},
   "outputs": [],
   "source": [
    "-- Task 1: Treat ValidFrom as the supplier change moment\n",
    "-- First, let's check supplier data\n",
    "SELECT TOP 10 \n",
    "    SupplierID, \n",
    "    SupplierName, \n",
    "    ValidFrom,\n",
    "    ValidTo,\n",
    "    CAST(ValidFrom AS date) AS ChangeDate\n",
    "FROM Purchasing.Suppliers\n",
    "ORDER BY ValidFrom DESC;\n",
    "\n",
    "-- Check supplier change statistics\n",
    "SELECT \n",
    "    COUNT(*) AS TotalSuppliers,\n",
    "    COUNT(ValidFrom) AS SuppliersWithValidFrom,\n",
    "    MIN(ValidFrom) AS EarliestChange,\n",
    "    MAX(ValidFrom) AS LatestChange\n",
    "FROM Purchasing.Suppliers;\n",
    "\n",
    "-- Main query: Supplier change moments\n",
    "SELECT TOP 20\n",
    "    SupplierID, \n",
    "    SupplierName, \n",
    "    ValidFrom,\n",
    "    CAST(ValidFrom AS date) AS ChangeDate,\n",
    "    ValidTo,\n",
    "    CAST(ValidTo AS date) AS ValidToDate\n",
    "FROM Purchasing.Suppliers\n",
    "ORDER BY ValidFrom DESC;"
   ]
  },
  {
   "cell_type": "markdown",
   "id": "2d2c9328",
   "metadata": {},
   "source": [
    "### Task 2 — List supplier transactions with type names"
   ]
  },
  {
   "cell_type": "code",
   "execution_count": null,
   "id": "5f728f01",
   "metadata": {},
   "outputs": [],
   "source": [
    "-- Task 2: List supplier transactions with type names\n",
    "-- First, let's check transaction types\n",
    "SELECT \n",
    "    TransactionTypeID,\n",
    "    TransactionTypeName,\n",
    "    COUNT(*) AS UsageCount\n",
    "FROM Application.TransactionTypes\n",
    "GROUP BY TransactionTypeID, TransactionTypeName\n",
    "ORDER BY TransactionTypeID;\n",
    "\n",
    "-- Check supplier transaction statistics\n",
    "SELECT \n",
    "    COUNT(*) AS TotalSupplierTransactions,\n",
    "    COUNT(TransactionTypeID) AS TransactionsWithType,\n",
    "    SUM(TransactionAmount) AS TotalAmount,\n",
    "    AVG(TransactionAmount) AS AvgAmount,\n",
    "    MIN(TransactionAmount) AS MinAmount,\n",
    "    MAX(TransactionAmount) AS MaxAmount\n",
    "FROM Purchasing.SupplierTransactions;\n",
    "\n",
    "-- Main query: Supplier transactions with type names\n",
    "SELECT \n",
    "    st.SupplierTransactionID, \n",
    "    st.SupplierID, \n",
    "    st.TransactionDate, \n",
    "    st.TransactionAmount,\n",
    "    st.TransactionTypeID,\n",
    "    tt.TransactionTypeName,\n",
    "    CASE \n",
    "        WHEN st.TransactionAmount >= 10000 THEN 'High Value'\n",
    "        WHEN st.TransactionAmount >= 1000 THEN 'Medium Value'\n",
    "        ELSE 'Low Value'\n",
    "    END AS ValueCategory\n",
    "FROM Purchasing.SupplierTransactions AS st\n",
    "LEFT JOIN Application.TransactionTypes AS tt\n",
    "  ON tt.TransactionTypeID = st.TransactionTypeID\n",
    "ORDER BY st.TransactionDate DESC, st.TransactionAmount DESC;"
   ]
  },
  {
   "cell_type": "markdown",
   "id": "3b985b71",
   "metadata": {},
   "source": [
    "### Task 3 — Same-day payments above a threshold"
   ]
  },
  {
   "cell_type": "code",
   "execution_count": null,
   "id": "2faa18be",
   "metadata": {},
   "outputs": [],
   "source": [
    "WITH changes AS (\n",
    "  SELECT SupplierID, SupplierName, CAST(ValidFrom AS date) AS ChangeDate\n",
    "  FROM Purchasing.Suppliers\n",
    ")\n",
    "SELECT ch.SupplierID, ch.SupplierName, ch.ChangeDate, st.SupplierTransactionID,\n",
    "       st.TransactionDate, st.TransactionAmount\n",
    "FROM changes AS ch\n",
    "JOIN Purchasing.SupplierTransactions AS st\n",
    "  ON st.SupplierID = ch.SupplierID\n",
    " AND st.TransactionDate = ch.ChangeDate\n",
    "WHERE st.TransactionAmount >= 10000.00;"
   ]
  },
  {
   "cell_type": "markdown",
   "id": "bb52422b",
   "metadata": {},
   "source": [
    "### Task 4 — Restrict to payment-like transaction types"
   ]
  },
  {
   "cell_type": "code",
   "execution_count": null,
   "id": "cc54ee8a",
   "metadata": {},
   "outputs": [],
   "source": [
    "WITH changes AS (\n",
    "  SELECT SupplierID, CAST(ValidFrom AS date) AS ChangeDate\n",
    "  FROM Purchasing.Suppliers\n",
    ")\n",
    "SELECT ch.SupplierID, st.SupplierTransactionID, st.TransactionDate, st.TransactionAmount, tt.TransactionTypeName\n",
    "FROM changes AS ch\n",
    "JOIN Purchasing.SupplierTransactions AS st\n",
    "  ON st.SupplierID = ch.SupplierID AND st.TransactionDate = ch.ChangeDate\n",
    "LEFT JOIN Application.TransactionTypes AS tt ON tt.TransactionTypeID = st.TransactionTypeID\n",
    "WHERE st.TransactionAmount >= 10000.00\n",
    "  AND (tt.TransactionTypeName LIKE '%Payment%' OR tt.TransactionTypeName LIKE '%Receipt%');"
   ]
  },
  {
   "cell_type": "markdown",
   "id": "c85bb204",
   "metadata": {},
   "source": [
    "### Consolidated CTE"
   ]
  },
  {
   "cell_type": "code",
   "execution_count": null,
   "id": "e9cf7f20",
   "metadata": {},
   "outputs": [],
   "source": [
    "WITH task_1 AS (\n",
    "  SELECT SupplierID, SupplierName, CAST(ValidFrom AS date) AS ChangeDate\n",
    "  FROM Purchasing.Suppliers\n",
    "),\n",
    "task_2 AS (\n",
    "  SELECT st.SupplierTransactionID, st.SupplierID, st.TransactionDate, st.TransactionAmount,\n",
    "         tt.TransactionTypeName\n",
    "  FROM Purchasing.SupplierTransactions AS st\n",
    "  LEFT JOIN Application.TransactionTypes AS tt ON tt.TransactionTypeID = st.TransactionTypeID\n",
    "),\n",
    "task_3 AS (\n",
    "  SELECT ch.SupplierID, ch.SupplierName, ch.ChangeDate,\n",
    "         t.SupplierTransactionID, t.TransactionDate, t.TransactionAmount, t.TransactionTypeName\n",
    "  FROM task_1 AS ch\n",
    "  JOIN task_2 AS t\n",
    "    ON t.SupplierID = ch.SupplierID\n",
    "   AND t.TransactionDate = ch.ChangeDate\n",
    "  WHERE t.TransactionAmount >= 10000.00\n",
    ")\n",
    "SELECT *\n",
    "FROM task_3\n",
    "WHERE (TransactionTypeName LIKE '%Payment%' OR TransactionTypeName LIKE '%Receipt%')\n",
    "ORDER BY ChangeDate DESC, TransactionAmount DESC;"
   ]
  }
 ],
 "metadata": {
  "language_info": {
   "name": "python"
  }
 },
 "nbformat": 4,
 "nbformat_minor": 5
}
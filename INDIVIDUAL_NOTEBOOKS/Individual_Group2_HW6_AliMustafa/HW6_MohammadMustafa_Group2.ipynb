{
 "cells": [
  {
   "cell_type": "markdown",
   "id": "68e4e587",
   "metadata": {},
   "source": [
    "# 🧩 CSCI 331 – Homework 6: Set Operators (Group 1045)\n",
    "**Student:** Ali  \n",
    "**Database:** AdventureWorks2022  \n",
    "**Focus:** Set Operators + Concepts from Chapters 1–6"
   ]
  },
  {
   "cell_type": "markdown",
   "id": "18eea086",
   "metadata": {},
   "source": [
    "### Proposition 1 – Vendors Who Are Preferred or Active\n",
    "**Functional Spec:** Uses `UNION` (Ch.6) and `WHERE` (Ch.2) to combine preferred and active vendors from `Purchasing.Vendor`."
   ]
  },
  {
   "cell_type": "code",
   "execution_count": null,
   "id": "767e0b21",
   "metadata": {},
   "outputs": [],
   "source": [
    "SELECT Name, CreditRating, 'Preferred' AS VendorType\n",
    "FROM Purchasing.Vendor\n",
    "WHERE PreferredVendorStatus = 1\n",
    "UNION\n",
    "SELECT Name, CreditRating, 'Active' AS VendorType\n",
    "FROM Purchasing.Vendor\n",
    "WHERE ActiveFlag = 1\n",
    "ORDER BY Name;"
   ]
  },
  {
   "cell_type": "markdown",
   "id": "089e71b4",
   "metadata": {},
   "source": [
    "### Proposition 2 – Vendors Who Are Both Preferred and Active\n",
    "**Functional Spec:** Uses `INTERSECT` (Ch.6) to find vendors who meet both criteria. Applies sorting with `ORDER BY` (Ch.2)."
   ]
  },
  {
   "cell_type": "code",
   "execution_count": null,
   "id": "6de7d16c",
   "metadata": {},
   "outputs": [],
   "source": [
    "SELECT Name, CreditRating\n",
    "FROM Purchasing.Vendor\n",
    "WHERE PreferredVendorStatus = 1\n",
    "INTERSECT\n",
    "SELECT Name, CreditRating\n",
    "FROM Purchasing.Vendor\n",
    "WHERE ActiveFlag = 1\n",
    "ORDER BY CreditRating DESC;"
   ]
  },
  {
   "cell_type": "markdown",
   "id": "5ae61dfe",
   "metadata": {},
   "source": [
    "### Proposition 3 – Vendors Registered but Inactive\n",
    "**Functional Spec:** Uses `EXCEPT` (Ch.6) and filtering (Ch.2) to find vendors that exist but are not active."
   ]
  },
  {
   "cell_type": "code",
   "execution_count": null,
   "id": "e1c8e40a",
   "metadata": {},
   "outputs": [],
   "source": [
    "SELECT Name\n",
    "FROM Purchasing.Vendor\n",
    "EXCEPT\n",
    "SELECT Name\n",
    "FROM Purchasing.Vendor\n",
    "WHERE ActiveFlag = 1\n",
    "ORDER BY Name;"
   ]
  },
  {
   "cell_type": "markdown",
   "id": "af936ad7",
   "metadata": {},
   "source": [
    "### Proposition 4 – Products Ordered but Not Yet Stocked\n",
    "**Functional Spec:** Combines `EXCEPT` (Ch.6) with `WHERE` and `YEAR()` (Ch.2 & Ch.4) to find recent purchase items not in inventory."
   ]
  },
  {
   "cell_type": "code",
   "execution_count": null,
   "id": "43d0e9db",
   "metadata": {},
   "outputs": [],
   "source": [
    "SELECT DISTINCT ProductID\n",
    "FROM Purchasing.PurchaseOrderDetail\n",
    "WHERE YEAR(DueDate) >= 2013\n",
    "EXCEPT\n",
    "SELECT ProductID\n",
    "FROM Production.ProductInventory;"
   ]
  },
  {
   "cell_type": "markdown",
   "id": "2936e787",
   "metadata": {},
   "source": [
    "### Proposition 5 – Products Appearing in Both Purchase Orders and Inventory\n",
    "**Functional Spec:** Uses `INTERSECT` (Ch.6) and `JOIN` (Ch.3) to find overlapping product records."
   ]
  },
  {
   "cell_type": "code",
   "execution_count": null,
   "id": "329c65a7",
   "metadata": {},
   "outputs": [],
   "source": [
    "SELECT p.ProductID, pr.Name, pr.StandardCost, pr.ListPrice\n",
    "FROM Purchasing.PurchaseOrderDetail AS p\n",
    "INTERSECT\n",
    "SELECT pi.ProductID, pr2.Name, pr2.StandardCost, pr2.ListPrice\n",
    "FROM Production.ProductInventory AS pi\n",
    "JOIN Production.Product AS pr2 ON pi.ProductID = pr2.ProductID;"
   ]
  },
  {
   "cell_type": "markdown",
   "id": "b8fb650c",
   "metadata": {},
   "source": [
    "### Proposition 6 – Expensive-for-Sale or Cheap-to-Produce Products\n",
    "**Functional Spec:** Uses `UNION` (Ch.6) with conditional filtering and computed columns from earlier chapters."
   ]
  },
  {
   "cell_type": "code",
   "execution_count": null,
   "id": "d1b63ab9",
   "metadata": {},
   "outputs": [],
   "source": [
    "SELECT ProductID, Name, ListPrice, 'High List Price' AS Category\n",
    "FROM Production.Product\n",
    "WHERE ListPrice > 1000\n",
    "UNION\n",
    "SELECT ProductID, Name, StandardCost, 'Low Cost Product' AS Category\n",
    "FROM Production.Product\n",
    "WHERE StandardCost < 100\n",
    "ORDER BY Name;"
   ]
  },
  {
   "cell_type": "markdown",
   "id": "1a486d47",
   "metadata": {},
   "source": [
    "### Proposition 7 – In-House Manufactured Products Never Purchased\n",
    "**Functional Spec:** Combines a `CTE` (Ch.5) with `EXCEPT` (Ch.6) to isolate internally produced products that were never bought externally."
   ]
  },
  {
   "cell_type": "code",
   "execution_count": null,
   "id": "53af8321",
   "metadata": {},
   "outputs": [],
   "source": [
    "WITH Manufactured AS (\n",
    "    SELECT ProductID, Name\n",
    "    FROM Production.Product\n",
    "    WHERE MakeFlag = 1\n",
    ")\n",
    "SELECT ProductID, Name\n",
    "FROM Manufactured\n",
    "EXCEPT\n",
    "SELECT DISTINCT ProductID, NULL AS Name\n",
    "FROM Purchasing.PurchaseOrderDetail;"
   ]
  },
  {
   "cell_type": "markdown",
   "id": "448a9c30",
   "metadata": {},
   "source": [
    "### Proposition 8 – Vendors Supplying Either High or Low Order Quantities\n",
    "**Functional Spec:** Uses `GROUP BY` & `HAVING` (Ch.2) with `UNION` (Ch.6) to find vendors with extreme order frequencies."
   ]
  },
  {
   "cell_type": "code",
   "execution_count": null,
   "id": "a249e087",
   "metadata": {},
   "outputs": [],
   "source": [
    "SELECT VendorID, COUNT(*) AS OrderCount\n",
    "FROM Purchasing.PurchaseOrderHeader\n",
    "GROUP BY VendorID\n",
    "HAVING COUNT(*) > 20\n",
    "UNION\n",
    "SELECT VendorID, COUNT(*) AS OrderCount\n",
    "FROM Purchasing.PurchaseOrderHeader\n",
    "GROUP BY VendorID\n",
    "HAVING COUNT(*) < 3;"
   ]
  },
  {
   "cell_type": "markdown",
   "id": "fefbb08f",
   "metadata": {},
   "source": [
    "### Proposition 9 – Discontinued Products Still Existing in Inventory\n",
    "**Functional Spec:** Uses `INTERSECT` (Ch.6) and `IS NOT NULL` (Ch.1) to identify discontinued items still physically stored."
   ]
  },
  {
   "cell_type": "code",
   "execution_count": null,
   "id": "1a0637f7",
   "metadata": {},
   "outputs": [],
   "source": [
    "SELECT ProductID\n",
    "FROM Production.Product\n",
    "WHERE DiscontinuedDate IS NOT NULL\n",
    "INTERSECT\n",
    "SELECT ProductID\n",
    "FROM Production.ProductInventory;"
   ]
  },
  {
   "cell_type": "markdown",
   "id": "3255658e",
   "metadata": {},
   "source": [
    "### Proposition 10 – Active Products Never Purchased\n",
    "**Functional Spec:** Uses `EXCEPT` (Ch.6), `IS NULL` (Ch.1), and date validation (Ch.4) to find sellable items that have no purchase record."
   ]
  },
  {
   "cell_type": "code",
   "execution_count": null,
   "id": "f1d30e82",
   "metadata": {},
   "outputs": [],
   "source": [
    "SELECT ProductID, Name\n",
    "FROM Production.Product\n",
    "WHERE DiscontinuedDate IS NULL AND SellStartDate <= GETDATE()\n",
    "EXCEPT\n",
    "SELECT DISTINCT ProductID, NULL AS Name\n",
    "FROM Purchasing.PurchaseOrderDetail;"
   ]
  }
 ],
 "metadata": {},
 "nbformat": 4,
 "nbformat_minor": 5
}
